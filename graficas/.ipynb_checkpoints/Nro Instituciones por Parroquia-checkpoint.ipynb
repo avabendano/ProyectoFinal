{
 "cells": [
  {
   "cell_type": "markdown",
   "metadata": {},
   "source": [
    "# Representación del número de Instituciones por Parroquia en la Provincia de Loja\n",
    "Mediante esta grafica se intenta determinar en que parroquia se encuentra el mayor numero de Instituciones Educativas."
   ]
  },
  {
   "cell_type": "markdown",
   "metadata": {},
   "source": [
    "## Importacion de librerias\n",
    "Un ejemplo de las librerias que podemos importar para trabajar con **Bokeh** y **Pandas**."
   ]
  },
  {
   "cell_type": "code",
   "execution_count": 1,
   "metadata": {},
   "outputs": [],
   "source": [
    "#!/usr/bin/python\n",
    "# -*- coding: utf-8 -*-\n",
    "# Victoria\n",
    "\n",
    "import pandas as pd\n",
    "\n",
    "from bokeh.layouts import layout\n",
    "from bokeh.plotting import figure, show, output_notebook\n",
    "from bokeh.models import ColumnDataSource, FactorRange\n",
    "from bokeh.models.tools import HoverTool\n",
    "from bokeh.transform import factor_cmap\n",
    "\n",
    "from lib.colores import *"
   ]
  },
  {
   "cell_type": "markdown",
   "metadata": {},
   "source": [
    "## Asignar la salida de los graficos al propio notebook"
   ]
  },
  {
   "cell_type": "code",
   "execution_count": 2,
   "metadata": {},
   "outputs": [
    {
     "data": {
      "text/html": [
       "\n",
       "    <div class=\"bk-root\">\n",
       "        <a href=\"https://bokeh.pydata.org\" target=\"_blank\" class=\"bk-logo bk-logo-small bk-logo-notebook\"></a>\n",
       "        <span id=\"1001\">Loading BokehJS ...</span>\n",
       "    </div>"
      ]
     },
     "metadata": {},
     "output_type": "display_data"
    },
    {
     "data": {
      "application/javascript": [
       "\n",
       "(function(root) {\n",
       "  function now() {\n",
       "    return new Date();\n",
       "  }\n",
       "\n",
       "  var force = true;\n",
       "\n",
       "  if (typeof (root._bokeh_onload_callbacks) === \"undefined\" || force === true) {\n",
       "    root._bokeh_onload_callbacks = [];\n",
       "    root._bokeh_is_loading = undefined;\n",
       "  }\n",
       "\n",
       "  var JS_MIME_TYPE = 'application/javascript';\n",
       "  var HTML_MIME_TYPE = 'text/html';\n",
       "  var EXEC_MIME_TYPE = 'application/vnd.bokehjs_exec.v0+json';\n",
       "  var CLASS_NAME = 'output_bokeh rendered_html';\n",
       "\n",
       "  /**\n",
       "   * Render data to the DOM node\n",
       "   */\n",
       "  function render(props, node) {\n",
       "    var script = document.createElement(\"script\");\n",
       "    node.appendChild(script);\n",
       "  }\n",
       "\n",
       "  /**\n",
       "   * Handle when an output is cleared or removed\n",
       "   */\n",
       "  function handleClearOutput(event, handle) {\n",
       "    var cell = handle.cell;\n",
       "\n",
       "    var id = cell.output_area._bokeh_element_id;\n",
       "    var server_id = cell.output_area._bokeh_server_id;\n",
       "    // Clean up Bokeh references\n",
       "    if (id != null && id in Bokeh.index) {\n",
       "      Bokeh.index[id].model.document.clear();\n",
       "      delete Bokeh.index[id];\n",
       "    }\n",
       "\n",
       "    if (server_id !== undefined) {\n",
       "      // Clean up Bokeh references\n",
       "      var cmd = \"from bokeh.io.state import curstate; print(curstate().uuid_to_server['\" + server_id + \"'].get_sessions()[0].document.roots[0]._id)\";\n",
       "      cell.notebook.kernel.execute(cmd, {\n",
       "        iopub: {\n",
       "          output: function(msg) {\n",
       "            var id = msg.content.text.trim();\n",
       "            if (id in Bokeh.index) {\n",
       "              Bokeh.index[id].model.document.clear();\n",
       "              delete Bokeh.index[id];\n",
       "            }\n",
       "          }\n",
       "        }\n",
       "      });\n",
       "      // Destroy server and session\n",
       "      var cmd = \"import bokeh.io.notebook as ion; ion.destroy_server('\" + server_id + \"')\";\n",
       "      cell.notebook.kernel.execute(cmd);\n",
       "    }\n",
       "  }\n",
       "\n",
       "  /**\n",
       "   * Handle when a new output is added\n",
       "   */\n",
       "  function handleAddOutput(event, handle) {\n",
       "    var output_area = handle.output_area;\n",
       "    var output = handle.output;\n",
       "\n",
       "    // limit handleAddOutput to display_data with EXEC_MIME_TYPE content only\n",
       "    if ((output.output_type != \"display_data\") || (!output.data.hasOwnProperty(EXEC_MIME_TYPE))) {\n",
       "      return\n",
       "    }\n",
       "\n",
       "    var toinsert = output_area.element.find(\".\" + CLASS_NAME.split(' ')[0]);\n",
       "\n",
       "    if (output.metadata[EXEC_MIME_TYPE][\"id\"] !== undefined) {\n",
       "      toinsert[toinsert.length - 1].firstChild.textContent = output.data[JS_MIME_TYPE];\n",
       "      // store reference to embed id on output_area\n",
       "      output_area._bokeh_element_id = output.metadata[EXEC_MIME_TYPE][\"id\"];\n",
       "    }\n",
       "    if (output.metadata[EXEC_MIME_TYPE][\"server_id\"] !== undefined) {\n",
       "      var bk_div = document.createElement(\"div\");\n",
       "      bk_div.innerHTML = output.data[HTML_MIME_TYPE];\n",
       "      var script_attrs = bk_div.children[0].attributes;\n",
       "      for (var i = 0; i < script_attrs.length; i++) {\n",
       "        toinsert[toinsert.length - 1].firstChild.setAttribute(script_attrs[i].name, script_attrs[i].value);\n",
       "      }\n",
       "      // store reference to server id on output_area\n",
       "      output_area._bokeh_server_id = output.metadata[EXEC_MIME_TYPE][\"server_id\"];\n",
       "    }\n",
       "  }\n",
       "\n",
       "  function register_renderer(events, OutputArea) {\n",
       "\n",
       "    function append_mime(data, metadata, element) {\n",
       "      // create a DOM node to render to\n",
       "      var toinsert = this.create_output_subarea(\n",
       "        metadata,\n",
       "        CLASS_NAME,\n",
       "        EXEC_MIME_TYPE\n",
       "      );\n",
       "      this.keyboard_manager.register_events(toinsert);\n",
       "      // Render to node\n",
       "      var props = {data: data, metadata: metadata[EXEC_MIME_TYPE]};\n",
       "      render(props, toinsert[toinsert.length - 1]);\n",
       "      element.append(toinsert);\n",
       "      return toinsert\n",
       "    }\n",
       "\n",
       "    /* Handle when an output is cleared or removed */\n",
       "    events.on('clear_output.CodeCell', handleClearOutput);\n",
       "    events.on('delete.Cell', handleClearOutput);\n",
       "\n",
       "    /* Handle when a new output is added */\n",
       "    events.on('output_added.OutputArea', handleAddOutput);\n",
       "\n",
       "    /**\n",
       "     * Register the mime type and append_mime function with output_area\n",
       "     */\n",
       "    OutputArea.prototype.register_mime_type(EXEC_MIME_TYPE, append_mime, {\n",
       "      /* Is output safe? */\n",
       "      safe: true,\n",
       "      /* Index of renderer in `output_area.display_order` */\n",
       "      index: 0\n",
       "    });\n",
       "  }\n",
       "\n",
       "  // register the mime type if in Jupyter Notebook environment and previously unregistered\n",
       "  if (root.Jupyter !== undefined) {\n",
       "    var events = require('base/js/events');\n",
       "    var OutputArea = require('notebook/js/outputarea').OutputArea;\n",
       "\n",
       "    if (OutputArea.prototype.mime_types().indexOf(EXEC_MIME_TYPE) == -1) {\n",
       "      register_renderer(events, OutputArea);\n",
       "    }\n",
       "  }\n",
       "\n",
       "  \n",
       "  if (typeof (root._bokeh_timeout) === \"undefined\" || force === true) {\n",
       "    root._bokeh_timeout = Date.now() + 5000;\n",
       "    root._bokeh_failed_load = false;\n",
       "  }\n",
       "\n",
       "  var NB_LOAD_WARNING = {'data': {'text/html':\n",
       "     \"<div style='background-color: #fdd'>\\n\"+\n",
       "     \"<p>\\n\"+\n",
       "     \"BokehJS does not appear to have successfully loaded. If loading BokehJS from CDN, this \\n\"+\n",
       "     \"may be due to a slow or bad network connection. Possible fixes:\\n\"+\n",
       "     \"</p>\\n\"+\n",
       "     \"<ul>\\n\"+\n",
       "     \"<li>re-rerun `output_notebook()` to attempt to load from CDN again, or</li>\\n\"+\n",
       "     \"<li>use INLINE resources instead, as so:</li>\\n\"+\n",
       "     \"</ul>\\n\"+\n",
       "     \"<code>\\n\"+\n",
       "     \"from bokeh.resources import INLINE\\n\"+\n",
       "     \"output_notebook(resources=INLINE)\\n\"+\n",
       "     \"</code>\\n\"+\n",
       "     \"</div>\"}};\n",
       "\n",
       "  function display_loaded() {\n",
       "    var el = document.getElementById(\"1001\");\n",
       "    if (el != null) {\n",
       "      el.textContent = \"BokehJS is loading...\";\n",
       "    }\n",
       "    if (root.Bokeh !== undefined) {\n",
       "      if (el != null) {\n",
       "        el.textContent = \"BokehJS \" + root.Bokeh.version + \" successfully loaded.\";\n",
       "      }\n",
       "    } else if (Date.now() < root._bokeh_timeout) {\n",
       "      setTimeout(display_loaded, 100)\n",
       "    }\n",
       "  }\n",
       "\n",
       "\n",
       "  function run_callbacks() {\n",
       "    try {\n",
       "      root._bokeh_onload_callbacks.forEach(function(callback) { callback() });\n",
       "    }\n",
       "    finally {\n",
       "      delete root._bokeh_onload_callbacks\n",
       "    }\n",
       "    console.info(\"Bokeh: all callbacks have finished\");\n",
       "  }\n",
       "\n",
       "  function load_libs(js_urls, callback) {\n",
       "    root._bokeh_onload_callbacks.push(callback);\n",
       "    if (root._bokeh_is_loading > 0) {\n",
       "      console.log(\"Bokeh: BokehJS is being loaded, scheduling callback at\", now());\n",
       "      return null;\n",
       "    }\n",
       "    if (js_urls == null || js_urls.length === 0) {\n",
       "      run_callbacks();\n",
       "      return null;\n",
       "    }\n",
       "    console.log(\"Bokeh: BokehJS not loaded, scheduling load and callback at\", now());\n",
       "    root._bokeh_is_loading = js_urls.length;\n",
       "    for (var i = 0; i < js_urls.length; i++) {\n",
       "      var url = js_urls[i];\n",
       "      var s = document.createElement('script');\n",
       "      s.src = url;\n",
       "      s.async = false;\n",
       "      s.onreadystatechange = s.onload = function() {\n",
       "        root._bokeh_is_loading--;\n",
       "        if (root._bokeh_is_loading === 0) {\n",
       "          console.log(\"Bokeh: all BokehJS libraries loaded\");\n",
       "          run_callbacks()\n",
       "        }\n",
       "      };\n",
       "      s.onerror = function() {\n",
       "        console.warn(\"failed to load library \" + url);\n",
       "      };\n",
       "      console.log(\"Bokeh: injecting script tag for BokehJS library: \", url);\n",
       "      document.getElementsByTagName(\"head\")[0].appendChild(s);\n",
       "    }\n",
       "  };var element = document.getElementById(\"1001\");\n",
       "  if (element == null) {\n",
       "    console.log(\"Bokeh: ERROR: autoload.js configured with elementid '1001' but no matching script tag was found. \")\n",
       "    return false;\n",
       "  }\n",
       "\n",
       "  var js_urls = [\"https://cdn.pydata.org/bokeh/release/bokeh-1.0.4.min.js\", \"https://cdn.pydata.org/bokeh/release/bokeh-widgets-1.0.4.min.js\", \"https://cdn.pydata.org/bokeh/release/bokeh-tables-1.0.4.min.js\", \"https://cdn.pydata.org/bokeh/release/bokeh-gl-1.0.4.min.js\"];\n",
       "\n",
       "  var inline_js = [\n",
       "    function(Bokeh) {\n",
       "      Bokeh.set_log_level(\"info\");\n",
       "    },\n",
       "    \n",
       "    function(Bokeh) {\n",
       "      \n",
       "    },\n",
       "    function(Bokeh) {\n",
       "      console.log(\"Bokeh: injecting CSS: https://cdn.pydata.org/bokeh/release/bokeh-1.0.4.min.css\");\n",
       "      Bokeh.embed.inject_css(\"https://cdn.pydata.org/bokeh/release/bokeh-1.0.4.min.css\");\n",
       "      console.log(\"Bokeh: injecting CSS: https://cdn.pydata.org/bokeh/release/bokeh-widgets-1.0.4.min.css\");\n",
       "      Bokeh.embed.inject_css(\"https://cdn.pydata.org/bokeh/release/bokeh-widgets-1.0.4.min.css\");\n",
       "      console.log(\"Bokeh: injecting CSS: https://cdn.pydata.org/bokeh/release/bokeh-tables-1.0.4.min.css\");\n",
       "      Bokeh.embed.inject_css(\"https://cdn.pydata.org/bokeh/release/bokeh-tables-1.0.4.min.css\");\n",
       "    }\n",
       "  ];\n",
       "\n",
       "  function run_inline_js() {\n",
       "    \n",
       "    if ((root.Bokeh !== undefined) || (force === true)) {\n",
       "      for (var i = 0; i < inline_js.length; i++) {\n",
       "        inline_js[i].call(root, root.Bokeh);\n",
       "      }if (force === true) {\n",
       "        display_loaded();\n",
       "      }} else if (Date.now() < root._bokeh_timeout) {\n",
       "      setTimeout(run_inline_js, 100);\n",
       "    } else if (!root._bokeh_failed_load) {\n",
       "      console.log(\"Bokeh: BokehJS failed to load within specified timeout.\");\n",
       "      root._bokeh_failed_load = true;\n",
       "    } else if (force !== true) {\n",
       "      var cell = $(document.getElementById(\"1001\")).parents('.cell').data().cell;\n",
       "      cell.output_area.append_execute_result(NB_LOAD_WARNING)\n",
       "    }\n",
       "\n",
       "  }\n",
       "\n",
       "  if (root._bokeh_is_loading === 0) {\n",
       "    console.log(\"Bokeh: BokehJS loaded, going straight to plotting\");\n",
       "    run_inline_js();\n",
       "  } else {\n",
       "    load_libs(js_urls, function() {\n",
       "      console.log(\"Bokeh: BokehJS plotting callback run at\", now());\n",
       "      run_inline_js();\n",
       "    });\n",
       "  }\n",
       "}(window));"
      ],
      "application/vnd.bokehjs_load.v0+json": "\n(function(root) {\n  function now() {\n    return new Date();\n  }\n\n  var force = true;\n\n  if (typeof (root._bokeh_onload_callbacks) === \"undefined\" || force === true) {\n    root._bokeh_onload_callbacks = [];\n    root._bokeh_is_loading = undefined;\n  }\n\n  \n\n  \n  if (typeof (root._bokeh_timeout) === \"undefined\" || force === true) {\n    root._bokeh_timeout = Date.now() + 5000;\n    root._bokeh_failed_load = false;\n  }\n\n  var NB_LOAD_WARNING = {'data': {'text/html':\n     \"<div style='background-color: #fdd'>\\n\"+\n     \"<p>\\n\"+\n     \"BokehJS does not appear to have successfully loaded. If loading BokehJS from CDN, this \\n\"+\n     \"may be due to a slow or bad network connection. Possible fixes:\\n\"+\n     \"</p>\\n\"+\n     \"<ul>\\n\"+\n     \"<li>re-rerun `output_notebook()` to attempt to load from CDN again, or</li>\\n\"+\n     \"<li>use INLINE resources instead, as so:</li>\\n\"+\n     \"</ul>\\n\"+\n     \"<code>\\n\"+\n     \"from bokeh.resources import INLINE\\n\"+\n     \"output_notebook(resources=INLINE)\\n\"+\n     \"</code>\\n\"+\n     \"</div>\"}};\n\n  function display_loaded() {\n    var el = document.getElementById(\"1001\");\n    if (el != null) {\n      el.textContent = \"BokehJS is loading...\";\n    }\n    if (root.Bokeh !== undefined) {\n      if (el != null) {\n        el.textContent = \"BokehJS \" + root.Bokeh.version + \" successfully loaded.\";\n      }\n    } else if (Date.now() < root._bokeh_timeout) {\n      setTimeout(display_loaded, 100)\n    }\n  }\n\n\n  function run_callbacks() {\n    try {\n      root._bokeh_onload_callbacks.forEach(function(callback) { callback() });\n    }\n    finally {\n      delete root._bokeh_onload_callbacks\n    }\n    console.info(\"Bokeh: all callbacks have finished\");\n  }\n\n  function load_libs(js_urls, callback) {\n    root._bokeh_onload_callbacks.push(callback);\n    if (root._bokeh_is_loading > 0) {\n      console.log(\"Bokeh: BokehJS is being loaded, scheduling callback at\", now());\n      return null;\n    }\n    if (js_urls == null || js_urls.length === 0) {\n      run_callbacks();\n      return null;\n    }\n    console.log(\"Bokeh: BokehJS not loaded, scheduling load and callback at\", now());\n    root._bokeh_is_loading = js_urls.length;\n    for (var i = 0; i < js_urls.length; i++) {\n      var url = js_urls[i];\n      var s = document.createElement('script');\n      s.src = url;\n      s.async = false;\n      s.onreadystatechange = s.onload = function() {\n        root._bokeh_is_loading--;\n        if (root._bokeh_is_loading === 0) {\n          console.log(\"Bokeh: all BokehJS libraries loaded\");\n          run_callbacks()\n        }\n      };\n      s.onerror = function() {\n        console.warn(\"failed to load library \" + url);\n      };\n      console.log(\"Bokeh: injecting script tag for BokehJS library: \", url);\n      document.getElementsByTagName(\"head\")[0].appendChild(s);\n    }\n  };var element = document.getElementById(\"1001\");\n  if (element == null) {\n    console.log(\"Bokeh: ERROR: autoload.js configured with elementid '1001' but no matching script tag was found. \")\n    return false;\n  }\n\n  var js_urls = [\"https://cdn.pydata.org/bokeh/release/bokeh-1.0.4.min.js\", \"https://cdn.pydata.org/bokeh/release/bokeh-widgets-1.0.4.min.js\", \"https://cdn.pydata.org/bokeh/release/bokeh-tables-1.0.4.min.js\", \"https://cdn.pydata.org/bokeh/release/bokeh-gl-1.0.4.min.js\"];\n\n  var inline_js = [\n    function(Bokeh) {\n      Bokeh.set_log_level(\"info\");\n    },\n    \n    function(Bokeh) {\n      \n    },\n    function(Bokeh) {\n      console.log(\"Bokeh: injecting CSS: https://cdn.pydata.org/bokeh/release/bokeh-1.0.4.min.css\");\n      Bokeh.embed.inject_css(\"https://cdn.pydata.org/bokeh/release/bokeh-1.0.4.min.css\");\n      console.log(\"Bokeh: injecting CSS: https://cdn.pydata.org/bokeh/release/bokeh-widgets-1.0.4.min.css\");\n      Bokeh.embed.inject_css(\"https://cdn.pydata.org/bokeh/release/bokeh-widgets-1.0.4.min.css\");\n      console.log(\"Bokeh: injecting CSS: https://cdn.pydata.org/bokeh/release/bokeh-tables-1.0.4.min.css\");\n      Bokeh.embed.inject_css(\"https://cdn.pydata.org/bokeh/release/bokeh-tables-1.0.4.min.css\");\n    }\n  ];\n\n  function run_inline_js() {\n    \n    if ((root.Bokeh !== undefined) || (force === true)) {\n      for (var i = 0; i < inline_js.length; i++) {\n        inline_js[i].call(root, root.Bokeh);\n      }if (force === true) {\n        display_loaded();\n      }} else if (Date.now() < root._bokeh_timeout) {\n      setTimeout(run_inline_js, 100);\n    } else if (!root._bokeh_failed_load) {\n      console.log(\"Bokeh: BokehJS failed to load within specified timeout.\");\n      root._bokeh_failed_load = true;\n    } else if (force !== true) {\n      var cell = $(document.getElementById(\"1001\")).parents('.cell').data().cell;\n      cell.output_area.append_execute_result(NB_LOAD_WARNING)\n    }\n\n  }\n\n  if (root._bokeh_is_loading === 0) {\n    console.log(\"Bokeh: BokehJS loaded, going straight to plotting\");\n    run_inline_js();\n  } else {\n    load_libs(js_urls, function() {\n      console.log(\"Bokeh: BokehJS plotting callback run at\", now());\n      run_inline_js();\n    });\n  }\n}(window));"
     },
     "metadata": {},
     "output_type": "display_data"
    }
   ],
   "source": [
    "output_notebook()"
   ]
  },
  {
   "cell_type": "markdown",
   "metadata": {},
   "source": [
    "## Lectura del Arvhivo CSV"
   ]
  },
  {
   "cell_type": "code",
   "execution_count": 3,
   "metadata": {},
   "outputs": [],
   "source": [
    "df = pd.read_csv('data/fuente2.csv', sep=';', encoding='windows-1252')"
   ]
  },
  {
   "cell_type": "markdown",
   "metadata": {},
   "source": [
    "## Agrupación mediante el metodo groupby\n",
    "Agrupamos los datos por las columnas `Canton` y `Parroquia` se obtiene la cuenta de cada columna."
   ]
  },
  {
   "cell_type": "code",
   "execution_count": 4,
   "metadata": {},
   "outputs": [],
   "source": [
    "grupo = df.groupby(['Canton','Parroquia']).count()"
   ]
  },
  {
   "cell_type": "markdown",
   "metadata": {},
   "source": [
    "## Factores\n",
    "Se crea una lista de factores unicos de los cantones"
   ]
  },
  {
   "cell_type": "code",
   "execution_count": 5,
   "metadata": {},
   "outputs": [
    {
     "data": {
      "text/plain": [
       "['CALVAS',\n",
       " 'CATAMAYO',\n",
       " 'CELICA',\n",
       " 'CHAGUARPAMBA',\n",
       " 'ESPINDOLA',\n",
       " 'GONZANAMA',\n",
       " 'LOJA',\n",
       " 'MACARA',\n",
       " 'OLMEDO',\n",
       " 'PALTAS',\n",
       " 'PINDAL',\n",
       " 'PUYANGO',\n",
       " 'QUILANGA',\n",
       " 'SARAGURO',\n",
       " 'SOZORANGA',\n",
       " 'ZAPOTILLO']"
      ]
     },
     "execution_count": 5,
     "metadata": {},
     "output_type": "execute_result"
    }
   ],
   "source": [
    "cantones = sorted(df.Canton.unique())\n",
    "cantones"
   ]
  },
  {
   "cell_type": "markdown",
   "metadata": {},
   "source": [
    "## Se convierten los DataFrames a datos de Bokeh\n",
    "Mediante el objeto `ColumnDataSource` se convierte los datos de un `DataFrame` a datos de columnas, que es el formato en que trabaja **Bokeh**"
   ]
  },
  {
   "cell_type": "code",
   "execution_count": 6,
   "metadata": {},
   "outputs": [],
   "source": [
    "source = ColumnDataSource(grupo)"
   ]
  },
  {
   "cell_type": "markdown",
   "metadata": {},
   "source": [
    "## Configuración de colores\n",
    "### Creamos un objeto factor_cmap\n",
    "Este metodo asigna a cada factor unico un color.\n",
    "\n",
    "#### Ejemplo\n",
    "Una lista de 3 colores \\[azul, verde, rojo\\] y una lista de factores unicos \\['Fiscal', 'Laico', 'Religioso'\\]\n",
    "##### Resultado\n",
    "- Fiscal -> azul\n",
    "- Laico -> verde\n",
    "- Religioso -> rojo"
   ]
  },
  {
   "cell_type": "code",
   "execution_count": 7,
   "metadata": {},
   "outputs": [],
   "source": [
    "factores = list(source.data['Canton_Parroquia'])\n",
    "colores = factor_cmap('Canton_Parroquia', palette=legend16(len(cantones)), factors=cantones, end=1)"
   ]
  },
  {
   "cell_type": "markdown",
   "metadata": {},
   "source": [
    "## Se crea el objeto figure\n",
    "Se crea un objeto figure con una configuracion incial.\n",
    "\n",
    "Se configuran el rango x con los factores se usa `*` para desempaquetar la lista, en tools se configuran las herrramientas que se podran usar en la grafica y active_scroll configura que el zoom con la rueda del mouse este activo desde el comienzo y este solo pueda ser verticalmente."
   ]
  },
  {
   "cell_type": "code",
   "execution_count": 8,
   "metadata": {},
   "outputs": [],
   "source": [
    "p = figure(y_range=FactorRange(*factores), width=600, height=800, tools='ypan,box_zoom,ywheel_zoom,reset', active_scroll='ywheel_zoom')\n",
    "\n",
    "# Se crea el grafico de barras horizontales\n",
    "p.hbar(y='Canton_Parroquia', right='URI_Name', height=0.7, alpha=0.5, fill_color=colores, source=source)\n",
    "\n",
    "# Se configura que la vista comience en 0\n",
    "p.x_range.start = 0\n",
    "p.y_range.range_padding = 0.01\n",
    "\n",
    "# Configura que la rejilla no se vea\n",
    "p.ygrid.grid_line_color = None\n",
    "\n",
    "# Se configura el toolbar para que se oculte cuando el mouse no esta encima de la grafica\n",
    "p.toolbar.autohide = True"
   ]
  },
  {
   "cell_type": "markdown",
   "metadata": {},
   "source": [
    "## Configurando la grafica"
   ]
  },
  {
   "cell_type": "code",
   "execution_count": 9,
   "metadata": {},
   "outputs": [],
   "source": [
    "# Se establece el titulo de la grafica\n",
    "p.title.text='# de Instituciones Educativas por Provincia'\n",
    "\n",
    "# Se etablcen las etiquetas para los ejes\n",
    "p.xaxis.axis_label = '# de Instituciones'\n",
    "p.yaxis.axis_label = 'Cantón/Provincia'"
   ]
  },
  {
   "cell_type": "markdown",
   "metadata": {},
   "source": [
    "## Configuracion de la vista\n",
    "Se configura las pocisiones de la grafica.\n",
    "\n",
    "Se pasa la configuracion scale_width para que la vizualizacion de adapte al ancho del contendor y de la pantalla."
   ]
  },
  {
   "cell_type": "code",
   "execution_count": 10,
   "metadata": {},
   "outputs": [],
   "source": [
    "lienzo = layout([\n",
    "    [p]\n",
    "], sizing_mode='scale_width')"
   ]
  },
  {
   "cell_type": "markdown",
   "metadata": {},
   "source": [
    "## Mostramos los resultados"
   ]
  },
  {
   "cell_type": "code",
   "execution_count": 11,
   "metadata": {},
   "outputs": [
    {
     "data": {
      "text/html": [
       "\n",
       "\n",
       "\n",
       "\n",
       "\n",
       "\n",
       "  <div class=\"bk-root\" id=\"d61fcd97-29dd-4a5f-8c95-39863f7d6706\" data-root-id=\"1041\"></div>\n"
      ]
     },
     "metadata": {},
     "output_type": "display_data"
    },
    {
     "data": {
      "application/javascript": [
       "(function(root) {\n",
       "  function embed_document(root) {\n",
       "    \n",
       "  var docs_json = {\"6cad4a9b-862c-41a1-a42a-3b19b903b5db\":{\"roots\":{\"references\":[{\"attributes\":{\"children\":[{\"id\":\"1040\",\"type\":\"Row\"}],\"sizing_mode\":\"scale_width\"},\"id\":\"1041\",\"type\":\"Column\"},{\"attributes\":{},\"id\":\"1047\",\"type\":\"CategoricalTickFormatter\"},{\"attributes\":{},\"id\":\"1025\",\"type\":\"ResetTool\"},{\"attributes\":{},\"id\":\"1049\",\"type\":\"UnionRenderers\"},{\"attributes\":{\"axis_label\":\"Cant\\u00f3n/Provincia\",\"formatter\":{\"id\":\"1047\",\"type\":\"CategoricalTickFormatter\"},\"plot\":{\"id\":\"1005\",\"subtype\":\"Figure\",\"type\":\"Plot\"},\"ticker\":{\"id\":\"1019\",\"type\":\"CategoricalTicker\"}},\"id\":\"1018\",\"type\":\"CategoricalAxis\"},{\"attributes\":{\"callback\":null,\"data\":{\"Canton_Parroquia\":[[\"CALVAS\",\"CARIAMANGA\"],[\"CALVAS\",\"COLAISACA\"],[\"CALVAS\",\"ELLUCERO\"],[\"CALVAS\",\"SANGUILLIN\"],[\"CALVAS\",\"SANVICENTE\"],[\"CALVAS\",\"UTUANA\"],[\"CATAMAYO\",\"CATAMAYO\"],[\"CATAMAYO\",\"ELTAMBO\"],[\"CATAMAYO\",\"SANPEDRODELABENDITA\"],[\"CATAMAYO\",\"ZAMBI\"],[\"CELICA\",\"CELICA\"],[\"CELICA\",\"CRUZPAMBA\"],[\"CELICA\",\"POZUL(SANJUANDEPOZUL)\"],[\"CELICA\",\"SABANILLA\"],[\"CHAGUARPAMBA\",\"BUENAVISTA\"],[\"CHAGUARPAMBA\",\"CHAGUARPAMBA\"],[\"CHAGUARPAMBA\",\"SANTARUFINA\"],[\"ESPINDOLA\",\"27DEABRIL\"],[\"ESPINDOLA\",\"AMALUZA\"],[\"ESPINDOLA\",\"BELLAVISTA\"],[\"ESPINDOLA\",\"ELAIRO\"],[\"ESPINDOLA\",\"ELINGENIO\"],[\"ESPINDOLA\",\"JIMBURA\"],[\"ESPINDOLA\",\"SANTATERESITA\"],[\"GONZANAMA\",\"CHANGAIMINA(LALIBERTAD)\"],[\"GONZANAMA\",\"GONZANAMA\"],[\"GONZANAMA\",\"NAMBACOLA\"],[\"GONZANAMA\",\"PURUNUMA(EGUIGUREN)\"],[\"GONZANAMA\",\"SACAPALCA\"],[\"LOJA\",\"CHANTACO\"],[\"LOJA\",\"CHUQUIRIBAMBA\"],[\"LOJA\",\"ELCISNE\"],[\"LOJA\",\"ELSAGRARIO\"],[\"LOJA\",\"GUALEL\"],[\"LOJA\",\"JIMBILLA\"],[\"LOJA\",\"MALACATOS(VALLADOLID)\"],[\"LOJA\",\"QUINARA\"],[\"LOJA\",\"SANLUCAS\"],[\"LOJA\",\"SANPEDRODEVILCABAMBA\"],[\"LOJA\",\"SANSEBASTIAN\"],[\"LOJA\",\"SANTIAGO\"],[\"LOJA\",\"SUCRE\"],[\"LOJA\",\"TAQUIL(MIGUELRIOFRIO)\"],[\"LOJA\",\"VALLE\"],[\"LOJA\",\"VILCABAMBA(VICTORIA)\"],[\"LOJA\",\"YANGANA(ARSENIOCASTILLO)\"],[\"MACARA\",\"GENERALELOYALFARO(SANSEBASTIAN)\"],[\"MACARA\",\"LAVICTORIA\"],[\"MACARA\",\"MACARA(MANUELENRIQUERENGELSUQUILANDA)\"],[\"MACARA\",\"SABIANGO(LACAPILLA)\"],[\"OLMEDO\",\"LATINGUE\"],[\"OLMEDO\",\"OLMEDO\"],[\"PALTAS\",\"CANGONAMA\"],[\"PALTAS\",\"CASANGA\"],[\"PALTAS\",\"CATACOCHA\"],[\"PALTAS\",\"GUACHANAMA\"],[\"PALTAS\",\"LAUROGUERRERO\"],[\"PALTAS\",\"LOURDES\"],[\"PALTAS\",\"ORIANGA\"],[\"PALTAS\",\"SANANTONIO\"],[\"PALTAS\",\"YAMANA\"],[\"PINDAL\",\"12DEDICIEMBRE\"],[\"PINDAL\",\"CHAQUINAL\"],[\"PINDAL\",\"PINDAL\"],[\"PUYANGO\",\"ALAMOR\"],[\"PUYANGO\",\"CIANO\"],[\"PUYANGO\",\"ELARENAL\"],[\"PUYANGO\",\"ELLIMO(MARIANADEJESUS)\"],[\"PUYANGO\",\"MERCADILLO\"],[\"PUYANGO\",\"VICENTINO\"],[\"QUILANGA\",\"QUILANGA\"],[\"QUILANGA\",\"SANANTONIODELASARADAS\"],[\"SARAGURO\",\"ELPARAISODECELEN\"],[\"SARAGURO\",\"LLUZHAPA\"],[\"SARAGURO\",\"MANU\"],[\"SARAGURO\",\"SANPABLODETENTA\"],[\"SARAGURO\",\"SARAGURO\"],[\"SARAGURO\",\"SELVAALEGRE\"],[\"SARAGURO\",\"SUMAYPAMBA\"],[\"SARAGURO\",\"URDANETA(PAQUISHAPA)\"],[\"SOZORANGA\",\"NUEVAFATIMA\"],[\"SOZORANGA\",\"SOZORANGA\"],[\"SOZORANGA\",\"TACAMOROS\"],[\"ZAPOTILLO\",\"BOLASPAMBA\"],[\"ZAPOTILLO\",\"CAZADEROS(CAB.ENMANGAURCO)\"],[\"ZAPOTILLO\",\"LIMONES\"],[\"ZAPOTILLO\",\"PALETILLAS\"],[\"ZAPOTILLO\",\"ZAPOTILLO\"]],\"Direccion\":[3,2,1,1,1,1,5,2,1,1,3,1,1,1,1,2,1,1,3,2,1,1,1,2,1,2,1,1,1,1,1,2,11,1,1,3,1,2,1,11,1,8,1,14,1,1,1,1,3,1,1,1,1,2,1,1,1,3,1,1,1,1,1,1,3,1,1,1,1,1,1,1,1,1,1,1,6,1,1,1,1,1,2,1,1,1,1,2],\"DocentesFemenino\":[3,2,1,1,1,1,5,2,1,1,3,1,1,1,1,2,1,1,3,2,1,1,1,2,1,2,1,1,1,1,1,2,11,1,1,3,1,2,1,11,1,8,1,14,1,1,1,1,3,1,1,1,1,2,1,1,1,3,1,1,1,1,1,1,3,1,1,1,1,1,1,1,1,1,1,1,6,1,1,1,1,1,2,1,1,1,1,2],\"DocentesMasculino\":[3,2,1,1,1,1,5,2,1,1,3,1,1,1,1,2,1,1,3,2,1,1,1,2,1,2,1,1,1,1,1,2,11,1,1,3,1,2,1,11,1,8,1,14,1,1,1,1,3,1,1,1,1,2,1,1,1,3,1,1,1,1,1,1,3,1,1,1,1,1,1,1,1,1,1,1,6,1,1,1,1,1,2,1,1,1,1,2],\"EstudiantesFemenino\":[3,2,1,1,1,1,5,2,1,1,3,1,1,1,1,2,1,1,3,2,1,1,1,2,1,2,1,1,1,1,1,2,11,1,1,3,1,2,1,11,1,8,1,13,1,1,1,1,3,1,1,1,1,2,1,1,1,3,1,1,1,1,1,1,3,1,1,1,1,1,1,1,1,1,1,1,6,1,1,1,1,1,2,1,1,1,1,2],\"EstudiantesMasculino\":[3,2,1,1,1,1,5,2,1,1,3,1,1,1,1,2,1,1,3,2,1,1,1,2,1,2,1,1,1,1,1,2,11,1,1,3,1,2,1,11,1,8,1,14,1,1,1,1,3,1,1,1,1,2,1,1,1,3,1,1,1,1,1,1,3,1,1,1,1,1,1,1,1,1,1,1,6,1,1,1,1,1,2,1,1,1,1,2],\"JornadaLaboral\":[3,2,1,1,1,1,5,2,1,1,3,1,1,1,1,2,1,1,3,2,1,1,1,2,1,2,1,1,1,1,1,2,11,1,1,3,1,2,1,11,1,8,1,14,1,1,1,1,3,1,1,1,1,2,1,1,1,3,1,1,1,1,1,1,3,1,1,1,1,1,1,1,1,1,1,1,6,1,1,1,1,1,2,1,1,1,1,2],\"Latitud\":[3,2,1,1,1,1,5,2,1,1,3,1,1,1,1,2,1,1,3,2,1,1,1,2,1,2,1,1,1,1,1,2,11,1,1,3,1,2,1,11,1,8,1,14,1,1,1,1,3,1,1,1,1,2,1,1,1,3,1,1,1,1,1,1,3,1,1,1,1,1,1,1,1,1,1,1,6,1,1,1,1,1,2,1,1,1,1,2],\"Longitud\":[3,2,1,1,1,1,5,2,1,1,3,1,1,1,1,2,1,1,3,2,1,1,1,2,1,2,1,1,1,1,1,2,11,1,1,3,1,2,1,11,1,8,1,14,1,1,1,1,3,1,1,1,1,2,1,1,1,3,1,1,1,1,1,1,3,1,1,1,1,1,1,1,1,1,1,1,6,1,1,1,1,1,2,1,1,1,1,2],\"Modalidad\":[3,2,1,1,1,1,5,2,1,1,3,1,1,1,1,2,1,1,3,2,1,1,1,2,1,2,1,1,1,1,1,2,11,1,1,3,1,2,1,11,1,8,1,14,1,1,1,1,3,1,1,1,1,2,1,1,1,3,1,1,1,1,1,1,3,1,1,1,1,1,1,1,1,1,1,1,6,1,1,1,1,1,2,1,1,1,1,2],\"Nombre\":[3,2,1,1,1,1,5,2,1,1,3,1,1,1,1,2,1,1,3,2,1,1,1,2,1,2,1,1,1,1,1,2,11,1,1,3,1,2,1,11,1,8,1,14,1,1,1,1,3,1,1,1,1,2,1,1,1,3,1,1,1,1,1,1,3,1,1,1,1,1,1,1,1,1,1,1,6,1,1,1,1,1,2,1,1,1,1,2],\"Provincia\":[3,2,1,1,1,1,5,2,1,1,3,1,1,1,1,2,1,1,3,2,1,1,1,2,1,2,1,1,1,1,1,2,11,1,1,3,1,2,1,11,1,8,1,14,1,1,1,1,3,1,1,1,1,2,1,1,1,3,1,1,1,1,1,1,3,1,1,1,1,1,1,1,1,1,1,1,6,1,1,1,1,1,2,1,1,1,1,2],\"RegimenEscolar\":[3,2,1,1,1,1,5,2,1,1,3,1,1,1,1,2,1,1,3,2,1,1,1,2,1,2,1,1,1,1,1,2,11,1,1,3,1,2,1,11,1,8,1,14,1,1,1,1,3,1,1,1,1,2,1,1,1,3,1,1,1,1,1,1,3,1,1,1,1,1,1,1,1,1,1,1,6,1,1,1,1,1,2,1,1,1,1,2],\"Tipo\":[3,2,1,1,1,1,5,2,1,1,3,1,1,1,1,2,1,1,3,2,1,1,1,2,1,2,1,1,1,1,1,2,11,1,1,3,1,2,1,11,1,8,1,14,1,1,1,1,3,1,1,1,1,2,1,1,1,3,1,1,1,1,1,1,3,1,1,1,1,1,1,1,1,1,1,1,6,1,1,1,1,1,2,1,1,1,1,2],\"TotalAdministrativos\":[3,2,1,1,1,1,5,2,1,1,3,1,1,1,1,2,1,1,3,2,1,1,1,2,1,2,1,1,1,1,1,2,11,1,1,3,1,2,1,11,1,8,1,14,1,1,1,1,3,1,1,1,1,2,1,1,1,3,1,1,1,1,1,1,3,1,1,1,1,1,1,1,1,1,1,1,6,1,1,1,1,1,2,1,1,1,1,2],\"TotalDocentes\":[3,2,1,1,1,1,5,2,1,1,3,1,1,1,1,2,1,1,3,2,1,1,1,2,1,2,1,1,1,1,1,2,11,1,1,3,1,2,1,11,1,8,1,14,1,1,1,1,3,1,1,1,1,2,1,1,1,3,1,1,1,1,1,1,3,1,1,1,1,1,1,1,1,1,1,1,6,1,1,1,1,1,2,1,1,1,1,2],\"Total_Alumnos\":[3,2,1,1,1,1,5,2,1,1,3,1,1,1,1,2,1,1,3,2,1,1,1,2,1,2,1,1,1,1,1,2,11,1,1,3,1,2,1,11,1,8,1,14,1,1,1,1,3,1,1,1,1,2,1,1,1,3,1,1,1,1,1,1,3,1,1,1,1,1,1,1,1,1,1,1,6,1,1,1,1,1,2,1,1,1,1,2],\"URI_Name\":[3,2,1,1,1,1,5,2,1,1,3,1,1,1,1,2,1,1,3,2,1,1,1,2,1,2,1,1,1,1,1,2,11,1,1,3,1,2,1,11,1,8,1,14,1,1,1,1,3,1,1,1,1,2,1,1,1,3,1,1,1,1,1,1,3,1,1,1,1,1,1,1,1,1,1,1,6,1,1,1,1,1,2,1,1,1,1,2]},\"selected\":{\"id\":\"1050\",\"type\":\"Selection\"},\"selection_policy\":{\"id\":\"1049\",\"type\":\"UnionRenderers\"}},\"id\":\"1002\",\"type\":\"ColumnDataSource\"},{\"attributes\":{\"bottom_units\":\"screen\",\"fill_alpha\":{\"value\":0.5},\"fill_color\":{\"value\":\"lightgrey\"},\"left_units\":\"screen\",\"level\":\"overlay\",\"line_alpha\":{\"value\":1.0},\"line_color\":{\"value\":\"black\"},\"line_dash\":[4,4],\"line_width\":{\"value\":2},\"plot\":null,\"render_mode\":\"css\",\"right_units\":\"screen\",\"top_units\":\"screen\"},\"id\":\"1027\",\"type\":\"BoxAnnotation\"},{\"attributes\":{},\"id\":\"1050\",\"type\":\"Selection\"},{\"attributes\":{\"active_drag\":\"auto\",\"active_inspect\":\"auto\",\"active_multi\":null,\"active_scroll\":{\"id\":\"1024\",\"type\":\"WheelZoomTool\"},\"active_tap\":\"auto\",\"autohide\":true,\"tools\":[{\"id\":\"1022\",\"type\":\"PanTool\"},{\"id\":\"1023\",\"type\":\"BoxZoomTool\"},{\"id\":\"1024\",\"type\":\"WheelZoomTool\"},{\"id\":\"1025\",\"type\":\"ResetTool\"}]},\"id\":\"1026\",\"type\":\"Toolbar\"},{\"attributes\":{\"callback\":null,\"factors\":[[\"CALVAS\",\"CARIAMANGA\"],[\"CALVAS\",\"COLAISACA\"],[\"CALVAS\",\"ELLUCERO\"],[\"CALVAS\",\"SANGUILLIN\"],[\"CALVAS\",\"SANVICENTE\"],[\"CALVAS\",\"UTUANA\"],[\"CATAMAYO\",\"CATAMAYO\"],[\"CATAMAYO\",\"ELTAMBO\"],[\"CATAMAYO\",\"SANPEDRODELABENDITA\"],[\"CATAMAYO\",\"ZAMBI\"],[\"CELICA\",\"CELICA\"],[\"CELICA\",\"CRUZPAMBA\"],[\"CELICA\",\"POZUL(SANJUANDEPOZUL)\"],[\"CELICA\",\"SABANILLA\"],[\"CHAGUARPAMBA\",\"BUENAVISTA\"],[\"CHAGUARPAMBA\",\"CHAGUARPAMBA\"],[\"CHAGUARPAMBA\",\"SANTARUFINA\"],[\"ESPINDOLA\",\"27DEABRIL\"],[\"ESPINDOLA\",\"AMALUZA\"],[\"ESPINDOLA\",\"BELLAVISTA\"],[\"ESPINDOLA\",\"ELAIRO\"],[\"ESPINDOLA\",\"ELINGENIO\"],[\"ESPINDOLA\",\"JIMBURA\"],[\"ESPINDOLA\",\"SANTATERESITA\"],[\"GONZANAMA\",\"CHANGAIMINA(LALIBERTAD)\"],[\"GONZANAMA\",\"GONZANAMA\"],[\"GONZANAMA\",\"NAMBACOLA\"],[\"GONZANAMA\",\"PURUNUMA(EGUIGUREN)\"],[\"GONZANAMA\",\"SACAPALCA\"],[\"LOJA\",\"CHANTACO\"],[\"LOJA\",\"CHUQUIRIBAMBA\"],[\"LOJA\",\"ELCISNE\"],[\"LOJA\",\"ELSAGRARIO\"],[\"LOJA\",\"GUALEL\"],[\"LOJA\",\"JIMBILLA\"],[\"LOJA\",\"MALACATOS(VALLADOLID)\"],[\"LOJA\",\"QUINARA\"],[\"LOJA\",\"SANLUCAS\"],[\"LOJA\",\"SANPEDRODEVILCABAMBA\"],[\"LOJA\",\"SANSEBASTIAN\"],[\"LOJA\",\"SANTIAGO\"],[\"LOJA\",\"SUCRE\"],[\"LOJA\",\"TAQUIL(MIGUELRIOFRIO)\"],[\"LOJA\",\"VALLE\"],[\"LOJA\",\"VILCABAMBA(VICTORIA)\"],[\"LOJA\",\"YANGANA(ARSENIOCASTILLO)\"],[\"MACARA\",\"GENERALELOYALFARO(SANSEBASTIAN)\"],[\"MACARA\",\"LAVICTORIA\"],[\"MACARA\",\"MACARA(MANUELENRIQUERENGELSUQUILANDA)\"],[\"MACARA\",\"SABIANGO(LACAPILLA)\"],[\"OLMEDO\",\"LATINGUE\"],[\"OLMEDO\",\"OLMEDO\"],[\"PALTAS\",\"CANGONAMA\"],[\"PALTAS\",\"CASANGA\"],[\"PALTAS\",\"CATACOCHA\"],[\"PALTAS\",\"GUACHANAMA\"],[\"PALTAS\",\"LAUROGUERRERO\"],[\"PALTAS\",\"LOURDES\"],[\"PALTAS\",\"ORIANGA\"],[\"PALTAS\",\"SANANTONIO\"],[\"PALTAS\",\"YAMANA\"],[\"PINDAL\",\"12DEDICIEMBRE\"],[\"PINDAL\",\"CHAQUINAL\"],[\"PINDAL\",\"PINDAL\"],[\"PUYANGO\",\"ALAMOR\"],[\"PUYANGO\",\"CIANO\"],[\"PUYANGO\",\"ELARENAL\"],[\"PUYANGO\",\"ELLIMO(MARIANADEJESUS)\"],[\"PUYANGO\",\"MERCADILLO\"],[\"PUYANGO\",\"VICENTINO\"],[\"QUILANGA\",\"QUILANGA\"],[\"QUILANGA\",\"SANANTONIODELASARADAS\"],[\"SARAGURO\",\"ELPARAISODECELEN\"],[\"SARAGURO\",\"LLUZHAPA\"],[\"SARAGURO\",\"MANU\"],[\"SARAGURO\",\"SANPABLODETENTA\"],[\"SARAGURO\",\"SARAGURO\"],[\"SARAGURO\",\"SELVAALEGRE\"],[\"SARAGURO\",\"SUMAYPAMBA\"],[\"SARAGURO\",\"URDANETA(PAQUISHAPA)\"],[\"SOZORANGA\",\"NUEVAFATIMA\"],[\"SOZORANGA\",\"SOZORANGA\"],[\"SOZORANGA\",\"TACAMOROS\"],[\"ZAPOTILLO\",\"BOLASPAMBA\"],[\"ZAPOTILLO\",\"CAZADEROS(CAB.ENMANGAURCO)\"],[\"ZAPOTILLO\",\"LIMONES\"],[\"ZAPOTILLO\",\"PALETILLAS\"],[\"ZAPOTILLO\",\"ZAPOTILLO\"]],\"range_padding\":0.01},\"id\":\"1004\",\"type\":\"FactorRange\"},{\"attributes\":{\"below\":[{\"id\":\"1013\",\"type\":\"LinearAxis\"}],\"left\":[{\"id\":\"1018\",\"type\":\"CategoricalAxis\"}],\"plot_height\":800,\"renderers\":[{\"id\":\"1013\",\"type\":\"LinearAxis\"},{\"id\":\"1017\",\"type\":\"Grid\"},{\"id\":\"1018\",\"type\":\"CategoricalAxis\"},{\"id\":\"1021\",\"type\":\"Grid\"},{\"id\":\"1027\",\"type\":\"BoxAnnotation\"},{\"id\":\"1036\",\"type\":\"GlyphRenderer\"}],\"sizing_mode\":\"scale_width\",\"title\":{\"id\":\"1039\",\"type\":\"Title\"},\"toolbar\":{\"id\":\"1026\",\"type\":\"Toolbar\"},\"x_range\":{\"id\":\"1006\",\"type\":\"DataRange1d\"},\"x_scale\":{\"id\":\"1009\",\"type\":\"LinearScale\"},\"y_range\":{\"id\":\"1004\",\"type\":\"FactorRange\"},\"y_scale\":{\"id\":\"1011\",\"type\":\"CategoricalScale\"}},\"id\":\"1005\",\"subtype\":\"Figure\",\"type\":\"Plot\"},{\"attributes\":{\"fill_alpha\":{\"value\":0.1},\"fill_color\":{\"value\":\"#1f77b4\"},\"height\":{\"value\":0.7},\"line_alpha\":{\"value\":0.1},\"line_color\":{\"value\":\"#1f77b4\"},\"right\":{\"field\":\"URI_Name\"},\"y\":{\"field\":\"Canton_Parroquia\"}},\"id\":\"1035\",\"type\":\"HBar\"},{\"attributes\":{\"fill_alpha\":{\"value\":0.5},\"fill_color\":{\"field\":\"Canton_Parroquia\",\"transform\":{\"id\":\"1003\",\"type\":\"CategoricalColorMapper\"}},\"height\":{\"value\":0.7},\"line_alpha\":{\"value\":0.5},\"line_color\":{\"value\":\"#1f77b4\"},\"right\":{\"field\":\"URI_Name\"},\"y\":{\"field\":\"Canton_Parroquia\"}},\"id\":\"1034\",\"type\":\"HBar\"},{\"attributes\":{\"callback\":null,\"start\":0},\"id\":\"1006\",\"type\":\"DataRange1d\"},{\"attributes\":{\"data_source\":{\"id\":\"1002\",\"type\":\"ColumnDataSource\"},\"glyph\":{\"id\":\"1034\",\"type\":\"HBar\"},\"hover_glyph\":null,\"muted_glyph\":null,\"nonselection_glyph\":{\"id\":\"1035\",\"type\":\"HBar\"},\"selection_glyph\":null,\"view\":{\"id\":\"1037\",\"type\":\"CDSView\"}},\"id\":\"1036\",\"type\":\"GlyphRenderer\"},{\"attributes\":{},\"id\":\"1009\",\"type\":\"LinearScale\"},{\"attributes\":{\"source\":{\"id\":\"1002\",\"type\":\"ColumnDataSource\"}},\"id\":\"1037\",\"type\":\"CDSView\"},{\"attributes\":{},\"id\":\"1011\",\"type\":\"CategoricalScale\"},{\"attributes\":{\"axis_label\":\"# de Instituciones\",\"formatter\":{\"id\":\"1045\",\"type\":\"BasicTickFormatter\"},\"plot\":{\"id\":\"1005\",\"subtype\":\"Figure\",\"type\":\"Plot\"},\"ticker\":{\"id\":\"1014\",\"type\":\"BasicTicker\"}},\"id\":\"1013\",\"type\":\"LinearAxis\"},{\"attributes\":{\"plot\":null,\"text\":\"# de Instituciones Educativas por Provincia\"},\"id\":\"1039\",\"type\":\"Title\"},{\"attributes\":{},\"id\":\"1014\",\"type\":\"BasicTicker\"},{\"attributes\":{\"plot\":{\"id\":\"1005\",\"subtype\":\"Figure\",\"type\":\"Plot\"},\"ticker\":{\"id\":\"1014\",\"type\":\"BasicTicker\"}},\"id\":\"1017\",\"type\":\"Grid\"},{\"attributes\":{},\"id\":\"1019\",\"type\":\"CategoricalTicker\"},{\"attributes\":{\"dimension\":1,\"grid_line_color\":{\"value\":null},\"plot\":{\"id\":\"1005\",\"subtype\":\"Figure\",\"type\":\"Plot\"},\"ticker\":{\"id\":\"1019\",\"type\":\"CategoricalTicker\"}},\"id\":\"1021\",\"type\":\"Grid\"},{\"attributes\":{\"children\":[{\"id\":\"1005\",\"subtype\":\"Figure\",\"type\":\"Plot\"}],\"sizing_mode\":\"scale_width\"},\"id\":\"1040\",\"type\":\"Row\"},{\"attributes\":{\"dimensions\":\"height\"},\"id\":\"1022\",\"type\":\"PanTool\"},{\"attributes\":{\"overlay\":{\"id\":\"1027\",\"type\":\"BoxAnnotation\"}},\"id\":\"1023\",\"type\":\"BoxZoomTool\"},{\"attributes\":{\"dimensions\":\"height\"},\"id\":\"1024\",\"type\":\"WheelZoomTool\"},{\"attributes\":{\"end\":1,\"factors\":[\"CALVAS\",\"CATAMAYO\",\"CELICA\",\"CHAGUARPAMBA\",\"ESPINDOLA\",\"GONZANAMA\",\"LOJA\",\"MACARA\",\"OLMEDO\",\"PALTAS\",\"PINDAL\",\"PUYANGO\",\"QUILANGA\",\"SARAGURO\",\"SOZORANGA\",\"ZAPOTILLO\"],\"palette\":[\"#198100\",\"#4dc32c\",\"#bef43d\",\"#387e73\",\"#33c199\",\"#87ff9d\",\"#2469ba\",\"#75cffa\",\"#bd5dfd\",\"#891bb0\",\"#f16391\",\"#feadc0\",\"#c6281c\",\"#f95a00\",\"#ff9e32\",\"#ffe07a\"]},\"id\":\"1003\",\"type\":\"CategoricalColorMapper\"},{\"attributes\":{},\"id\":\"1045\",\"type\":\"BasicTickFormatter\"}],\"root_ids\":[\"1041\"]},\"title\":\"Bokeh Application\",\"version\":\"1.0.4\"}};\n",
       "  var render_items = [{\"docid\":\"6cad4a9b-862c-41a1-a42a-3b19b903b5db\",\"roots\":{\"1041\":\"d61fcd97-29dd-4a5f-8c95-39863f7d6706\"}}];\n",
       "  root.Bokeh.embed.embed_items_notebook(docs_json, render_items);\n",
       "\n",
       "  }\n",
       "  if (root.Bokeh !== undefined) {\n",
       "    embed_document(root);\n",
       "  } else {\n",
       "    var attempts = 0;\n",
       "    var timer = setInterval(function(root) {\n",
       "      if (root.Bokeh !== undefined) {\n",
       "        embed_document(root);\n",
       "        clearInterval(timer);\n",
       "      }\n",
       "      attempts++;\n",
       "      if (attempts > 100) {\n",
       "        console.log(\"Bokeh: ERROR: Unable to run BokehJS code because BokehJS library is missing\");\n",
       "        clearInterval(timer);\n",
       "      }\n",
       "    }, 10, root)\n",
       "  }\n",
       "})(window);"
      ],
      "application/vnd.bokehjs_exec.v0+json": ""
     },
     "metadata": {
      "application/vnd.bokehjs_exec.v0+json": {
       "id": "1041"
      }
     },
     "output_type": "display_data"
    }
   ],
   "source": [
    "show(lienzo)"
   ]
  }
 ],
 "metadata": {
  "kernelspec": {
   "display_name": "Python 3",
   "language": "python",
   "name": "python3"
  },
  "language_info": {
   "codemirror_mode": {
    "name": "ipython",
    "version": 3
   },
   "file_extension": ".py",
   "mimetype": "text/x-python",
   "name": "python",
   "nbconvert_exporter": "python",
   "pygments_lexer": "ipython3",
   "version": "3.6.3"
  }
 },
 "nbformat": 4,
 "nbformat_minor": 2
}
