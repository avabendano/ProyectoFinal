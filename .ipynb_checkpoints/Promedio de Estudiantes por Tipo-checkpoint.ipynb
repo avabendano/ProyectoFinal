{
 "cells": [
  {
   "cell_type": "markdown",
   "metadata": {},
   "source": [
    "# Promedio de Estudiantes Hombres y Mujeres clasificados por Tipo de Institucion Educativa\n",
    "Mediante esta grafica se intenta determinar que tipo de instituciones Educativas `['Fiscal', 'Fiscomisional', 'Laico', 'Religioso']` son las mas comunes en la provincia de Loja y cual de ellas contienen mas estudiantes."
   ]
  },
  {
   "cell_type": "markdown",
   "metadata": {},
   "source": [
    "## Importacion de librerias\n",
    "Un ejemplo de las librerias que podemos importar para trabajar con **Bokeh** y **Pandas**."
   ]
  },
  {
   "cell_type": "code",
   "execution_count": 1,
   "metadata": {},
   "outputs": [],
   "source": [
    "#!/usr/bin/python\n",
    "# -*- coding: utf-8 -*-\n",
    "# Victoria\n",
    "\n",
    "import pandas as pd\n",
    "\n",
    "from bokeh.layouts import layout\n",
    "from bokeh.plotting import figure, show, output_notebook\n",
    "from bokeh.models import ColumnDataSource, FactorRange, Legend\n",
    "from bokeh.models.tools import HoverTool\n",
    "from bokeh.transform import factor_cmap\n",
    "from bokeh.palettes import plasma, Spectral9\n",
    "\n",
    "from lib.colores import *"
   ]
  },
  {
   "cell_type": "markdown",
   "metadata": {},
   "source": [
    "## Asignar la salida de los graficos al propio notebook"
   ]
  },
  {
   "cell_type": "code",
   "execution_count": 2,
   "metadata": {},
   "outputs": [
    {
     "data": {
      "text/html": [
       "\n",
       "    <div class=\"bk-root\">\n",
       "        <a href=\"https://bokeh.pydata.org\" target=\"_blank\" class=\"bk-logo bk-logo-small bk-logo-notebook\"></a>\n",
       "        <span id=\"1001\">Loading BokehJS ...</span>\n",
       "    </div>"
      ]
     },
     "metadata": {},
     "output_type": "display_data"
    },
    {
     "data": {
      "application/javascript": [
       "\n",
       "(function(root) {\n",
       "  function now() {\n",
       "    return new Date();\n",
       "  }\n",
       "\n",
       "  var force = true;\n",
       "\n",
       "  if (typeof (root._bokeh_onload_callbacks) === \"undefined\" || force === true) {\n",
       "    root._bokeh_onload_callbacks = [];\n",
       "    root._bokeh_is_loading = undefined;\n",
       "  }\n",
       "\n",
       "  var JS_MIME_TYPE = 'application/javascript';\n",
       "  var HTML_MIME_TYPE = 'text/html';\n",
       "  var EXEC_MIME_TYPE = 'application/vnd.bokehjs_exec.v0+json';\n",
       "  var CLASS_NAME = 'output_bokeh rendered_html';\n",
       "\n",
       "  /**\n",
       "   * Render data to the DOM node\n",
       "   */\n",
       "  function render(props, node) {\n",
       "    var script = document.createElement(\"script\");\n",
       "    node.appendChild(script);\n",
       "  }\n",
       "\n",
       "  /**\n",
       "   * Handle when an output is cleared or removed\n",
       "   */\n",
       "  function handleClearOutput(event, handle) {\n",
       "    var cell = handle.cell;\n",
       "\n",
       "    var id = cell.output_area._bokeh_element_id;\n",
       "    var server_id = cell.output_area._bokeh_server_id;\n",
       "    // Clean up Bokeh references\n",
       "    if (id != null && id in Bokeh.index) {\n",
       "      Bokeh.index[id].model.document.clear();\n",
       "      delete Bokeh.index[id];\n",
       "    }\n",
       "\n",
       "    if (server_id !== undefined) {\n",
       "      // Clean up Bokeh references\n",
       "      var cmd = \"from bokeh.io.state import curstate; print(curstate().uuid_to_server['\" + server_id + \"'].get_sessions()[0].document.roots[0]._id)\";\n",
       "      cell.notebook.kernel.execute(cmd, {\n",
       "        iopub: {\n",
       "          output: function(msg) {\n",
       "            var id = msg.content.text.trim();\n",
       "            if (id in Bokeh.index) {\n",
       "              Bokeh.index[id].model.document.clear();\n",
       "              delete Bokeh.index[id];\n",
       "            }\n",
       "          }\n",
       "        }\n",
       "      });\n",
       "      // Destroy server and session\n",
       "      var cmd = \"import bokeh.io.notebook as ion; ion.destroy_server('\" + server_id + \"')\";\n",
       "      cell.notebook.kernel.execute(cmd);\n",
       "    }\n",
       "  }\n",
       "\n",
       "  /**\n",
       "   * Handle when a new output is added\n",
       "   */\n",
       "  function handleAddOutput(event, handle) {\n",
       "    var output_area = handle.output_area;\n",
       "    var output = handle.output;\n",
       "\n",
       "    // limit handleAddOutput to display_data with EXEC_MIME_TYPE content only\n",
       "    if ((output.output_type != \"display_data\") || (!output.data.hasOwnProperty(EXEC_MIME_TYPE))) {\n",
       "      return\n",
       "    }\n",
       "\n",
       "    var toinsert = output_area.element.find(\".\" + CLASS_NAME.split(' ')[0]);\n",
       "\n",
       "    if (output.metadata[EXEC_MIME_TYPE][\"id\"] !== undefined) {\n",
       "      toinsert[toinsert.length - 1].firstChild.textContent = output.data[JS_MIME_TYPE];\n",
       "      // store reference to embed id on output_area\n",
       "      output_area._bokeh_element_id = output.metadata[EXEC_MIME_TYPE][\"id\"];\n",
       "    }\n",
       "    if (output.metadata[EXEC_MIME_TYPE][\"server_id\"] !== undefined) {\n",
       "      var bk_div = document.createElement(\"div\");\n",
       "      bk_div.innerHTML = output.data[HTML_MIME_TYPE];\n",
       "      var script_attrs = bk_div.children[0].attributes;\n",
       "      for (var i = 0; i < script_attrs.length; i++) {\n",
       "        toinsert[toinsert.length - 1].firstChild.setAttribute(script_attrs[i].name, script_attrs[i].value);\n",
       "      }\n",
       "      // store reference to server id on output_area\n",
       "      output_area._bokeh_server_id = output.metadata[EXEC_MIME_TYPE][\"server_id\"];\n",
       "    }\n",
       "  }\n",
       "\n",
       "  function register_renderer(events, OutputArea) {\n",
       "\n",
       "    function append_mime(data, metadata, element) {\n",
       "      // create a DOM node to render to\n",
       "      var toinsert = this.create_output_subarea(\n",
       "        metadata,\n",
       "        CLASS_NAME,\n",
       "        EXEC_MIME_TYPE\n",
       "      );\n",
       "      this.keyboard_manager.register_events(toinsert);\n",
       "      // Render to node\n",
       "      var props = {data: data, metadata: metadata[EXEC_MIME_TYPE]};\n",
       "      render(props, toinsert[toinsert.length - 1]);\n",
       "      element.append(toinsert);\n",
       "      return toinsert\n",
       "    }\n",
       "\n",
       "    /* Handle when an output is cleared or removed */\n",
       "    events.on('clear_output.CodeCell', handleClearOutput);\n",
       "    events.on('delete.Cell', handleClearOutput);\n",
       "\n",
       "    /* Handle when a new output is added */\n",
       "    events.on('output_added.OutputArea', handleAddOutput);\n",
       "\n",
       "    /**\n",
       "     * Register the mime type and append_mime function with output_area\n",
       "     */\n",
       "    OutputArea.prototype.register_mime_type(EXEC_MIME_TYPE, append_mime, {\n",
       "      /* Is output safe? */\n",
       "      safe: true,\n",
       "      /* Index of renderer in `output_area.display_order` */\n",
       "      index: 0\n",
       "    });\n",
       "  }\n",
       "\n",
       "  // register the mime type if in Jupyter Notebook environment and previously unregistered\n",
       "  if (root.Jupyter !== undefined) {\n",
       "    var events = require('base/js/events');\n",
       "    var OutputArea = require('notebook/js/outputarea').OutputArea;\n",
       "\n",
       "    if (OutputArea.prototype.mime_types().indexOf(EXEC_MIME_TYPE) == -1) {\n",
       "      register_renderer(events, OutputArea);\n",
       "    }\n",
       "  }\n",
       "\n",
       "  \n",
       "  if (typeof (root._bokeh_timeout) === \"undefined\" || force === true) {\n",
       "    root._bokeh_timeout = Date.now() + 5000;\n",
       "    root._bokeh_failed_load = false;\n",
       "  }\n",
       "\n",
       "  var NB_LOAD_WARNING = {'data': {'text/html':\n",
       "     \"<div style='background-color: #fdd'>\\n\"+\n",
       "     \"<p>\\n\"+\n",
       "     \"BokehJS does not appear to have successfully loaded. If loading BokehJS from CDN, this \\n\"+\n",
       "     \"may be due to a slow or bad network connection. Possible fixes:\\n\"+\n",
       "     \"</p>\\n\"+\n",
       "     \"<ul>\\n\"+\n",
       "     \"<li>re-rerun `output_notebook()` to attempt to load from CDN again, or</li>\\n\"+\n",
       "     \"<li>use INLINE resources instead, as so:</li>\\n\"+\n",
       "     \"</ul>\\n\"+\n",
       "     \"<code>\\n\"+\n",
       "     \"from bokeh.resources import INLINE\\n\"+\n",
       "     \"output_notebook(resources=INLINE)\\n\"+\n",
       "     \"</code>\\n\"+\n",
       "     \"</div>\"}};\n",
       "\n",
       "  function display_loaded() {\n",
       "    var el = document.getElementById(\"1001\");\n",
       "    if (el != null) {\n",
       "      el.textContent = \"BokehJS is loading...\";\n",
       "    }\n",
       "    if (root.Bokeh !== undefined) {\n",
       "      if (el != null) {\n",
       "        el.textContent = \"BokehJS \" + root.Bokeh.version + \" successfully loaded.\";\n",
       "      }\n",
       "    } else if (Date.now() < root._bokeh_timeout) {\n",
       "      setTimeout(display_loaded, 100)\n",
       "    }\n",
       "  }\n",
       "\n",
       "\n",
       "  function run_callbacks() {\n",
       "    try {\n",
       "      root._bokeh_onload_callbacks.forEach(function(callback) { callback() });\n",
       "    }\n",
       "    finally {\n",
       "      delete root._bokeh_onload_callbacks\n",
       "    }\n",
       "    console.info(\"Bokeh: all callbacks have finished\");\n",
       "  }\n",
       "\n",
       "  function load_libs(js_urls, callback) {\n",
       "    root._bokeh_onload_callbacks.push(callback);\n",
       "    if (root._bokeh_is_loading > 0) {\n",
       "      console.log(\"Bokeh: BokehJS is being loaded, scheduling callback at\", now());\n",
       "      return null;\n",
       "    }\n",
       "    if (js_urls == null || js_urls.length === 0) {\n",
       "      run_callbacks();\n",
       "      return null;\n",
       "    }\n",
       "    console.log(\"Bokeh: BokehJS not loaded, scheduling load and callback at\", now());\n",
       "    root._bokeh_is_loading = js_urls.length;\n",
       "    for (var i = 0; i < js_urls.length; i++) {\n",
       "      var url = js_urls[i];\n",
       "      var s = document.createElement('script');\n",
       "      s.src = url;\n",
       "      s.async = false;\n",
       "      s.onreadystatechange = s.onload = function() {\n",
       "        root._bokeh_is_loading--;\n",
       "        if (root._bokeh_is_loading === 0) {\n",
       "          console.log(\"Bokeh: all BokehJS libraries loaded\");\n",
       "          run_callbacks()\n",
       "        }\n",
       "      };\n",
       "      s.onerror = function() {\n",
       "        console.warn(\"failed to load library \" + url);\n",
       "      };\n",
       "      console.log(\"Bokeh: injecting script tag for BokehJS library: \", url);\n",
       "      document.getElementsByTagName(\"head\")[0].appendChild(s);\n",
       "    }\n",
       "  };var element = document.getElementById(\"1001\");\n",
       "  if (element == null) {\n",
       "    console.log(\"Bokeh: ERROR: autoload.js configured with elementid '1001' but no matching script tag was found. \")\n",
       "    return false;\n",
       "  }\n",
       "\n",
       "  var js_urls = [\"https://cdn.pydata.org/bokeh/release/bokeh-1.0.4.min.js\", \"https://cdn.pydata.org/bokeh/release/bokeh-widgets-1.0.4.min.js\", \"https://cdn.pydata.org/bokeh/release/bokeh-tables-1.0.4.min.js\", \"https://cdn.pydata.org/bokeh/release/bokeh-gl-1.0.4.min.js\"];\n",
       "\n",
       "  var inline_js = [\n",
       "    function(Bokeh) {\n",
       "      Bokeh.set_log_level(\"info\");\n",
       "    },\n",
       "    \n",
       "    function(Bokeh) {\n",
       "      \n",
       "    },\n",
       "    function(Bokeh) {\n",
       "      console.log(\"Bokeh: injecting CSS: https://cdn.pydata.org/bokeh/release/bokeh-1.0.4.min.css\");\n",
       "      Bokeh.embed.inject_css(\"https://cdn.pydata.org/bokeh/release/bokeh-1.0.4.min.css\");\n",
       "      console.log(\"Bokeh: injecting CSS: https://cdn.pydata.org/bokeh/release/bokeh-widgets-1.0.4.min.css\");\n",
       "      Bokeh.embed.inject_css(\"https://cdn.pydata.org/bokeh/release/bokeh-widgets-1.0.4.min.css\");\n",
       "      console.log(\"Bokeh: injecting CSS: https://cdn.pydata.org/bokeh/release/bokeh-tables-1.0.4.min.css\");\n",
       "      Bokeh.embed.inject_css(\"https://cdn.pydata.org/bokeh/release/bokeh-tables-1.0.4.min.css\");\n",
       "    }\n",
       "  ];\n",
       "\n",
       "  function run_inline_js() {\n",
       "    \n",
       "    if ((root.Bokeh !== undefined) || (force === true)) {\n",
       "      for (var i = 0; i < inline_js.length; i++) {\n",
       "        inline_js[i].call(root, root.Bokeh);\n",
       "      }if (force === true) {\n",
       "        display_loaded();\n",
       "      }} else if (Date.now() < root._bokeh_timeout) {\n",
       "      setTimeout(run_inline_js, 100);\n",
       "    } else if (!root._bokeh_failed_load) {\n",
       "      console.log(\"Bokeh: BokehJS failed to load within specified timeout.\");\n",
       "      root._bokeh_failed_load = true;\n",
       "    } else if (force !== true) {\n",
       "      var cell = $(document.getElementById(\"1001\")).parents('.cell').data().cell;\n",
       "      cell.output_area.append_execute_result(NB_LOAD_WARNING)\n",
       "    }\n",
       "\n",
       "  }\n",
       "\n",
       "  if (root._bokeh_is_loading === 0) {\n",
       "    console.log(\"Bokeh: BokehJS loaded, going straight to plotting\");\n",
       "    run_inline_js();\n",
       "  } else {\n",
       "    load_libs(js_urls, function() {\n",
       "      console.log(\"Bokeh: BokehJS plotting callback run at\", now());\n",
       "      run_inline_js();\n",
       "    });\n",
       "  }\n",
       "}(window));"
      ],
      "application/vnd.bokehjs_load.v0+json": "\n(function(root) {\n  function now() {\n    return new Date();\n  }\n\n  var force = true;\n\n  if (typeof (root._bokeh_onload_callbacks) === \"undefined\" || force === true) {\n    root._bokeh_onload_callbacks = [];\n    root._bokeh_is_loading = undefined;\n  }\n\n  \n\n  \n  if (typeof (root._bokeh_timeout) === \"undefined\" || force === true) {\n    root._bokeh_timeout = Date.now() + 5000;\n    root._bokeh_failed_load = false;\n  }\n\n  var NB_LOAD_WARNING = {'data': {'text/html':\n     \"<div style='background-color: #fdd'>\\n\"+\n     \"<p>\\n\"+\n     \"BokehJS does not appear to have successfully loaded. If loading BokehJS from CDN, this \\n\"+\n     \"may be due to a slow or bad network connection. Possible fixes:\\n\"+\n     \"</p>\\n\"+\n     \"<ul>\\n\"+\n     \"<li>re-rerun `output_notebook()` to attempt to load from CDN again, or</li>\\n\"+\n     \"<li>use INLINE resources instead, as so:</li>\\n\"+\n     \"</ul>\\n\"+\n     \"<code>\\n\"+\n     \"from bokeh.resources import INLINE\\n\"+\n     \"output_notebook(resources=INLINE)\\n\"+\n     \"</code>\\n\"+\n     \"</div>\"}};\n\n  function display_loaded() {\n    var el = document.getElementById(\"1001\");\n    if (el != null) {\n      el.textContent = \"BokehJS is loading...\";\n    }\n    if (root.Bokeh !== undefined) {\n      if (el != null) {\n        el.textContent = \"BokehJS \" + root.Bokeh.version + \" successfully loaded.\";\n      }\n    } else if (Date.now() < root._bokeh_timeout) {\n      setTimeout(display_loaded, 100)\n    }\n  }\n\n\n  function run_callbacks() {\n    try {\n      root._bokeh_onload_callbacks.forEach(function(callback) { callback() });\n    }\n    finally {\n      delete root._bokeh_onload_callbacks\n    }\n    console.info(\"Bokeh: all callbacks have finished\");\n  }\n\n  function load_libs(js_urls, callback) {\n    root._bokeh_onload_callbacks.push(callback);\n    if (root._bokeh_is_loading > 0) {\n      console.log(\"Bokeh: BokehJS is being loaded, scheduling callback at\", now());\n      return null;\n    }\n    if (js_urls == null || js_urls.length === 0) {\n      run_callbacks();\n      return null;\n    }\n    console.log(\"Bokeh: BokehJS not loaded, scheduling load and callback at\", now());\n    root._bokeh_is_loading = js_urls.length;\n    for (var i = 0; i < js_urls.length; i++) {\n      var url = js_urls[i];\n      var s = document.createElement('script');\n      s.src = url;\n      s.async = false;\n      s.onreadystatechange = s.onload = function() {\n        root._bokeh_is_loading--;\n        if (root._bokeh_is_loading === 0) {\n          console.log(\"Bokeh: all BokehJS libraries loaded\");\n          run_callbacks()\n        }\n      };\n      s.onerror = function() {\n        console.warn(\"failed to load library \" + url);\n      };\n      console.log(\"Bokeh: injecting script tag for BokehJS library: \", url);\n      document.getElementsByTagName(\"head\")[0].appendChild(s);\n    }\n  };var element = document.getElementById(\"1001\");\n  if (element == null) {\n    console.log(\"Bokeh: ERROR: autoload.js configured with elementid '1001' but no matching script tag was found. \")\n    return false;\n  }\n\n  var js_urls = [\"https://cdn.pydata.org/bokeh/release/bokeh-1.0.4.min.js\", \"https://cdn.pydata.org/bokeh/release/bokeh-widgets-1.0.4.min.js\", \"https://cdn.pydata.org/bokeh/release/bokeh-tables-1.0.4.min.js\", \"https://cdn.pydata.org/bokeh/release/bokeh-gl-1.0.4.min.js\"];\n\n  var inline_js = [\n    function(Bokeh) {\n      Bokeh.set_log_level(\"info\");\n    },\n    \n    function(Bokeh) {\n      \n    },\n    function(Bokeh) {\n      console.log(\"Bokeh: injecting CSS: https://cdn.pydata.org/bokeh/release/bokeh-1.0.4.min.css\");\n      Bokeh.embed.inject_css(\"https://cdn.pydata.org/bokeh/release/bokeh-1.0.4.min.css\");\n      console.log(\"Bokeh: injecting CSS: https://cdn.pydata.org/bokeh/release/bokeh-widgets-1.0.4.min.css\");\n      Bokeh.embed.inject_css(\"https://cdn.pydata.org/bokeh/release/bokeh-widgets-1.0.4.min.css\");\n      console.log(\"Bokeh: injecting CSS: https://cdn.pydata.org/bokeh/release/bokeh-tables-1.0.4.min.css\");\n      Bokeh.embed.inject_css(\"https://cdn.pydata.org/bokeh/release/bokeh-tables-1.0.4.min.css\");\n    }\n  ];\n\n  function run_inline_js() {\n    \n    if ((root.Bokeh !== undefined) || (force === true)) {\n      for (var i = 0; i < inline_js.length; i++) {\n        inline_js[i].call(root, root.Bokeh);\n      }if (force === true) {\n        display_loaded();\n      }} else if (Date.now() < root._bokeh_timeout) {\n      setTimeout(run_inline_js, 100);\n    } else if (!root._bokeh_failed_load) {\n      console.log(\"Bokeh: BokehJS failed to load within specified timeout.\");\n      root._bokeh_failed_load = true;\n    } else if (force !== true) {\n      var cell = $(document.getElementById(\"1001\")).parents('.cell').data().cell;\n      cell.output_area.append_execute_result(NB_LOAD_WARNING)\n    }\n\n  }\n\n  if (root._bokeh_is_loading === 0) {\n    console.log(\"Bokeh: BokehJS loaded, going straight to plotting\");\n    run_inline_js();\n  } else {\n    load_libs(js_urls, function() {\n      console.log(\"Bokeh: BokehJS plotting callback run at\", now());\n      run_inline_js();\n    });\n  }\n}(window));"
     },
     "metadata": {},
     "output_type": "display_data"
    }
   ],
   "source": [
    "output_notebook()"
   ]
  },
  {
   "cell_type": "markdown",
   "metadata": {},
   "source": [
    "## Lectura del Arvhivo CSV"
   ]
  },
  {
   "cell_type": "code",
   "execution_count": 3,
   "metadata": {},
   "outputs": [],
   "source": [
    "df = pd.read_csv('data/fuente2.csv', sep=';', encoding='windows-1252')"
   ]
  },
  {
   "cell_type": "markdown",
   "metadata": {},
   "source": [
    "## Transformando la columna Tipo\n",
    "En la columna `Tipo` los datos se encuentran de esta forma `['FiscalHighSchool', 'FiscomitionalHighSchool', 'LaicHighSchool', 'ReligiousHighSchool']`, mediante el siguiente metodo estos valores seran convertidos a `['Fiscal', 'Fiscomicional', 'Laico', 'Religioso']`."
   ]
  },
  {
   "cell_type": "code",
   "execution_count": 4,
   "metadata": {},
   "outputs": [],
   "source": [
    "def transformarTipo(texto):\n",
    "    if texto == 'FiscalHighSchool':\n",
    "        return 'Fiscal'\n",
    "    elif texto == 'FiscomitionalHighSchool':\n",
    "        return 'Fiscomisional'\n",
    "    elif texto == 'LaicHighSchool':\n",
    "        return 'Laico'\n",
    "    elif texto == 'ReligiousHighSchool':\n",
    "        return 'Religioso'\n",
    "    else:\n",
    "        return texto"
   ]
  },
  {
   "cell_type": "markdown",
   "metadata": {},
   "source": [
    "## Aplicando el metodo de transformarTipo\n",
    "Se usa el metodo `apply` para ejecutar una funcion `lambda` por cada iteracion de los valores que contiene la columna `Tipo`.\n",
    "\n",
    "Se guarda una lista de los Tipos como factores."
   ]
  },
  {
   "cell_type": "code",
   "execution_count": 5,
   "metadata": {},
   "outputs": [
    {
     "data": {
      "text/plain": [
       "['Fiscal', 'Fiscomisional', 'Laico', 'Religioso']"
      ]
     },
     "execution_count": 5,
     "metadata": {},
     "output_type": "execute_result"
    }
   ],
   "source": [
    "df['Tipo'] = df['Tipo'].apply(lambda x: transformarTipo(x))\n",
    "tipos = sorted(df.Tipo.unique())\n",
    "tipos"
   ]
  },
  {
   "cell_type": "markdown",
   "metadata": {},
   "source": [
    "## Agrupación mediante el metodo groupby\n",
    "Agrupamos los datos por las columnas `Canton` y `Tipo` se obtiene un promedio de cada columna."
   ]
  },
  {
   "cell_type": "code",
   "execution_count": 6,
   "metadata": {},
   "outputs": [],
   "source": [
    "grupoCT = df.groupby(['Canton','Tipo']).mean()"
   ]
  },
  {
   "cell_type": "markdown",
   "metadata": {},
   "source": [
    "## Se convierten los DataFrames a datos de Bokeh\n",
    "Mediante el objeto `ColumnDataSource` se convierte los datos de un `DataFrame` a datos de columnas, que es el formato en que trabaja **Bokeh**"
   ]
  },
  {
   "cell_type": "code",
   "execution_count": 7,
   "metadata": {},
   "outputs": [
    {
     "data": {
      "text/plain": [
       "['Canton_Tipo',\n",
       " 'DocentesFemenino',\n",
       " 'DocentesMasculino',\n",
       " 'TotalDocentes',\n",
       " 'TotalAdministrativos',\n",
       " 'EstudiantesFemenino',\n",
       " 'EstudiantesMasculino',\n",
       " 'Total_Alumnos']"
      ]
     },
     "execution_count": 7,
     "metadata": {},
     "output_type": "execute_result"
    }
   ],
   "source": [
    "source = ColumnDataSource(grupoCT)\n",
    "source.column_names"
   ]
  },
  {
   "cell_type": "markdown",
   "metadata": {},
   "source": [
    "## Configuración de colores\n",
    "### Creamos un objeto factor_cmap\n",
    "Este metodo asigna a cada factor unico un color.\n",
    "\n",
    "#### Ejemplo\n",
    "Una lista de 3 colores \\[azul, verde, rojo\\] y una lista de factores unicos \\['Fiscal', 'Laico', 'Religioso'\\]\n",
    "##### Resultado\n",
    "- Fiscal -> azul\n",
    "- Laico -> verde\n",
    "- Religioso -> rojo"
   ]
  },
  {
   "cell_type": "code",
   "execution_count": 8,
   "metadata": {},
   "outputs": [
    {
     "data": {
      "text/plain": [
       "[('CALVAS', 'Fiscal'),\n",
       " ('CALVAS', 'Fiscomisional'),\n",
       " ('CATAMAYO', 'Fiscal'),\n",
       " ('CATAMAYO', 'Fiscomisional'),\n",
       " ('CATAMAYO', 'Laico'),\n",
       " ('CELICA', 'Fiscal'),\n",
       " ('CELICA', 'Fiscomisional'),\n",
       " ('CHAGUARPAMBA', 'Fiscal')]"
      ]
     },
     "execution_count": 8,
     "metadata": {},
     "output_type": "execute_result"
    }
   ],
   "source": [
    "# Creamos una lista de factores unicos a partir de los valores de Canton_Tipo\n",
    "factores = list(source.data['Canton_Tipo'])\n",
    "colores = factor_cmap('Canton_Tipo', palette=paleta4, factors=tipos, start=1, end=2)\n",
    "factores[:8]"
   ]
  },
  {
   "cell_type": "markdown",
   "metadata": {},
   "source": [
    "## Se crea el objeto figure\n",
    "Se crea un objeto figure con una configuracion incial.\n",
    "\n",
    "Se configuran el rango x con los factores se usa `*` para desempaquetar la lista, en tools se configuran las herrramientas que se podran usar en la grafica y active_scroll configura que el zoom con la rueda del mouse este activo desde el comienzo y este solo pueda ser horizontalmente."
   ]
  },
  {
   "cell_type": "code",
   "execution_count": 9,
   "metadata": {},
   "outputs": [],
   "source": [
    "p = figure(x_range=FactorRange(*factores), width=500, height=700, tools='xpan,box_zoom,xwheel_zoom,reset', active_scroll='xwheel_zoom')\n",
    "\n",
    "# Se crean los tres graficos de barras verticales\n",
    "r1 = p.vbar(x='Canton_Tipo', width=0.7, top='Total_Alumnos', alpha = 0.6, fill_color=colores, source=source)\n",
    "r2 = p.vbar(x='Canton_Tipo', width=0.7, top='EstudiantesFemenino', alpha = 0.6, fill_color=colores, source=source)\n",
    "r3 = p.vbar(x='Canton_Tipo', width=0.7, top='EstudiantesMasculino', alpha = 0.6, fill_color=colores, source=source)\n",
    "\n",
    "# Se configura que la vista comience en 0\n",
    "p.y_range.start = 0\n",
    "p.x_range.range_padding = 0.01\n",
    "\n",
    "# Configura que la rejilla no se vea\n",
    "p.xgrid.grid_line_color = None\n",
    "\n",
    "# Se configura el toolbar para que se oculte cuando el mouse no esta encima de la grafica\n",
    "p.toolbar.autohide = True"
   ]
  },
  {
   "cell_type": "markdown",
   "metadata": {},
   "source": [
    "## Configurando la grafica"
   ]
  },
  {
   "cell_type": "code",
   "execution_count": 10,
   "metadata": {},
   "outputs": [],
   "source": [
    "# Se establece el titulo de la grafica\n",
    "p.title.text='Promedio de Estudiantes por Tipo de Institucion'\n",
    "\n",
    "# Se etablcen las etiquetas para los ejes\n",
    "p.xaxis.axis_label = 'Tipo de institucion'\n",
    "p.yaxis.axis_label = 'Promedio de estudiantes'\n",
    "\n",
    "# Se inclinan los valores de x para una mejor visualizacion\n",
    "p.xaxis.major_label_orientation = 1"
   ]
  },
  {
   "cell_type": "code",
   "execution_count": 11,
   "metadata": {},
   "outputs": [],
   "source": [
    "# Se configura la etiqueta para que muestre datos\n",
    "# al colocar el mouse por encima de las barras\n",
    "etiqueta = HoverTool(\n",
    "    tooltips = [('Promedio M', '@EstudiantesFemenino{0}'),\n",
    "                ('Promedio H', '@EstudiantesMasculino{0}'),\n",
    "                ('Promedio Total', '@Total_Alumnos{0}')],\n",
    "    mode = 'vline'\n",
    ")\n",
    "# Se añade la etiqueta a la grafica\n",
    "p.add_tools(etiqueta)"
   ]
  },
  {
   "cell_type": "markdown",
   "metadata": {},
   "source": [
    "## Leyenda\n",
    "Se configura un objeto `Legend`"
   ]
  },
  {
   "cell_type": "code",
   "execution_count": 12,
   "metadata": {},
   "outputs": [],
   "source": [
    "# Objeto legend\n",
    "leyenda = Legend(\n",
    "    # Valores que aparecen\n",
    "    items=[('Promedio Total', [r1]),\n",
    "          ('Promedio Mujeres', [r2]),\n",
    "          ('Promedio Hombres', [r3])]\n",
    ")\n",
    "# Añadimos la leyenda al grafico\n",
    "p.add_layout(leyenda)\n",
    "\n",
    "# Se configura la leyenda del grafico para que sea dinamica y al cliquear\n",
    "# sobre los valores estos desaparezcan o aparezcan en el grafico.\n",
    "p.legend.click_policy = 'hide'"
   ]
  },
  {
   "cell_type": "markdown",
   "metadata": {},
   "source": [
    "## Configuracion de la vista\n",
    "Se configura las pocisiones de la grafica.\n",
    "\n",
    "Se pasa la configuracion scale_width para que la vizualizacion de adapte al ancho del contendor y de la pantalla."
   ]
  },
  {
   "cell_type": "code",
   "execution_count": 13,
   "metadata": {},
   "outputs": [],
   "source": [
    "lienzo = layout([\n",
    "    [p]\n",
    "], sizing_mode='scale_width')"
   ]
  },
  {
   "cell_type": "markdown",
   "metadata": {},
   "source": [
    "## Mostramos los resultados\n",
    "En esta grafica la Leyenda es dinamica, esto permite seleccionar que graficos se dibujan en la misma."
   ]
  },
  {
   "cell_type": "code",
   "execution_count": 14,
   "metadata": {},
   "outputs": [
    {
     "data": {
      "text/html": [
       "\n",
       "\n",
       "\n",
       "\n",
       "\n",
       "\n",
       "  <div class=\"bk-root\" id=\"6e677fab-5525-4b73-820c-5a9a1dd0a162\" data-root-id=\"1057\"></div>\n"
      ]
     },
     "metadata": {},
     "output_type": "display_data"
    },
    {
     "data": {
      "application/javascript": [
       "(function(root) {\n",
       "  function embed_document(root) {\n",
       "    \n",
       "  var docs_json = {\"38336dd6-9df8-4a86-a745-2df74fa5d043\":{\"roots\":{\"references\":[{\"attributes\":{\"children\":[{\"id\":\"1056\",\"type\":\"Row\"}],\"sizing_mode\":\"scale_width\"},\"id\":\"1057\",\"type\":\"Column\"},{\"attributes\":{\"fill_alpha\":{\"value\":0.6},\"fill_color\":{\"field\":\"Canton_Tipo\",\"transform\":{\"id\":\"1003\",\"type\":\"CategoricalColorMapper\"}},\"line_alpha\":{\"value\":0.6},\"line_color\":{\"value\":\"#1f77b4\"},\"top\":{\"field\":\"Total_Alumnos\"},\"width\":{\"value\":0.7},\"x\":{\"field\":\"Canton_Tipo\"}},\"id\":\"1034\",\"type\":\"VBar\"},{\"attributes\":{\"fill_alpha\":{\"value\":0.1},\"fill_color\":{\"value\":\"#1f77b4\"},\"line_alpha\":{\"value\":0.1},\"line_color\":{\"value\":\"#1f77b4\"},\"top\":{\"field\":\"Total_Alumnos\"},\"width\":{\"value\":0.7},\"x\":{\"field\":\"Canton_Tipo\"}},\"id\":\"1035\",\"type\":\"VBar\"},{\"attributes\":{\"callback\":null,\"start\":0},\"id\":\"1007\",\"type\":\"DataRange1d\"},{\"attributes\":{\"plot\":null,\"text\":\"Promedio de Estudiantes por Tipo de Institucion\"},\"id\":\"1049\",\"type\":\"Title\"},{\"attributes\":{},\"id\":\"1009\",\"type\":\"CategoricalScale\"},{\"attributes\":{\"data_source\":{\"id\":\"1002\",\"type\":\"ColumnDataSource\"},\"glyph\":{\"id\":\"1034\",\"type\":\"VBar\"},\"hover_glyph\":null,\"muted_glyph\":null,\"nonselection_glyph\":{\"id\":\"1035\",\"type\":\"VBar\"},\"selection_glyph\":null,\"view\":{\"id\":\"1037\",\"type\":\"CDSView\"}},\"id\":\"1036\",\"type\":\"GlyphRenderer\"},{\"attributes\":{\"source\":{\"id\":\"1002\",\"type\":\"ColumnDataSource\"}},\"id\":\"1037\",\"type\":\"CDSView\"},{\"attributes\":{},\"id\":\"1011\",\"type\":\"LinearScale\"},{\"attributes\":{\"children\":[{\"id\":\"1005\",\"subtype\":\"Figure\",\"type\":\"Plot\"}],\"sizing_mode\":\"scale_width\"},\"id\":\"1056\",\"type\":\"Row\"},{\"attributes\":{\"axis_label\":\"Tipo de institucion\",\"formatter\":{\"id\":\"1062\",\"type\":\"CategoricalTickFormatter\"},\"major_label_orientation\":1,\"plot\":{\"id\":\"1005\",\"subtype\":\"Figure\",\"type\":\"Plot\"},\"ticker\":{\"id\":\"1014\",\"type\":\"CategoricalTicker\"}},\"id\":\"1013\",\"type\":\"CategoricalAxis\"},{\"attributes\":{},\"id\":\"1060\",\"type\":\"BasicTickFormatter\"},{\"attributes\":{},\"id\":\"1014\",\"type\":\"CategoricalTicker\"},{\"attributes\":{\"callback\":null,\"mode\":\"vline\",\"tooltips\":[[\"Promedio M\",\"@EstudiantesFemenino{0}\"],[\"Promedio H\",\"@EstudiantesMasculino{0}\"],[\"Promedio Total\",\"@Total_Alumnos{0}\"]]},\"id\":\"1050\",\"type\":\"HoverTool\"},{\"attributes\":{\"fill_alpha\":{\"value\":0.6},\"fill_color\":{\"field\":\"Canton_Tipo\",\"transform\":{\"id\":\"1003\",\"type\":\"CategoricalColorMapper\"}},\"line_alpha\":{\"value\":0.6},\"line_color\":{\"value\":\"#1f77b4\"},\"top\":{\"field\":\"EstudiantesFemenino\"},\"width\":{\"value\":0.7},\"x\":{\"field\":\"Canton_Tipo\"}},\"id\":\"1039\",\"type\":\"VBar\"},{\"attributes\":{\"bottom_units\":\"screen\",\"fill_alpha\":{\"value\":0.5},\"fill_color\":{\"value\":\"lightgrey\"},\"left_units\":\"screen\",\"level\":\"overlay\",\"line_alpha\":{\"value\":1.0},\"line_color\":{\"value\":\"black\"},\"line_dash\":[4,4],\"line_width\":{\"value\":2},\"plot\":null,\"render_mode\":\"css\",\"right_units\":\"screen\",\"top_units\":\"screen\"},\"id\":\"1027\",\"type\":\"BoxAnnotation\"},{\"attributes\":{\"click_policy\":\"hide\",\"items\":[{\"id\":\"1053\",\"type\":\"LegendItem\"},{\"id\":\"1054\",\"type\":\"LegendItem\"},{\"id\":\"1055\",\"type\":\"LegendItem\"}],\"plot\":{\"id\":\"1005\",\"subtype\":\"Figure\",\"type\":\"Plot\"}},\"id\":\"1052\",\"type\":\"Legend\"},{\"attributes\":{\"fill_alpha\":{\"value\":0.1},\"fill_color\":{\"value\":\"#1f77b4\"},\"line_alpha\":{\"value\":0.1},\"line_color\":{\"value\":\"#1f77b4\"},\"top\":{\"field\":\"EstudiantesFemenino\"},\"width\":{\"value\":0.7},\"x\":{\"field\":\"Canton_Tipo\"}},\"id\":\"1040\",\"type\":\"VBar\"},{\"attributes\":{\"grid_line_color\":{\"value\":null},\"plot\":{\"id\":\"1005\",\"subtype\":\"Figure\",\"type\":\"Plot\"},\"ticker\":{\"id\":\"1014\",\"type\":\"CategoricalTicker\"}},\"id\":\"1016\",\"type\":\"Grid\"},{\"attributes\":{\"data_source\":{\"id\":\"1002\",\"type\":\"ColumnDataSource\"},\"glyph\":{\"id\":\"1039\",\"type\":\"VBar\"},\"hover_glyph\":null,\"muted_glyph\":null,\"nonselection_glyph\":{\"id\":\"1040\",\"type\":\"VBar\"},\"selection_glyph\":null,\"view\":{\"id\":\"1042\",\"type\":\"CDSView\"}},\"id\":\"1041\",\"type\":\"GlyphRenderer\"},{\"attributes\":{\"axis_label\":\"Promedio de estudiantes\",\"formatter\":{\"id\":\"1060\",\"type\":\"BasicTickFormatter\"},\"plot\":{\"id\":\"1005\",\"subtype\":\"Figure\",\"type\":\"Plot\"},\"ticker\":{\"id\":\"1018\",\"type\":\"BasicTicker\"}},\"id\":\"1017\",\"type\":\"LinearAxis\"},{\"attributes\":{},\"id\":\"1062\",\"type\":\"CategoricalTickFormatter\"},{\"attributes\":{\"source\":{\"id\":\"1002\",\"type\":\"ColumnDataSource\"}},\"id\":\"1042\",\"type\":\"CDSView\"},{\"attributes\":{},\"id\":\"1018\",\"type\":\"BasicTicker\"},{\"attributes\":{\"label\":{\"value\":\"Promedio Total\"},\"renderers\":[{\"id\":\"1036\",\"type\":\"GlyphRenderer\"}]},\"id\":\"1053\",\"type\":\"LegendItem\"},{\"attributes\":{\"dimension\":1,\"plot\":{\"id\":\"1005\",\"subtype\":\"Figure\",\"type\":\"Plot\"},\"ticker\":{\"id\":\"1018\",\"type\":\"BasicTicker\"}},\"id\":\"1021\",\"type\":\"Grid\"},{\"attributes\":{\"label\":{\"value\":\"Promedio Mujeres\"},\"renderers\":[{\"id\":\"1041\",\"type\":\"GlyphRenderer\"}]},\"id\":\"1054\",\"type\":\"LegendItem\"},{\"attributes\":{\"fill_alpha\":{\"value\":0.6},\"fill_color\":{\"field\":\"Canton_Tipo\",\"transform\":{\"id\":\"1003\",\"type\":\"CategoricalColorMapper\"}},\"line_alpha\":{\"value\":0.6},\"line_color\":{\"value\":\"#1f77b4\"},\"top\":{\"field\":\"EstudiantesMasculino\"},\"width\":{\"value\":0.7},\"x\":{\"field\":\"Canton_Tipo\"}},\"id\":\"1044\",\"type\":\"VBar\"},{\"attributes\":{\"fill_alpha\":{\"value\":0.1},\"fill_color\":{\"value\":\"#1f77b4\"},\"line_alpha\":{\"value\":0.1},\"line_color\":{\"value\":\"#1f77b4\"},\"top\":{\"field\":\"EstudiantesMasculino\"},\"width\":{\"value\":0.7},\"x\":{\"field\":\"Canton_Tipo\"}},\"id\":\"1045\",\"type\":\"VBar\"},{\"attributes\":{\"data_source\":{\"id\":\"1002\",\"type\":\"ColumnDataSource\"},\"glyph\":{\"id\":\"1044\",\"type\":\"VBar\"},\"hover_glyph\":null,\"muted_glyph\":null,\"nonselection_glyph\":{\"id\":\"1045\",\"type\":\"VBar\"},\"selection_glyph\":null,\"view\":{\"id\":\"1047\",\"type\":\"CDSView\"}},\"id\":\"1046\",\"type\":\"GlyphRenderer\"},{\"attributes\":{\"dimensions\":\"width\"},\"id\":\"1022\",\"type\":\"PanTool\"},{\"attributes\":{\"label\":{\"value\":\"Promedio Hombres\"},\"renderers\":[{\"id\":\"1046\",\"type\":\"GlyphRenderer\"}]},\"id\":\"1055\",\"type\":\"LegendItem\"},{\"attributes\":{\"overlay\":{\"id\":\"1027\",\"type\":\"BoxAnnotation\"}},\"id\":\"1023\",\"type\":\"BoxZoomTool\"},{\"attributes\":{\"source\":{\"id\":\"1002\",\"type\":\"ColumnDataSource\"}},\"id\":\"1047\",\"type\":\"CDSView\"},{\"attributes\":{},\"id\":\"1064\",\"type\":\"UnionRenderers\"},{\"attributes\":{\"dimensions\":\"width\"},\"id\":\"1024\",\"type\":\"WheelZoomTool\"},{\"attributes\":{\"end\":2,\"factors\":[\"Fiscal\",\"Fiscomisional\",\"Laico\",\"Religioso\"],\"palette\":[\"#247BA0\",\"#70C1B3\",\"#B2DBBF\",\"#F3FFBD\",\"#FF1654\"],\"start\":1},\"id\":\"1003\",\"type\":\"CategoricalColorMapper\"},{\"attributes\":{},\"id\":\"1025\",\"type\":\"ResetTool\"},{\"attributes\":{},\"id\":\"1065\",\"type\":\"Selection\"},{\"attributes\":{\"active_drag\":\"auto\",\"active_inspect\":\"auto\",\"active_multi\":null,\"active_scroll\":{\"id\":\"1024\",\"type\":\"WheelZoomTool\"},\"active_tap\":\"auto\",\"autohide\":true,\"tools\":[{\"id\":\"1022\",\"type\":\"PanTool\"},{\"id\":\"1023\",\"type\":\"BoxZoomTool\"},{\"id\":\"1024\",\"type\":\"WheelZoomTool\"},{\"id\":\"1025\",\"type\":\"ResetTool\"},{\"id\":\"1050\",\"type\":\"HoverTool\"}]},\"id\":\"1026\",\"type\":\"Toolbar\"},{\"attributes\":{\"callback\":null,\"data\":{\"Canton_Tipo\":[[\"CALVAS\",\"Fiscal\"],[\"CALVAS\",\"Fiscomisional\"],[\"CATAMAYO\",\"Fiscal\"],[\"CATAMAYO\",\"Fiscomisional\"],[\"CATAMAYO\",\"Laico\"],[\"CELICA\",\"Fiscal\"],[\"CELICA\",\"Fiscomisional\"],[\"CHAGUARPAMBA\",\"Fiscal\"],[\"CHAGUARPAMBA\",\"Fiscomisional\"],[\"ESPINDOLA\",\"Fiscal\"],[\"ESPINDOLA\",\"Fiscomisional\"],[\"GONZANAMA\",\"Fiscal\"],[\"GONZANAMA\",\"Fiscomisional\"],[\"LOJA\",\"Fiscal\"],[\"LOJA\",\"Fiscomisional\"],[\"LOJA\",\"Laico\"],[\"LOJA\",\"Religioso\"],[\"MACARA\",\"Fiscal\"],[\"MACARA\",\"Fiscomisional\"],[\"OLMEDO\",\"Fiscal\"],[\"OLMEDO\",\"Fiscomisional\"],[\"PALTAS\",\"Fiscal\"],[\"PALTAS\",\"Fiscomisional\"],[\"PINDAL\",\"Fiscal\"],[\"PUYANGO\",\"Fiscal\"],[\"QUILANGA\",\"Fiscal\"],[\"SARAGURO\",\"Fiscal\"],[\"SARAGURO\",\"Fiscomisional\"],[\"SOZORANGA\",\"Fiscal\"],[\"ZAPOTILLO\",\"Fiscal\"]],\"DocentesFemenino\":{\"__ndarray__\":\"VVVVVVVVLUCrqqqqqqpEQAAAAAAAAChAAAAAAAAAPkAAAAAAAAAcQDMzMzMzMxdAAAAAAAAAQkBVVVVVVVUVQAAAAAAAADRAAAAAAACAG0AAAAAAAAAsQAAAAAAAACZAAAAAAAAAJUAAAAAAAGg0QKOLLrrookFAVVVVVVWVMkBVVVVVVdU8QAAAAAAAgC5AAAAAAACAPkAAAAAAAAAUQAAAAAAAADRAzczMzMzMHEAAAAAAAIA+QKuqqqqqqiZAAAAAAACAHEAAAAAAAAAgQHTRRRdddCNAAAAAAAAAN0AAAAAAAAAWQFVVVVVVVRtA\",\"dtype\":\"float64\",\"shape\":[30]},\"DocentesMasculino\":{\"__ndarray__\":\"VVVVVVVVLUBVVVVVVVU6QAAAAAAAACRAAAAAAAAAKEAAAAAAAAAUQGZmZmZmZiBAAAAAAAAAJkAAAAAAAAAYQAAAAAAAACJAAAAAAAAAGEAAAAAAAAAqQAAAAAAAgCFAAAAAAAAAI0AAAAAAAGAnQHTRRRdddDJAAAAAAAAAG0BVVVVVVdUzQAAAAAAAgCJAAAAAAAAAM0AAAAAAAAAIQAAAAAAAADJAAAAAAAAAFkAAAAAAAAAvQKuqqqqqqhpAAAAAAAAAHkAAAAAAAAAgQF100UUXXSJAAAAAAACAOEAAAAAAAAAeQAAAAAAAABZA\",\"dtype\":\"float64\",\"shape\":[30]},\"EstudiantesFemenino\":{\"__ndarray__\":\"VVVVVVUVY0AAAAAAAOiCQFVVVVVV9WhAAAAAAAC4e0AAAAAAAABFQJqZmZmZmVVAAAAAAAAgdkBVVVVVVZVVQAAAAAAAoGpAAAAAAADIVEBVVVVVVVVoQAAAAAAAUFtAAAAAAABAZEBVqIS4fUdqQIl/jfjXiGhAAAAAAAC4Y0DTlIqzD/FvQAAAAAAAmGNAAAAAAAA4f0AAAAAAAABGQAAAAAAAgHNAZmZmZmZmUkAAAAAAAOh8QAAAAAAAQGVAAAAAAAB4WEAAAAAAAKBZQEYXXXTRpWJAAAAAAACgd0AAAAAAAOBOQKuqqqqqSlVA\",\"dtype\":\"float64\",\"shape\":[30]},\"EstudiantesMasculino\":{\"__ndarray__\":\"AAAAAACwZkAAAAAAAJiBQFVVVVVVBXBAAAAAAADAckAAAAAAAIBDQJqZmZmZmVhAAAAAAAAAeEAAAAAAAIBXQAAAAAAAoGRAAAAAAABYV0BVVVVVVbVoQAAAAAAA0FxAAAAAAADgYkAAAAAAgKZyQBdddNFFV3dAVVVVVVVtZUAAAAAAACB/QAAAAAAAOGhAAAAAAABgfEAAAAAAAIBGQAAAAAAAYHRAAAAAAABAVUAAAAAAABh7QKuqqqqqamlAAAAAAABAW0AAAAAAACBdQF100UUXPWNAAAAAAAAId0AAAAAAANBRQAAAAAAAYFRA\",\"dtype\":\"float64\",\"shape\":[30]},\"TotalAdministrativos\":{\"__ndarray__\":\"VVVVVVVVG0BVVVVVVVUdQKuqqqqqqgpAAAAAAAAADEAAAAAAAAAUQM3MzMzMzAxAAAAAAAAAEEBVVVVVVVURQAAAAAAAAAAAAAAAAAAA/D8AAAAAAAAQQAAAAAAAABRAAAAAAAAAEEAAAAAAAOAUQLrooosuuiBAq6qqqqoqJkCrqqqqqqorQAAAAAAAABNAAAAAAAAAHkAAAAAAAAAAQAAAAAAAAAhAzczMzMzMDEAAAAAAAAAaQFVVVVVVVQVAAAAAAAAADEAAAAAAAAASQHTRRRdddAFAAAAAAAAAHEAAAAAAAAAMQFVVVVVVVQFA\",\"dtype\":\"float64\",\"shape\":[30]},\"TotalDocentes\":{\"__ndarray__\":\"VVVVVVVVPUCrqqqqqupQQAAAAAAAADZAAAAAAAAARUAAAAAAAAAoQAAAAAAAACxAAAAAAACAR0CrqqqqqqomQAAAAAAAAD1AAAAAAADAKUAAAAAAAAA7QAAAAAAAwDNAAAAAAAAANEAAAAAAAAxAQF100UUX3UpAVVVVVVVVOUBVVVVVVVVIQAAAAAAAgDhAAAAAAADASEAAAAAAAAAgQAAAAAAAAENAZmZmZmZmKUAAAAAAAABHQAAAAAAAADJAAAAAAABALUAAAAAAAAAwQOmiiy666DJAAAAAAADAR0AAAAAAAAAqQKuqqqqqqihA\",\"dtype\":\"float64\",\"shape\":[30]},\"Total_Alumnos\":{\"__ndarray__\":\"q6qqqqridEAAAAAAAECSQAAAAAAAgHxAAAAAAAA8h0AAAAAAAEBUQJqZmZmZGWdAAAAAAAAQh0CrqqqqqopmQAAAAAAAoHdAAAAAAAAQZkBVVVVVVYV4QAAAAAAAEGxAAAAAAACQc0AAAAAAAJqBQC+66KKLLpBAq6qqqqqSdEBVVVVVVcmNQAAAAAAA6HVAAAAAAADIfUAAAAAAAEBWQAAAAAAA8INAMzMzMzPTY0AAAAAAAACMQFVVVVVVVXdAAAAAAADcaUAAAAAAAGBrQNFFF1108XJAAAAAAABUh0AAAAAAAKBgQFVVVVVV1WRA\",\"dtype\":\"float64\",\"shape\":[30]}},\"selected\":{\"id\":\"1065\",\"type\":\"Selection\"},\"selection_policy\":{\"id\":\"1064\",\"type\":\"UnionRenderers\"}},\"id\":\"1002\",\"type\":\"ColumnDataSource\"},{\"attributes\":{\"callback\":null,\"factors\":[[\"CALVAS\",\"Fiscal\"],[\"CALVAS\",\"Fiscomisional\"],[\"CATAMAYO\",\"Fiscal\"],[\"CATAMAYO\",\"Fiscomisional\"],[\"CATAMAYO\",\"Laico\"],[\"CELICA\",\"Fiscal\"],[\"CELICA\",\"Fiscomisional\"],[\"CHAGUARPAMBA\",\"Fiscal\"],[\"CHAGUARPAMBA\",\"Fiscomisional\"],[\"ESPINDOLA\",\"Fiscal\"],[\"ESPINDOLA\",\"Fiscomisional\"],[\"GONZANAMA\",\"Fiscal\"],[\"GONZANAMA\",\"Fiscomisional\"],[\"LOJA\",\"Fiscal\"],[\"LOJA\",\"Fiscomisional\"],[\"LOJA\",\"Laico\"],[\"LOJA\",\"Religioso\"],[\"MACARA\",\"Fiscal\"],[\"MACARA\",\"Fiscomisional\"],[\"OLMEDO\",\"Fiscal\"],[\"OLMEDO\",\"Fiscomisional\"],[\"PALTAS\",\"Fiscal\"],[\"PALTAS\",\"Fiscomisional\"],[\"PINDAL\",\"Fiscal\"],[\"PUYANGO\",\"Fiscal\"],[\"QUILANGA\",\"Fiscal\"],[\"SARAGURO\",\"Fiscal\"],[\"SARAGURO\",\"Fiscomisional\"],[\"SOZORANGA\",\"Fiscal\"],[\"ZAPOTILLO\",\"Fiscal\"]],\"range_padding\":0.01},\"id\":\"1004\",\"type\":\"FactorRange\"},{\"attributes\":{\"below\":[{\"id\":\"1013\",\"type\":\"CategoricalAxis\"}],\"left\":[{\"id\":\"1017\",\"type\":\"LinearAxis\"}],\"plot_height\":700,\"plot_width\":500,\"renderers\":[{\"id\":\"1013\",\"type\":\"CategoricalAxis\"},{\"id\":\"1016\",\"type\":\"Grid\"},{\"id\":\"1017\",\"type\":\"LinearAxis\"},{\"id\":\"1021\",\"type\":\"Grid\"},{\"id\":\"1027\",\"type\":\"BoxAnnotation\"},{\"id\":\"1036\",\"type\":\"GlyphRenderer\"},{\"id\":\"1041\",\"type\":\"GlyphRenderer\"},{\"id\":\"1046\",\"type\":\"GlyphRenderer\"},{\"id\":\"1052\",\"type\":\"Legend\"}],\"sizing_mode\":\"scale_width\",\"title\":{\"id\":\"1049\",\"type\":\"Title\"},\"toolbar\":{\"id\":\"1026\",\"type\":\"Toolbar\"},\"x_range\":{\"id\":\"1004\",\"type\":\"FactorRange\"},\"x_scale\":{\"id\":\"1009\",\"type\":\"CategoricalScale\"},\"y_range\":{\"id\":\"1007\",\"type\":\"DataRange1d\"},\"y_scale\":{\"id\":\"1011\",\"type\":\"LinearScale\"}},\"id\":\"1005\",\"subtype\":\"Figure\",\"type\":\"Plot\"}],\"root_ids\":[\"1057\"]},\"title\":\"Bokeh Application\",\"version\":\"1.0.4\"}};\n",
       "  var render_items = [{\"docid\":\"38336dd6-9df8-4a86-a745-2df74fa5d043\",\"roots\":{\"1057\":\"6e677fab-5525-4b73-820c-5a9a1dd0a162\"}}];\n",
       "  root.Bokeh.embed.embed_items_notebook(docs_json, render_items);\n",
       "\n",
       "  }\n",
       "  if (root.Bokeh !== undefined) {\n",
       "    embed_document(root);\n",
       "  } else {\n",
       "    var attempts = 0;\n",
       "    var timer = setInterval(function(root) {\n",
       "      if (root.Bokeh !== undefined) {\n",
       "        embed_document(root);\n",
       "        clearInterval(timer);\n",
       "      }\n",
       "      attempts++;\n",
       "      if (attempts > 100) {\n",
       "        console.log(\"Bokeh: ERROR: Unable to run BokehJS code because BokehJS library is missing\");\n",
       "        clearInterval(timer);\n",
       "      }\n",
       "    }, 10, root)\n",
       "  }\n",
       "})(window);"
      ],
      "application/vnd.bokehjs_exec.v0+json": ""
     },
     "metadata": {
      "application/vnd.bokehjs_exec.v0+json": {
       "id": "1057"
      }
     },
     "output_type": "display_data"
    }
   ],
   "source": [
    "show(lienzo)"
   ]
  }
 ],
 "metadata": {
  "kernelspec": {
   "display_name": "Python 3",
   "language": "python",
   "name": "python3"
  },
  "language_info": {
   "codemirror_mode": {
    "name": "ipython",
    "version": 3
   },
   "file_extension": ".py",
   "mimetype": "text/x-python",
   "name": "python",
   "nbconvert_exporter": "python",
   "pygments_lexer": "ipython3",
   "version": "3.6.3"
  }
 },
 "nbformat": 4,
 "nbformat_minor": 2
}
