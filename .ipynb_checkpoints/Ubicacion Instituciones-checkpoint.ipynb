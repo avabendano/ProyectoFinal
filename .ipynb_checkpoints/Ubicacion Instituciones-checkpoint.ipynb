{
 "cells": [
  {
   "cell_type": "markdown",
   "metadata": {},
   "source": [
    "# Ubicación geofrafica de las Instituciones Educativas\n",
    "Usando un mapa se representaran las posiciones geograficas de las instituciones educativas de la provicia de Loja, asi mismo meidante colores se muestra el numero de alumnos que estos tienen."
   ]
  },
  {
   "cell_type": "markdown",
   "metadata": {},
   "source": [
    "## Importacion de librerias\n",
    "Un ejemplo de las librerias que podemos importar para trabajar con **Bokeh** y **Pandas**."
   ]
  },
  {
   "cell_type": "code",
   "execution_count": 1,
   "metadata": {},
   "outputs": [],
   "source": [
    "#!/usr/bin/python\n",
    "# -*- coding: utf-8 -*-\n",
    "# Victoria\n",
    "\n",
    "import pandas as pd\n",
    "import numpy as np\n",
    "\n",
    "from bokeh.layouts import layout\n",
    "from bokeh.plotting import figure, show, output_notebook\n",
    "from bokeh.models import ColumnDataSource, ColorBar\n",
    "from bokeh.models.tools import HoverTool\n",
    "from bokeh.tile_providers import STAMEN_TERRAIN, CARTODBPOSITRON\n",
    "from bokeh.transform import linear_cmap\n",
    "\n",
    "from lib.colores import *"
   ]
  },
  {
   "cell_type": "markdown",
   "metadata": {},
   "source": [
    "## Asignar la salida de los graficos al propio notebook"
   ]
  },
  {
   "cell_type": "code",
   "execution_count": 2,
   "metadata": {},
   "outputs": [
    {
     "data": {
      "text/html": [
       "\n",
       "    <div class=\"bk-root\">\n",
       "        <a href=\"https://bokeh.pydata.org\" target=\"_blank\" class=\"bk-logo bk-logo-small bk-logo-notebook\"></a>\n",
       "        <span id=\"1003\">Loading BokehJS ...</span>\n",
       "    </div>"
      ]
     },
     "metadata": {},
     "output_type": "display_data"
    },
    {
     "data": {
      "application/javascript": [
       "\n",
       "(function(root) {\n",
       "  function now() {\n",
       "    return new Date();\n",
       "  }\n",
       "\n",
       "  var force = true;\n",
       "\n",
       "  if (typeof (root._bokeh_onload_callbacks) === \"undefined\" || force === true) {\n",
       "    root._bokeh_onload_callbacks = [];\n",
       "    root._bokeh_is_loading = undefined;\n",
       "  }\n",
       "\n",
       "  var JS_MIME_TYPE = 'application/javascript';\n",
       "  var HTML_MIME_TYPE = 'text/html';\n",
       "  var EXEC_MIME_TYPE = 'application/vnd.bokehjs_exec.v0+json';\n",
       "  var CLASS_NAME = 'output_bokeh rendered_html';\n",
       "\n",
       "  /**\n",
       "   * Render data to the DOM node\n",
       "   */\n",
       "  function render(props, node) {\n",
       "    var script = document.createElement(\"script\");\n",
       "    node.appendChild(script);\n",
       "  }\n",
       "\n",
       "  /**\n",
       "   * Handle when an output is cleared or removed\n",
       "   */\n",
       "  function handleClearOutput(event, handle) {\n",
       "    var cell = handle.cell;\n",
       "\n",
       "    var id = cell.output_area._bokeh_element_id;\n",
       "    var server_id = cell.output_area._bokeh_server_id;\n",
       "    // Clean up Bokeh references\n",
       "    if (id != null && id in Bokeh.index) {\n",
       "      Bokeh.index[id].model.document.clear();\n",
       "      delete Bokeh.index[id];\n",
       "    }\n",
       "\n",
       "    if (server_id !== undefined) {\n",
       "      // Clean up Bokeh references\n",
       "      var cmd = \"from bokeh.io.state import curstate; print(curstate().uuid_to_server['\" + server_id + \"'].get_sessions()[0].document.roots[0]._id)\";\n",
       "      cell.notebook.kernel.execute(cmd, {\n",
       "        iopub: {\n",
       "          output: function(msg) {\n",
       "            var id = msg.content.text.trim();\n",
       "            if (id in Bokeh.index) {\n",
       "              Bokeh.index[id].model.document.clear();\n",
       "              delete Bokeh.index[id];\n",
       "            }\n",
       "          }\n",
       "        }\n",
       "      });\n",
       "      // Destroy server and session\n",
       "      var cmd = \"import bokeh.io.notebook as ion; ion.destroy_server('\" + server_id + \"')\";\n",
       "      cell.notebook.kernel.execute(cmd);\n",
       "    }\n",
       "  }\n",
       "\n",
       "  /**\n",
       "   * Handle when a new output is added\n",
       "   */\n",
       "  function handleAddOutput(event, handle) {\n",
       "    var output_area = handle.output_area;\n",
       "    var output = handle.output;\n",
       "\n",
       "    // limit handleAddOutput to display_data with EXEC_MIME_TYPE content only\n",
       "    if ((output.output_type != \"display_data\") || (!output.data.hasOwnProperty(EXEC_MIME_TYPE))) {\n",
       "      return\n",
       "    }\n",
       "\n",
       "    var toinsert = output_area.element.find(\".\" + CLASS_NAME.split(' ')[0]);\n",
       "\n",
       "    if (output.metadata[EXEC_MIME_TYPE][\"id\"] !== undefined) {\n",
       "      toinsert[toinsert.length - 1].firstChild.textContent = output.data[JS_MIME_TYPE];\n",
       "      // store reference to embed id on output_area\n",
       "      output_area._bokeh_element_id = output.metadata[EXEC_MIME_TYPE][\"id\"];\n",
       "    }\n",
       "    if (output.metadata[EXEC_MIME_TYPE][\"server_id\"] !== undefined) {\n",
       "      var bk_div = document.createElement(\"div\");\n",
       "      bk_div.innerHTML = output.data[HTML_MIME_TYPE];\n",
       "      var script_attrs = bk_div.children[0].attributes;\n",
       "      for (var i = 0; i < script_attrs.length; i++) {\n",
       "        toinsert[toinsert.length - 1].firstChild.setAttribute(script_attrs[i].name, script_attrs[i].value);\n",
       "      }\n",
       "      // store reference to server id on output_area\n",
       "      output_area._bokeh_server_id = output.metadata[EXEC_MIME_TYPE][\"server_id\"];\n",
       "    }\n",
       "  }\n",
       "\n",
       "  function register_renderer(events, OutputArea) {\n",
       "\n",
       "    function append_mime(data, metadata, element) {\n",
       "      // create a DOM node to render to\n",
       "      var toinsert = this.create_output_subarea(\n",
       "        metadata,\n",
       "        CLASS_NAME,\n",
       "        EXEC_MIME_TYPE\n",
       "      );\n",
       "      this.keyboard_manager.register_events(toinsert);\n",
       "      // Render to node\n",
       "      var props = {data: data, metadata: metadata[EXEC_MIME_TYPE]};\n",
       "      render(props, toinsert[toinsert.length - 1]);\n",
       "      element.append(toinsert);\n",
       "      return toinsert\n",
       "    }\n",
       "\n",
       "    /* Handle when an output is cleared or removed */\n",
       "    events.on('clear_output.CodeCell', handleClearOutput);\n",
       "    events.on('delete.Cell', handleClearOutput);\n",
       "\n",
       "    /* Handle when a new output is added */\n",
       "    events.on('output_added.OutputArea', handleAddOutput);\n",
       "\n",
       "    /**\n",
       "     * Register the mime type and append_mime function with output_area\n",
       "     */\n",
       "    OutputArea.prototype.register_mime_type(EXEC_MIME_TYPE, append_mime, {\n",
       "      /* Is output safe? */\n",
       "      safe: true,\n",
       "      /* Index of renderer in `output_area.display_order` */\n",
       "      index: 0\n",
       "    });\n",
       "  }\n",
       "\n",
       "  // register the mime type if in Jupyter Notebook environment and previously unregistered\n",
       "  if (root.Jupyter !== undefined) {\n",
       "    var events = require('base/js/events');\n",
       "    var OutputArea = require('notebook/js/outputarea').OutputArea;\n",
       "\n",
       "    if (OutputArea.prototype.mime_types().indexOf(EXEC_MIME_TYPE) == -1) {\n",
       "      register_renderer(events, OutputArea);\n",
       "    }\n",
       "  }\n",
       "\n",
       "  \n",
       "  if (typeof (root._bokeh_timeout) === \"undefined\" || force === true) {\n",
       "    root._bokeh_timeout = Date.now() + 5000;\n",
       "    root._bokeh_failed_load = false;\n",
       "  }\n",
       "\n",
       "  var NB_LOAD_WARNING = {'data': {'text/html':\n",
       "     \"<div style='background-color: #fdd'>\\n\"+\n",
       "     \"<p>\\n\"+\n",
       "     \"BokehJS does not appear to have successfully loaded. If loading BokehJS from CDN, this \\n\"+\n",
       "     \"may be due to a slow or bad network connection. Possible fixes:\\n\"+\n",
       "     \"</p>\\n\"+\n",
       "     \"<ul>\\n\"+\n",
       "     \"<li>re-rerun `output_notebook()` to attempt to load from CDN again, or</li>\\n\"+\n",
       "     \"<li>use INLINE resources instead, as so:</li>\\n\"+\n",
       "     \"</ul>\\n\"+\n",
       "     \"<code>\\n\"+\n",
       "     \"from bokeh.resources import INLINE\\n\"+\n",
       "     \"output_notebook(resources=INLINE)\\n\"+\n",
       "     \"</code>\\n\"+\n",
       "     \"</div>\"}};\n",
       "\n",
       "  function display_loaded() {\n",
       "    var el = document.getElementById(\"1003\");\n",
       "    if (el != null) {\n",
       "      el.textContent = \"BokehJS is loading...\";\n",
       "    }\n",
       "    if (root.Bokeh !== undefined) {\n",
       "      if (el != null) {\n",
       "        el.textContent = \"BokehJS \" + root.Bokeh.version + \" successfully loaded.\";\n",
       "      }\n",
       "    } else if (Date.now() < root._bokeh_timeout) {\n",
       "      setTimeout(display_loaded, 100)\n",
       "    }\n",
       "  }\n",
       "\n",
       "\n",
       "  function run_callbacks() {\n",
       "    try {\n",
       "      root._bokeh_onload_callbacks.forEach(function(callback) { callback() });\n",
       "    }\n",
       "    finally {\n",
       "      delete root._bokeh_onload_callbacks\n",
       "    }\n",
       "    console.info(\"Bokeh: all callbacks have finished\");\n",
       "  }\n",
       "\n",
       "  function load_libs(js_urls, callback) {\n",
       "    root._bokeh_onload_callbacks.push(callback);\n",
       "    if (root._bokeh_is_loading > 0) {\n",
       "      console.log(\"Bokeh: BokehJS is being loaded, scheduling callback at\", now());\n",
       "      return null;\n",
       "    }\n",
       "    if (js_urls == null || js_urls.length === 0) {\n",
       "      run_callbacks();\n",
       "      return null;\n",
       "    }\n",
       "    console.log(\"Bokeh: BokehJS not loaded, scheduling load and callback at\", now());\n",
       "    root._bokeh_is_loading = js_urls.length;\n",
       "    for (var i = 0; i < js_urls.length; i++) {\n",
       "      var url = js_urls[i];\n",
       "      var s = document.createElement('script');\n",
       "      s.src = url;\n",
       "      s.async = false;\n",
       "      s.onreadystatechange = s.onload = function() {\n",
       "        root._bokeh_is_loading--;\n",
       "        if (root._bokeh_is_loading === 0) {\n",
       "          console.log(\"Bokeh: all BokehJS libraries loaded\");\n",
       "          run_callbacks()\n",
       "        }\n",
       "      };\n",
       "      s.onerror = function() {\n",
       "        console.warn(\"failed to load library \" + url);\n",
       "      };\n",
       "      console.log(\"Bokeh: injecting script tag for BokehJS library: \", url);\n",
       "      document.getElementsByTagName(\"head\")[0].appendChild(s);\n",
       "    }\n",
       "  };var element = document.getElementById(\"1003\");\n",
       "  if (element == null) {\n",
       "    console.log(\"Bokeh: ERROR: autoload.js configured with elementid '1003' but no matching script tag was found. \")\n",
       "    return false;\n",
       "  }\n",
       "\n",
       "  var js_urls = [\"https://cdn.pydata.org/bokeh/release/bokeh-1.0.4.min.js\", \"https://cdn.pydata.org/bokeh/release/bokeh-widgets-1.0.4.min.js\", \"https://cdn.pydata.org/bokeh/release/bokeh-tables-1.0.4.min.js\", \"https://cdn.pydata.org/bokeh/release/bokeh-gl-1.0.4.min.js\"];\n",
       "\n",
       "  var inline_js = [\n",
       "    function(Bokeh) {\n",
       "      Bokeh.set_log_level(\"info\");\n",
       "    },\n",
       "    \n",
       "    function(Bokeh) {\n",
       "      \n",
       "    },\n",
       "    function(Bokeh) {\n",
       "      console.log(\"Bokeh: injecting CSS: https://cdn.pydata.org/bokeh/release/bokeh-1.0.4.min.css\");\n",
       "      Bokeh.embed.inject_css(\"https://cdn.pydata.org/bokeh/release/bokeh-1.0.4.min.css\");\n",
       "      console.log(\"Bokeh: injecting CSS: https://cdn.pydata.org/bokeh/release/bokeh-widgets-1.0.4.min.css\");\n",
       "      Bokeh.embed.inject_css(\"https://cdn.pydata.org/bokeh/release/bokeh-widgets-1.0.4.min.css\");\n",
       "      console.log(\"Bokeh: injecting CSS: https://cdn.pydata.org/bokeh/release/bokeh-tables-1.0.4.min.css\");\n",
       "      Bokeh.embed.inject_css(\"https://cdn.pydata.org/bokeh/release/bokeh-tables-1.0.4.min.css\");\n",
       "    }\n",
       "  ];\n",
       "\n",
       "  function run_inline_js() {\n",
       "    \n",
       "    if ((root.Bokeh !== undefined) || (force === true)) {\n",
       "      for (var i = 0; i < inline_js.length; i++) {\n",
       "        inline_js[i].call(root, root.Bokeh);\n",
       "      }if (force === true) {\n",
       "        display_loaded();\n",
       "      }} else if (Date.now() < root._bokeh_timeout) {\n",
       "      setTimeout(run_inline_js, 100);\n",
       "    } else if (!root._bokeh_failed_load) {\n",
       "      console.log(\"Bokeh: BokehJS failed to load within specified timeout.\");\n",
       "      root._bokeh_failed_load = true;\n",
       "    } else if (force !== true) {\n",
       "      var cell = $(document.getElementById(\"1003\")).parents('.cell').data().cell;\n",
       "      cell.output_area.append_execute_result(NB_LOAD_WARNING)\n",
       "    }\n",
       "\n",
       "  }\n",
       "\n",
       "  if (root._bokeh_is_loading === 0) {\n",
       "    console.log(\"Bokeh: BokehJS loaded, going straight to plotting\");\n",
       "    run_inline_js();\n",
       "  } else {\n",
       "    load_libs(js_urls, function() {\n",
       "      console.log(\"Bokeh: BokehJS plotting callback run at\", now());\n",
       "      run_inline_js();\n",
       "    });\n",
       "  }\n",
       "}(window));"
      ],
      "application/vnd.bokehjs_load.v0+json": "\n(function(root) {\n  function now() {\n    return new Date();\n  }\n\n  var force = true;\n\n  if (typeof (root._bokeh_onload_callbacks) === \"undefined\" || force === true) {\n    root._bokeh_onload_callbacks = [];\n    root._bokeh_is_loading = undefined;\n  }\n\n  \n\n  \n  if (typeof (root._bokeh_timeout) === \"undefined\" || force === true) {\n    root._bokeh_timeout = Date.now() + 5000;\n    root._bokeh_failed_load = false;\n  }\n\n  var NB_LOAD_WARNING = {'data': {'text/html':\n     \"<div style='background-color: #fdd'>\\n\"+\n     \"<p>\\n\"+\n     \"BokehJS does not appear to have successfully loaded. If loading BokehJS from CDN, this \\n\"+\n     \"may be due to a slow or bad network connection. Possible fixes:\\n\"+\n     \"</p>\\n\"+\n     \"<ul>\\n\"+\n     \"<li>re-rerun `output_notebook()` to attempt to load from CDN again, or</li>\\n\"+\n     \"<li>use INLINE resources instead, as so:</li>\\n\"+\n     \"</ul>\\n\"+\n     \"<code>\\n\"+\n     \"from bokeh.resources import INLINE\\n\"+\n     \"output_notebook(resources=INLINE)\\n\"+\n     \"</code>\\n\"+\n     \"</div>\"}};\n\n  function display_loaded() {\n    var el = document.getElementById(\"1003\");\n    if (el != null) {\n      el.textContent = \"BokehJS is loading...\";\n    }\n    if (root.Bokeh !== undefined) {\n      if (el != null) {\n        el.textContent = \"BokehJS \" + root.Bokeh.version + \" successfully loaded.\";\n      }\n    } else if (Date.now() < root._bokeh_timeout) {\n      setTimeout(display_loaded, 100)\n    }\n  }\n\n\n  function run_callbacks() {\n    try {\n      root._bokeh_onload_callbacks.forEach(function(callback) { callback() });\n    }\n    finally {\n      delete root._bokeh_onload_callbacks\n    }\n    console.info(\"Bokeh: all callbacks have finished\");\n  }\n\n  function load_libs(js_urls, callback) {\n    root._bokeh_onload_callbacks.push(callback);\n    if (root._bokeh_is_loading > 0) {\n      console.log(\"Bokeh: BokehJS is being loaded, scheduling callback at\", now());\n      return null;\n    }\n    if (js_urls == null || js_urls.length === 0) {\n      run_callbacks();\n      return null;\n    }\n    console.log(\"Bokeh: BokehJS not loaded, scheduling load and callback at\", now());\n    root._bokeh_is_loading = js_urls.length;\n    for (var i = 0; i < js_urls.length; i++) {\n      var url = js_urls[i];\n      var s = document.createElement('script');\n      s.src = url;\n      s.async = false;\n      s.onreadystatechange = s.onload = function() {\n        root._bokeh_is_loading--;\n        if (root._bokeh_is_loading === 0) {\n          console.log(\"Bokeh: all BokehJS libraries loaded\");\n          run_callbacks()\n        }\n      };\n      s.onerror = function() {\n        console.warn(\"failed to load library \" + url);\n      };\n      console.log(\"Bokeh: injecting script tag for BokehJS library: \", url);\n      document.getElementsByTagName(\"head\")[0].appendChild(s);\n    }\n  };var element = document.getElementById(\"1003\");\n  if (element == null) {\n    console.log(\"Bokeh: ERROR: autoload.js configured with elementid '1003' but no matching script tag was found. \")\n    return false;\n  }\n\n  var js_urls = [\"https://cdn.pydata.org/bokeh/release/bokeh-1.0.4.min.js\", \"https://cdn.pydata.org/bokeh/release/bokeh-widgets-1.0.4.min.js\", \"https://cdn.pydata.org/bokeh/release/bokeh-tables-1.0.4.min.js\", \"https://cdn.pydata.org/bokeh/release/bokeh-gl-1.0.4.min.js\"];\n\n  var inline_js = [\n    function(Bokeh) {\n      Bokeh.set_log_level(\"info\");\n    },\n    \n    function(Bokeh) {\n      \n    },\n    function(Bokeh) {\n      console.log(\"Bokeh: injecting CSS: https://cdn.pydata.org/bokeh/release/bokeh-1.0.4.min.css\");\n      Bokeh.embed.inject_css(\"https://cdn.pydata.org/bokeh/release/bokeh-1.0.4.min.css\");\n      console.log(\"Bokeh: injecting CSS: https://cdn.pydata.org/bokeh/release/bokeh-widgets-1.0.4.min.css\");\n      Bokeh.embed.inject_css(\"https://cdn.pydata.org/bokeh/release/bokeh-widgets-1.0.4.min.css\");\n      console.log(\"Bokeh: injecting CSS: https://cdn.pydata.org/bokeh/release/bokeh-tables-1.0.4.min.css\");\n      Bokeh.embed.inject_css(\"https://cdn.pydata.org/bokeh/release/bokeh-tables-1.0.4.min.css\");\n    }\n  ];\n\n  function run_inline_js() {\n    \n    if ((root.Bokeh !== undefined) || (force === true)) {\n      for (var i = 0; i < inline_js.length; i++) {\n        inline_js[i].call(root, root.Bokeh);\n      }if (force === true) {\n        display_loaded();\n      }} else if (Date.now() < root._bokeh_timeout) {\n      setTimeout(run_inline_js, 100);\n    } else if (!root._bokeh_failed_load) {\n      console.log(\"Bokeh: BokehJS failed to load within specified timeout.\");\n      root._bokeh_failed_load = true;\n    } else if (force !== true) {\n      var cell = $(document.getElementById(\"1003\")).parents('.cell').data().cell;\n      cell.output_area.append_execute_result(NB_LOAD_WARNING)\n    }\n\n  }\n\n  if (root._bokeh_is_loading === 0) {\n    console.log(\"Bokeh: BokehJS loaded, going straight to plotting\");\n    run_inline_js();\n  } else {\n    load_libs(js_urls, function() {\n      console.log(\"Bokeh: BokehJS plotting callback run at\", now());\n      run_inline_js();\n    });\n  }\n}(window));"
     },
     "metadata": {},
     "output_type": "display_data"
    }
   ],
   "source": [
    "output_notebook()"
   ]
  },
  {
   "cell_type": "markdown",
   "metadata": {},
   "source": [
    "## Lectura del Arvhivo CSV"
   ]
  },
  {
   "cell_type": "code",
   "execution_count": 3,
   "metadata": {},
   "outputs": [],
   "source": [
    "df = pd.read_csv('data/fuente2.csv', sep=';', encoding='windows-1252')"
   ]
  },
  {
   "cell_type": "markdown",
   "metadata": {},
   "source": [
    "## Coordenadas de la provincia de Loja\n",
    "Se crea un diccionario con las coordenadas que ubican a la provincia de Loja en el centro, estas coordenadas se encunetran en formato [**Web Mercator (EPSG 3857)**](https://en.wikipedia.org/wiki/Web_Mercator_projection)"
   ]
  },
  {
   "cell_type": "code",
   "execution_count": 4,
   "metadata": {},
   "outputs": [],
   "source": [
    "LOJA = {'x': (-8970000, -8780000), 'y': (-520000, -360000)}"
   ]
  },
  {
   "cell_type": "markdown",
   "metadata": {},
   "source": [
    "## De Texto a Decimal\n",
    "Este metodo se encarga de convertir un texto `-72,456` a un numero decimal `-72.456` que entienda **Python**.\n",
    "\n",
    "- Los decimales en Python usan `.` para separar los decimales de la parte entera.\n",
    "\n",
    "Por esta razon se usa el metodo `replace` para reemplazar cualquier `,` por un `.` antes de convertir este a `float`."
   ]
  },
  {
   "cell_type": "code",
   "execution_count": 5,
   "metadata": {},
   "outputs": [],
   "source": [
    "def strToFloat(texto):\n",
    "    return float(str(texto).replace(',','.'))"
   ]
  },
  {
   "cell_type": "markdown",
   "metadata": {},
   "source": [
    "## Latitud y Longitud a Web Mercator\n",
    "Las columnas `Latitud` y `Longitud` contienen posiciones geofraficas en formato representativos de grados, para poder representar estas medidas en el mapa de [**OpenStreetMap**](https://www.openstreetmap.org/) las coordenadas deben ser convertidas a formato de [**Web Mercator (EPSG 3857)**](https://en.wikipedia.org/wiki/Web_Mercator_projection).\n",
    "\n",
    "En la documentacion de **Bokeh** se ofrese este calculo, el codigo original ha sido adatado a las necesidades de mi ejemplo."
   ]
  },
  {
   "cell_type": "code",
   "execution_count": 6,
   "metadata": {},
   "outputs": [],
   "source": [
    "def lonLatToMercator(valor, cord):\n",
    "    \"\"\"Convierte coordenadas de longitud/latitud a formato de Web Mercator\"\"\"\n",
    "    k = 6378137\n",
    "    if cord.lower() == 'longitud':\n",
    "        return float(valor) * (k * np.pi/180.0)\n",
    "    else:\n",
    "        return np.log(np.tan((90 + float(valor)) * np.pi/360.0)) * k"
   ]
  },
  {
   "cell_type": "markdown",
   "metadata": {},
   "source": [
    "## Conversion de datos\n",
    "Usando los metodos antes creados se convierten los datos a decimales y desues e crean las columnas `x` y `y` en las culaes se guardaran las pocisiones convertidas a formato **Web Mercator**."
   ]
  },
  {
   "cell_type": "code",
   "execution_count": 7,
   "metadata": {},
   "outputs": [],
   "source": [
    "df['Longitud'] = df['Longitud'].apply(lambda x: strToFloat(x))\n",
    "df['Latitud'] = df['Latitud'].apply(lambda x: strToFloat(x))\n",
    "df['x'] = df['Longitud'].apply(lambda x: lonLatToMercator(x, 'Longitud'))\n",
    "df['y'] = df['Latitud'].apply(lambda x: lonLatToMercator(x, 'Latitud'))"
   ]
  },
  {
   "cell_type": "markdown",
   "metadata": {},
   "source": [
    "## Configuración de colores\n",
    "### Creamos un objeto linear_cmap\n",
    "Este asigna una distribucion de colores en forma linear tomando en cuenta el minimo y el maximo de los valores.\n",
    "\n",
    "#### Ejemplo\n",
    "Una lista de 3 colores \\[azul, verde, rojo\\] y una lista de valores \\[2, 15, 30, 50\\] se obtiene el menor de los valores y se lo asigna al primer color 2 -> azul, se obtiene el mayor de los valores y se lo asigna al ultimo color 50 -> rojo, se obtiene una media entre el minimo y el maximo y este valor se asigna al color del medio 26 -> verde.\n",
    "\n",
    "- Los valores que esten entre 2 y 25 tendran un color azul.\n",
    "- Los valores que esten entre 26 y 49 tendran un color verde.\n",
    "- Los valores que superen el 50 tendran un color rojo\n",
    "\n",
    "### Creamos un objeto ColorBar\n",
    "Este objeto crea una representacion de los colores asignados a los rangos numericos del `linear_cmap`."
   ]
  },
  {
   "cell_type": "code",
   "execution_count": 8,
   "metadata": {},
   "outputs": [],
   "source": [
    "total_alumnos = sorted(set(list(df.Total_Alumnos)))\n",
    "colores = linear_cmap(field_name='Total_Alumnos', palette=paleta3_ext, low=min(total_alumnos), high=max(total_alumnos))\n",
    "barraColor = ColorBar(color_mapper=colores['transform'], width=8, location=(0,0))"
   ]
  },
  {
   "cell_type": "markdown",
   "metadata": {},
   "source": [
    "## Se convierten los DataFrames a datos de Bokeh\n",
    "Mediante el objeto `ColumnDataSource` se convierte los datos de un `DataFrame` a datos de columnas, que es el formato en que trabaja **Bokeh**"
   ]
  },
  {
   "cell_type": "code",
   "execution_count": 9,
   "metadata": {},
   "outputs": [],
   "source": [
    "source = ColumnDataSource(df)"
   ]
  },
  {
   "cell_type": "markdown",
   "metadata": {},
   "source": [
    "## Se crea el objeto figure\n",
    "Se crea un objeto figure con una configuracion incial.\n",
    "\n",
    "Se configuran los rangos de x/y con los valores de la variable `LOJA`, hubicando el centro de la grafica en la provincia de Loja, se pasa la configuracion de `mercator` para que los ejes presenten valores de coordenadas, en tools se configuran las herrramientas que se podran usar en la grafica y active_scroll configura que el zoom con la rueda del mouse este activo desde el comienzo."
   ]
  },
  {
   "cell_type": "code",
   "execution_count": 10,
   "metadata": {},
   "outputs": [
    {
     "data": {
      "text/html": [
       "<div style=\"display: table;\"><div style=\"display: table-row;\"><div style=\"display: table-cell;\"><b title=\"bokeh.models.renderers.GlyphRenderer\">GlyphRenderer</b>(</div><div style=\"display: table-cell;\">id&nbsp;=&nbsp;'1050', <span id=\"1053\" style=\"cursor: pointer;\">&hellip;)</span></div></div><div class=\"1052\" style=\"display: none;\"><div style=\"display: table-cell;\"></div><div style=\"display: table-cell;\">data_source&nbsp;=&nbsp;ColumnDataSource(id='1006', ...),</div></div><div class=\"1052\" style=\"display: none;\"><div style=\"display: table-cell;\"></div><div style=\"display: table-cell;\">glyph&nbsp;=&nbsp;Circle(id='1048', ...),</div></div><div class=\"1052\" style=\"display: none;\"><div style=\"display: table-cell;\"></div><div style=\"display: table-cell;\">hover_glyph&nbsp;=&nbsp;None,</div></div><div class=\"1052\" style=\"display: none;\"><div style=\"display: table-cell;\"></div><div style=\"display: table-cell;\">js_event_callbacks&nbsp;=&nbsp;{},</div></div><div class=\"1052\" style=\"display: none;\"><div style=\"display: table-cell;\"></div><div style=\"display: table-cell;\">js_property_callbacks&nbsp;=&nbsp;{},</div></div><div class=\"1052\" style=\"display: none;\"><div style=\"display: table-cell;\"></div><div style=\"display: table-cell;\">level&nbsp;=&nbsp;'glyph',</div></div><div class=\"1052\" style=\"display: none;\"><div style=\"display: table-cell;\"></div><div style=\"display: table-cell;\">muted&nbsp;=&nbsp;False,</div></div><div class=\"1052\" style=\"display: none;\"><div style=\"display: table-cell;\"></div><div style=\"display: table-cell;\">muted_glyph&nbsp;=&nbsp;None,</div></div><div class=\"1052\" style=\"display: none;\"><div style=\"display: table-cell;\"></div><div style=\"display: table-cell;\">name&nbsp;=&nbsp;None,</div></div><div class=\"1052\" style=\"display: none;\"><div style=\"display: table-cell;\"></div><div style=\"display: table-cell;\">nonselection_glyph&nbsp;=&nbsp;Circle(id='1049', ...),</div></div><div class=\"1052\" style=\"display: none;\"><div style=\"display: table-cell;\"></div><div style=\"display: table-cell;\">selection_glyph&nbsp;=&nbsp;None,</div></div><div class=\"1052\" style=\"display: none;\"><div style=\"display: table-cell;\"></div><div style=\"display: table-cell;\">subscribed_events&nbsp;=&nbsp;[],</div></div><div class=\"1052\" style=\"display: none;\"><div style=\"display: table-cell;\"></div><div style=\"display: table-cell;\">tags&nbsp;=&nbsp;[],</div></div><div class=\"1052\" style=\"display: none;\"><div style=\"display: table-cell;\"></div><div style=\"display: table-cell;\">view&nbsp;=&nbsp;CDSView(id='1051', ...),</div></div><div class=\"1052\" style=\"display: none;\"><div style=\"display: table-cell;\"></div><div style=\"display: table-cell;\">visible&nbsp;=&nbsp;True,</div></div><div class=\"1052\" style=\"display: none;\"><div style=\"display: table-cell;\"></div><div style=\"display: table-cell;\">x_range_name&nbsp;=&nbsp;'default',</div></div><div class=\"1052\" style=\"display: none;\"><div style=\"display: table-cell;\"></div><div style=\"display: table-cell;\">y_range_name&nbsp;=&nbsp;'default')</div></div></div>\n",
       "<script>\n",
       "(function() {\n",
       "  var expanded = false;\n",
       "  var ellipsis = document.getElementById(\"1053\");\n",
       "  ellipsis.addEventListener(\"click\", function() {\n",
       "    var rows = document.getElementsByClassName(\"1052\");\n",
       "    for (var i = 0; i < rows.length; i++) {\n",
       "      var el = rows[i];\n",
       "      el.style.display = expanded ? \"none\" : \"table-row\";\n",
       "    }\n",
       "    ellipsis.innerHTML = expanded ? \"&hellip;)\" : \"&lsaquo;&lsaquo;&lsaquo;\";\n",
       "    expanded = !expanded;\n",
       "  });\n",
       "})();\n",
       "</script>\n"
      ],
      "text/plain": [
       "GlyphRenderer(id='1050', ...)"
      ]
     },
     "execution_count": 10,
     "metadata": {},
     "output_type": "execute_result"
    }
   ],
   "source": [
    "p = figure(x_range=LOJA['x'], y_range=LOJA['y'], x_axis_type='mercator', y_axis_type='mercator', width=900, tools='pan, wheel_zoom, box_zoom', active_scroll='wheel_zoom')\n",
    "# Configuracion del titulo de la grafica\n",
    "p.title.text = 'Instituciones educativas de nivel secundario en Loja'\n",
    "\n",
    "# Se configura el toolbar para que se oculte cuando el mouse no esta encima de la grafica\n",
    "p.toolbar.autohide = True\n",
    "\n",
    "# Se configura la grafica para que use el mapa de CARTODB\n",
    "p.add_tile(CARTODBPOSITRON)\n",
    "\n",
    "# Se crean circulos en las pocisiones geograficas\n",
    "p.circle(x='x', y='y', fill_color=colores, size=15, fill_alpha=0.8, source=source)"
   ]
  },
  {
   "cell_type": "code",
   "execution_count": 11,
   "metadata": {},
   "outputs": [],
   "source": [
    "# Se configura la etiqueta para que muestre datos\n",
    "# al colocar el mouse por encima de los circulos\n",
    "etiqueta = HoverTool(tooltips = [\n",
    "    ('Nombre', '@Nombre'),\n",
    "    ('# Alumnos', '@Total_Alumnos'),\n",
    "    ('Localizacion', '@Latitud | @Longitud'),\n",
    "    ('Cantón', '@Canton'),\n",
    "    ('Parroquia', '@Parroquia')\n",
    "],\n",
    "                    mode='mouse')\n",
    "# Se añade la etiqueta a la grafica\n",
    "p.add_tools(etiqueta)\n",
    "\n",
    "# Se añade el objeto ColorBar creado anteriormente a la grafica\n",
    "p.add_layout(barraColor, 'right')"
   ]
  },
  {
   "cell_type": "markdown",
   "metadata": {},
   "source": [
    "## Configuracion de la vista\n",
    "Se configura las pocisiones de la grafica.\n",
    "\n",
    "Se pasa la configuracion scale_width para que la vizualizacion de adapte al ancho del contendor y de la pantalla."
   ]
  },
  {
   "cell_type": "code",
   "execution_count": 12,
   "metadata": {},
   "outputs": [],
   "source": [
    "lienzo = layout([\n",
    "    [p]\n",
    "], sizing_mode='scale_width')"
   ]
  },
  {
   "cell_type": "markdown",
   "metadata": {},
   "source": [
    "## Mostramos los resultados"
   ]
  },
  {
   "cell_type": "code",
   "execution_count": 13,
   "metadata": {},
   "outputs": [
    {
     "data": {
      "text/html": [
       "\n",
       "\n",
       "\n",
       "\n",
       "\n",
       "\n",
       "  <div class=\"bk-root\" id=\"1e228614-27b6-4fb3-8303-948654ec9e51\" data-root-id=\"1057\"></div>\n"
      ]
     },
     "metadata": {},
     "output_type": "display_data"
    },
    {
     "data": {
      "application/javascript": [
       "(function(root) {\n",
       "  function embed_document(root) {\n",
       "    \n",
       "  var docs_json = {\"481c52b5-d0f7-4ad9-8faf-bae12798c49f\":{\"roots\":{\"references\":[{\"attributes\":{\"children\":[{\"id\":\"1056\",\"type\":\"Row\"}],\"sizing_mode\":\"scale_width\"},\"id\":\"1057\",\"type\":\"Column\"},{\"attributes\":{},\"id\":\"1068\",\"type\":\"Selection\"},{\"attributes\":{\"active_drag\":\"auto\",\"active_inspect\":\"auto\",\"active_multi\":null,\"active_scroll\":{\"id\":\"1035\",\"type\":\"WheelZoomTool\"},\"active_tap\":\"auto\",\"autohide\":true,\"tools\":[{\"id\":\"1034\",\"type\":\"PanTool\"},{\"id\":\"1035\",\"type\":\"WheelZoomTool\"},{\"id\":\"1036\",\"type\":\"BoxZoomTool\"},{\"id\":\"1054\",\"type\":\"HoverTool\"}]},\"id\":\"1037\",\"type\":\"Toolbar\"},{\"attributes\":{\"color_mapper\":{\"id\":\"1004\",\"type\":\"LinearColorMapper\"},\"formatter\":{\"id\":\"1064\",\"type\":\"BasicTickFormatter\"},\"location\":[0,0],\"plot\":{\"id\":\"1007\",\"subtype\":\"Figure\",\"type\":\"Plot\"},\"ticker\":{\"id\":\"1065\",\"type\":\"BasicTicker\"},\"width\":8},\"id\":\"1005\",\"type\":\"ColorBar\"},{\"attributes\":{\"bottom_units\":\"screen\",\"fill_alpha\":{\"value\":0.5},\"fill_color\":{\"value\":\"lightgrey\"},\"left_units\":\"screen\",\"level\":\"overlay\",\"line_alpha\":{\"value\":1.0},\"line_color\":{\"value\":\"black\"},\"line_dash\":[4,4],\"line_width\":{\"value\":2},\"plot\":null,\"render_mode\":\"css\",\"right_units\":\"screen\",\"top_units\":\"screen\"},\"id\":\"1039\",\"type\":\"BoxAnnotation\"},{\"attributes\":{\"callback\":null,\"data\":{\"Canton\":[\"ESPINDOLA\",\"LOJA\",\"OLMEDO\",\"QUILANGA\",\"LOJA\",\"QUILANGA\",\"CELICA\",\"CALVAS\",\"SOZORANGA\",\"LOJA\",\"GONZANAMA\",\"CATAMAYO\",\"LOJA\",\"LOJA\",\"GONZANAMA\",\"LOJA\",\"PUYANGO\",\"CHAGUARPAMBA\",\"CELICA\",\"LOJA\",\"LOJA\",\"LOJA\",\"PINDAL\",\"ESPINDOLA\",\"CHAGUARPAMBA\",\"SOZORANGA\",\"SOZORANGA\",\"ESPINDOLA\",\"CALVAS\",\"LOJA\",\"PUYANGO\",\"CATAMAYO\",\"CATAMAYO\",\"ESPINDOLA\",\"LOJA\",\"CATAMAYO\",\"ZAPOTILLO\",\"LOJA\",\"LOJA\",\"GONZANAMA\",\"SOZORANGA\",\"PUYANGO\",\"MACARA\",\"PUYANGO\",\"LOJA\",\"LOJA\",\"MACARA\",\"ZAPOTILLO\",\"LOJA\",\"PUYANGO\",\"LOJA\",\"PUYANGO\",\"CHAGUARPAMBA\",\"CATAMAYO\",\"LOJA\",\"LOJA\",\"LOJA\",\"LOJA\",\"LOJA\",\"LOJA\",\"LOJA\",\"LOJA\",\"LOJA\",\"LOJA\",\"LOJA\",\"LOJA\",\"CATAMAYO\",\"PINDAL\",\"LOJA\",\"CELICA\",\"LOJA\",\"PINDAL\",\"ESPINDOLA\",\"MACARA\",\"LOJA\",\"LOJA\",\"CELICA\",\"CELICA\",\"LOJA\",\"ZAPOTILLO\",\"CATAMAYO\",\"ESPINDOLA\",\"PALTAS\",\"CALVAS\",\"LOJA\",\"PALTAS\",\"PALTAS\",\"CALVAS\",\"CATAMAYO\",\"PUYANGO\",\"PALTAS\",\"PUYANGO\",\"CALVAS\",\"SARAGURO\",\"GONZANAMA\",\"LOJA\",\"ESPINDOLA\",\"CALVAS\",\"LOJA\",\"ZAPOTILLO\",\"PALTAS\",\"LOJA\",\"ESPINDOLA\",\"MACARA\",\"LOJA\",\"LOJA\",\"PALTAS\",\"SARAGURO\",\"PALTAS\",\"LOJA\",\"LOJA\",\"MACARA\",\"OLMEDO\",\"LOJA\",\"PALTAS\",\"PALTAS\",\"LOJA\",\"LOJA\",\"SARAGURO\",\"PALTAS\",\"PALTAS\",\"SARAGURO\",\"SARAGURO\",\"SARAGURO\",\"SARAGURO\",\"SARAGURO\",\"CATAMAYO\",\"CALVAS\",\"ZAPOTILLO\",\"GONZANAMA\",\"ZAPOTILLO\",\"ESPINDOLA\",\"CHAGUARPAMBA\",\"LOJA\",\"LOJA\",\"SARAGURO\",\"ESPINDOLA\",\"CALVAS\",\"LOJA\",\"SARAGURO\",\"SARAGURO\",\"SARAGURO\",\"SARAGURO\",\"LOJA\",\"LOJA\",\"LOJA\",\"LOJA\",\"LOJA\",\"LOJA\",\"LOJA\",\"LOJA\",\"PALTAS\",\"LOJA\",\"LOJA\",\"LOJA\",\"LOJA\",\"GONZANAMA\",\"CALVAS\",\"LOJA\",\"MACARA\",\"CELICA\",\"ESPINDOLA\"],\"Direccion\":[\"   BARRIO LA HUACA\",\"   PARROQUIA GUALEL\",\"   PARROQUIA LA TINGUE\",\"   PROLONGACION DE LA ESCALINATA DEL PARQUE CENTRAL\",\"BOLIVAR 1479 CATACOCHA Y LOURDES \",\"   BARRIO SANN ROQUE\",\"CALLE COLON VIA A GUACHAMA 300 CALLE LOJA \",\"   AVENIDA ESPINDOLA  PARROQUIA EL LUCERO\",\"   BARRIO SAN VICENTE\",\"PABLO PALACIO 21-51 JHON F  KENNEDY \",\"   TRECE DE SEPTIEMBRE\",\"   LOCALIDAD SAN PEDRO DE LA BENDITA\",\"   AVENIDA AMADEO AGUIRRE\",\"CARLOS ROMAN HINOSTROZA  ADOLFO VALAREZO Y  MANUEL CARRION PINZANO \",\"24 DE MAYO  CALLE BOLIVAR \",\"ORILLAS DEL ZAMORA 07-90 10 DE AGOSTO \",\"   PARROQUIA MERCADILLO - VIA SAN JOSE\",\"   BARRIO LA UNION\",\"   BARRIO LAS PAMPAS\",\"AV. PIO JARAMILLO  CUBA \",\"   CHANTACO CENTRO  CERCA  DEL  RET\\u00c9N POLICIAL\",\"   A DOS CUADRAS DEL PARQUE CENTRAL\",\"   PARROQUIA   12  DE  DICIEMBRE\",\"   VIA PRINCIPAL CARIAMNAGA JUNTO A LA URNA  DEL DIVINO NI\\u00d1O\",\"   BARRIO BUENAVISTA CENTRO\",\"   BARRIO LAS DELICIAS\",\"   PARROQUIA TACAMOROS UBICADO   A DIEZ KILOMETROS DE FRONTERA\",\"   VIA PRINCIPAL CARIAMANGA-AMALUZA DESVIA EN EL SITIO LAS LIMAS 3 KM\",\"   LOCALIDAD COLAISACA\",\"   VIA A GUALEL BARRIO LA CONCHA EL CISNE\",\"   KM   11/2 VIA A MANGAHURCO MARGEN DERECHO PARROQUIA EL LIMO\",\"   Barrio La Merced Alta\",\"DIEZ Y OCHO DE AGOSTO  OLMEDO Y EUGENIO ESPEJO \",\"   A 200M DE LA VIA AMALUZA PASANDO LA VIA PRINCIPAL A MANO IZQUIERDA\",\"AV DANIEL ALVAREZ 12-51 AV ORILLAS DEL ZAMORA \",\"9 DE OCTUBRE  EUGENIO ESPEJO \",\"   PARROQUIA PALETILLAS\",\"   CENTRO TAQUIL\",\"AV ISIDRO AYORA  BARQUISIMETO \",\"   TRAS LA ESCUELA CALIXTO CUEVA SANCHEZ\",\"   POBLACION DE LA PARROQUIA\",\"CALLE SIMON BOLIVAR ENTRE SUCRE Y JUAN MONTALVO  CALLE SUCHE  Y  RIO AMAZONAS \",\"   Localidad La victoria\",\"   COMUNIDAD DE NARANJAL A 200 METROS ANTES DEL CASERIO\",\"   CENTRO PARROQUIA CERCA DEL SUBCENTRO DE SALUD\",\"NO HAY  NO HAY \",\"AV PANAMERICANA NORTE 01-03 VIA CARIAMANGA \",\"   RECINTO MANGAHURCO\",\"   CENTRO DE YANGANA\",\"   ANGEL LIMA ENTRE MANUEL RAMIREZ Y MIGUEL CALLE\",\"AV. UNIVERSITARIA  JUAN DE SALINAS ENTRE  DIECIOCHO DE NOVIEMBRE Y AVENIDA UNIVERSIARIA \",\"   UBICADO EN EL BARRIO LAS COCHAS PARROQUIA CIANO\",\"   ACCESO POR EL PUENTE DEL R\\u00cdO PINDO\",\"   PARROQUIA EL TAMBO\",\"BARRIO COLINAS DE BELEN  COLINAS DE BELEN \",\"BERNARDO VALDIVIESO 06-34 JOS\\u00c9 ANTONIO EGUIGUREN \",\"BELEN BAJO  CHARITI Y PROLONGACION DE LA BUENA VENTURA \",\"AV. SALVADOR BUSTAMANTE CELI 00 S/N \",\"AGUSTIN CARRION  AVENIDA SALVADOR BUSTAMANTE CELI \",\"AV SALVADOR BUSTAMANTE CELI  AV GUAYAQUIL Y PASAJE \",\"BELEN BAJO  CALLE CHARITY 0000000 BUENA VENTURA \",\"AVENIDA MANUEL AGUSTIN AGUIRRE 1063 ENTRE MIGUEL RIOFRIO Y AZUAY \",\"AV MANUEL AGUISTIN AGUIRRE 10-63 AZUAY Y MIGUEL RIOFRIO \",\"AV. EMILIANO ORTEGA 1101-93 LOURDES \",\"KM  TRES Y MEDIO   VIA VILCABAMBA 1171 SIN NOMBRE \",\"BOL\\u00edVAR 1479 CATACOCHA \",\"   Calle sin nombre entrada a la parroquia Colina Alta\",\"   BARRIO EL PANECILLO\",\"AVENIDA VIRGILIO RODAS  SIN NOMBRE \",\"   PARROQUIA CRUZPAMBA\",\"   VIA A MALACATOS\",\"   CHAQUINAL\",\"LUIS CORDERO  LUIS CORDERO \",\"   CALLE MACARA Y AV. MACARA\",\"   BARRIO PANECILLO\",\"   BARRIO SAN VICENTE\",\"   PARROQUIA POZUL\",\"   PARROQUIA SABANILLA\",\"   AV  DIEGO VACA DE VEGA  Y LA PAZ KM 1 VIA A YAMBURARA\",\"CALLE PALETILLAS  9 DE OCTUBRE \",\"18 DE AGOSTO 04-55 ENTRE OLMEDO Y EUGENIO ESPEJO BARRIO EL PORVENIR \",\"   BARRIO JIBIRUCHE\",\"   A 50 METROS DEL PARQUE\",\"   PARROQUIA UTUANA\",\"AVENIDA BENJAMIN CARRION 21197 PABLO PALACIO \",\"   CENTRO PARROQUIA CASANGA - TRAS LA IGLESIA\",\"   BARRIO MACANDAMINE\",\"JOSE ANGEL PALACIOS  GONZALEZ SUARES Y  MIGUEL PERALTA \",\"NUEVE DE OCTUBRE 00 BOLIVAR Y EUGENIO ESPEJO \",\"   VIA PRINCIPAL DE EL ARENAL\",\"DOMINGO CELI 7302 PALTAS E INDEPENDENCIA \",\"GABRIEL CAIZA  SUCRE \",\"   BARRIO SAN VICENTE\",\"   CENTRO CELEN  VAUDILIO ARIAS Y VEINTE Y CUATRO  DE MAYO\",\"   A DOSCIENTOS METROS DEL PARQUE CENTRAL\",\"   JUNTO AL CAMPO MARIANO\",\"   CALLE 24 DE ABRIL Y AVENIDA AMALUZA\",\"   BARRIO  CENTRAL\",\"AV. EDUARDO KINGMAN 00 PABLO NERUDA Y CATAMAYO \",\"   BARRIO CEIBA CHICA\",\"   PARROQUIA GUACHANAMA BARRIO CENTRAL\",\"   BARRIO PICHIG\",\"   VIA AMALUZA CARIAMANGA BARRIO CANGOCHARA\",\"AURIA MARIA ARIAS  MAXIMO ARTURO ROMAN Y ZOILA HERRERA \",\"CALLE PABLO PALACIOS  BARRIO SANTA TERESITA   SE UTILIZA LA INSTALACIONES DEL COLEGIO DE BACHILLERATO   VEINTE Y SIETE  DE \",\"BUGANVILLAS 2427 AVENIDA GOBERNACION DE MAINAS \",\"   BARRIO EL CASTILLO\",\"   PARROQUIA  LLUZHAPA\",\"   BARRIO SAN VICENTE DEL RIO\",\"JOSE ANTONIO EGUIGUREN 11-92 OLMEDO \",\"BOLIVAR 09-35 ROCAFUERTE Y MIGUEL RIOFRIO \",\"AVENIDA PANAMERICANA 07-03 AVENIDA MARISTA \",\"MONS JORGE GUILLERMO ARMIJOS SN SUCRE \",\"JUAN DE SALINAS 03-61 JOSE FELIX DE VALDIVIESO Y QUITO \",\"CALLE LOURDES 2 CALLE SUCRE \",\"VENTURA   ENCALADA Y  VIA PANAMERICANA \",\"   BARRIO RUMIZHITANA\",\"   BARRIO LA TRINIDAD\",\"   PACAIPAMBA VIA LOJA SN\",\"   BARRIO PUEBLO NUEVO PARROQUIA ORIANGA  A 80M DEL SUBCENTRO DE SALUD\",\"   CENTRO DE  LA PARROQUIA  DE SAN ANTONIO\",\"   PARROQUIA TENTA BARRIO MEMBRILLO\",\"   COMUNIDAD  O\\u00d1ACAPAC\",\"   COMUNIDAD ILINCHO AYLLU LLAKTA\",\"10 DE MARZO  PANAMERICANA \",\"   COMUNIDAD DE TUNCARTA A DIEZ MINUTOS DE LA VIA A CUENCA\",\"ALFREDO BAQUERIZO  DIEGO DE NOBOA \",\"VELASCO IBARRA 00 AV.LOJA \",\"   PARROQUIA LIMONES\",\"AVENIDA 30 DE SEPTIEMBRE  24 DE MAYO \",\"   BARRIO BOLASPAMBA FRENTE AL DISPENSARIO DEL SSC\",\"   BARRIO REINA DEL CISNE CALLE SAN FRANCISCO V\\u00cdA A LLAMACHANCHI\",\"   VIA YAGUACHI BARRIO ROJAS A OCHO CUADRAS DE LA IGLESIA MATRIZ\",\"CALLE BOLIVAR 0639 COLON Y JOSE ANTONIO EGUIGUREN \",\"   AVENIDA  VILLONACO OBRA PIA\",\"   BARRIO APUGUIN\",\"AVENIDA ZUMBA SN VIA  A CONSAPAMBA \",\"   BARRIO CENTRAL VELAZCO IBARRA Y 18 DE NOVIEMBRE\",\"   CABECERA PARROQUIAL\",\"LOJA  CRISTOBAL ZAMBRANO \",\"   BARRIO VALLE HERMOSO\",\"   BARRIO SUMAYPAMBA\",\"   PARROQUIA URDANETA\",\"AV  CHUQUIRIBAMBA 00 AV  INTEGRACION BARRIAL Y  LAGUNA DE YAMBO \",\"AGUSTIN PALACIOS 1 TRAS DEL ASILO DE ANCIANO DANIEL ALVAREZ SANCHEZ \",\"GRANADA LOJA AV ISIDRO AYORA \",\"ESMERALDAS  GUAYAQUIL Y MANTA \",\"SALVADOR BUSTAMANTE CELI  ninguna \",\"AVENIDA PABLO PALACIO 1 SIN NOMBRE \",\"BERNARDO VALDIVIESO 0361 QUITO Y JOSE FELIX DE VALDIVIESO \",\"AVENIDA ORILLAS DEL ZAMORA  ISIDRO AYORA \",\"   AV 20  DE JULIO\",\"CALLE SUCRE 05-43 COL\\u00d3N E IMBABAURA \",\"AVENIDA ORILLAS DEL ZAMORA 3 ROCAFUERTE \",\"AV. EMILIANO ORTEGA 1375 LOURDES \",\"IMBABURA 13-46 BOLIVAR  Y BERNARDO VALDIVIESO \",\"   A UNA CUADRA DEL SANTUARIO REINA DE LA CARIDAD\",\"   CENTRO PARROQUIAL SANGUILLIN FRENTE AL PARQUE CENTRAL\",\"OLMEDO 0960 ROCAFUERTE Y MIGUEL RIOFRIO \",\"JUVENAL JARAMILLO 69-15 ALAMOR \",\"GARCIA MORENO  PRESBITERO RIOFRIO \",\"   VIA AMALUZA A CARIAMANGA KM 8 BARRIO  TIOPAMBA\"],\"DocentesFemenino\":[7,2,5,6,47,10,8,3,13,50,5,13,5,54,7,86,3,7,2,7,6,3,6,5,5,2,5,3,1,3,10,3,33,7,85,41,7,3,5,5,2,19,4,2,6,24,34,3,8,6,8,0,4,8,13,23,3,39,12,5,3,7,6,10,59,10,4,24,2,5,12,4,10,5,6,13,9,5,24,10,11,7,2,12,41,4,5,25,7,5,34,12,39,12,6,12,10,26,91,8,6,11,6,18,24,4,4,9,2,42,58,33,20,34,27,32,13,22,5,7,6,8,12,9,26,3,19,30,10,28,3,8,20,42,18,33,25,68,11,13,5,9,9,33,11,1,6,43,16,44,59,4,23,28,14,44,14,8,43,28,36,9],\"DocentesMasculino\":[3,6,3,4,20,12,13,7,11,27,5,8,4,22,7,34,8,9,6,5,3,6,3,4,5,6,7,8,7,5,2,5,20,8,75,18,5,4,6,2,6,8,6,6,2,16,22,6,6,5,5,7,4,7,8,8,2,11,6,11,4,2,4,2,20,2,5,12,5,6,4,5,4,5,7,10,10,6,10,8,15,7,7,5,15,5,3,25,5,5,8,19,36,8,15,6,8,8,75,7,3,6,10,4,18,6,6,5,4,65,15,29,18,11,23,17,5,12,8,4,2,16,6,5,28,1,6,16,2,13,5,5,9,5,8,39,23,55,14,10,7,4,13,19,3,1,3,19,5,21,29,4,2,17,4,18,12,8,13,9,11,7],\"EstudiantesFemenino\":{\"__ndarray__\":\"AAAAAACAT0AAAAAAAABKQAAAAAAAAEZAAAAAAAAAREAAAAAAAHCOQAAAAAAAoGRAAAAAAACAV0AAAAAAAEBWQAAAAAAAgFlAAAAAAADggUAAAAAAAABBQAAAAAAAIGRAAAAAAAAAT0AAAAAAAFCGQAAAAAAAgFpAAAAAAACgZ0AAAAAAAABSQAAAAAAAwGBAAAAAAAAANkAAAAAAAMBUQAAAAAAAwFZAAAAAAAAAV0AAAAAAAABIQAAAAAAAAD1AAAAAAADAUUAAAAAAAABIQAAAAAAAAElAAAAAAABAWEAAAAAAAAA5QAAAAAAAAEhAAAAAAABAUkAAAAAAAABJQAAAAAAAKIRAAAAAAAAAW0Cq8dJNYhD6PwAAAAAAIIVAAAAAAACAWUAAAAAAAABEQAAAAAAAAFhAAAAAAABAU0AAAAAAAIBHQAAAAAAAAG9AAAAAAAAARUAAAAAAAAA7QAAAAAAAAEVAAAAAAADgb0AAAAAAAMB3QAAAAAAAAD5AAAAAAADAVkAAAAAAAABPQAAAAAAAgFFAAAAAAAAAUUAAAAAAAABLQAAAAAAAQFZAAAAAAACgYUAAAAAAAABgQAAAAAAAAC5AAAAAAAAAe0AAAAAAAMBXQAAAAAAAgFFAAAAAAACARkAAAAAAAAA6QAAAAAAAwFhAAAAAAABgY0AAAAAAACB7QAAAAAAAwFFAAAAAAACAQEAAAAAAACB5QAAAAAAAAEpAAAAAAABAVUAAAAAAAABYQAAAAAAAAE5AAAAAAACgYkAAAAAAAAAxQAAAAAAAgFdAAAAAAAAAV0AAAAAAAABkQAAAAAAAwFFAAAAAAACQc0AAAAAAAKBgQAAAAAAAgGtAAAAAAAAAV0AAAAAAAABAQAAAAAAAQFZAAAAAAADgf0AAAAAAAABNQAAAAAAAAENAAAAAAACgZ0AAAAAAAABFQAAAAAAAAFBAAAAAAADwfUAAAAAAACBlQAAAAAAAwHlAAAAAAABAZUAAAAAAAEBeQAAAAAAAgFZAAAAAAAAgYkAAAAAAAFB/QOomMQisHPQ/AAAAAAAAXEAAAAAAAAAsQAAAAAAAQFlAAAAAAAAAVkAAAAAAAIBnQAAAAAAA0HdAAAAAAAAALEAAAAAAAIBIQAAAAAAAgFVAAAAAAAAANkAAAAAAAEBmQBxaZDvfT/U/AAAAAACgf0AAAAAAAIBzQAAAAAAA4HZAAAAAAADge0AAAAAAAJB3QAAAAAAAgF5AAAAAAABAd0AAAAAAAMBdQAAAAAAAQFFAAAAAAACARUAAAAAAAGBsQAAAAAAAgFtAAAAAAACARUAAAAAAALB9QAAAAAAAgExAAAAAAABgakAAAAAAAKB1QAAAAAAAgFNAAAAAAACgaUAAAAAAAABMQAAAAAAAAFFAAAAAAACgakAAAAAAAOiJQAAAAAAAAGdAAAAAAABIgkAAAAAAALB0QAAAAAAAQI5AAAAAAAAgakAAAAAAAGBlQAAAAAAAAFhAAAAAAADAVkAAAAAAAOBkQAAAAAAA8H5AAAAAAAAAMUAAAAAAAAD4fwAAAAAAAFdAAAAAAACQfUAAAAAAACBnQAAAAAAAEIBA3SQGgZVD8T8AAAAAAABBQAAAAAAAwGBAAAAAAACgc0AAAAAAAMBSQAAAAAAAIINAAAAAAABAa0AAAAAAAABcQMl2vp8aL/M/AAAAAADQfkAAAAAAACB2QAAAAAAAwFNA\",\"dtype\":\"float64\",\"shape\":[162]},\"EstudiantesMasculino\":[81,25,45,55,201,178,130,93,116,576,48,202,61,1073,86,473,90,155,28,125,87,97,72,28,71,44,74,122,35,44,79,66,807,109,1404,323,108,40,106,59,51,258,60,49,45,258,491,25,132,76,106,67,56,139,163,118,32,335,89,167,85,50,182,165,478,17,48,453,68,113,154,85,148,16,88,132,134,87,300,129,276,120,34,107,687,49,32,211,39,64,373,189,543,175,138,99,142,153,2239,115,44,102,89,208,495,19,66,116,27,1801,92,554,326,370,494,413,140,379,110,100,46,229,128,54,444,43,277,419,67,216,45,96,165,159,226,548,342,1117,157,189,98,89,207,615,40,13,92,866,172,584,121,39,173,610,92,795,216,100,88,354,384,63],\"JornadaLaboral\":[\"Matutina\",\"Matutina\",\"Matutina\",\"Matutina\",\"Matutina,Vespertina,Nocturno\",\"Matutina\",\"Matutina,Nocturno\",\"Matutina\",\"Matutina,Nocturno\",\"Matutina,Vespertina\",\"Matutina\",\"Matutina\",\"Matutina\",\"Matutina,Vespertina\",\"Matutina\",\"Matutina,Vespertina\",\"Matutina\",\"Matutina\",\"Matutina\",\"Nocturno\",\"Matutina\",\"Matutina\",\"Matutina\",\"Matutina\",\"Matutina\",\"Matutina\",\"Matutina\",\"Matutina\",\"Matutina\",\"Matutina\",\"Matutina\",\"Matutina\",\"Matutina\",\"Matutina\",\"Matutina\",\"Matutina\",\"Matutina\",\"Matutina\",\"Matutina\",\"Matutina\",\"Matutina\",\"Matutina,Nocturno\",\"Matutina\",\"Matutina\",\"Matutina\",\"Matutina\",\"Matutina,Nocturno\",\"Matutina\",\"Matutina\",\"Matutina\",\"Nocturno\",\"Matutina\",\"Matutina\",\"Matutina\",\"Matutina\",\"Matutina\",\"Matutina\",\"Matutina\",\"Matutina\",\"Matutina\",\"Matutina\",\"Matutina,Vespertina\",\"Matutina,Vespertina,Nocturno\",\"Matutina\",\"Matutina\",\"Matutina\",\"Matutina\",\"Matutina\",\"Nocturno\",\"Matutina\",\"Vespertina,Nocturno\",\"Matutina\",\"Matutina\",\"Matutina\",\"Matutina,Vespertina\",\"Matutina\",\"Matutina\",\"Matutina\",\"Matutina,Nocturno\",\"Matutina\",\"Nocturno\",\"Matutina\",\"Matutina\",\"Matutina\",\"Matutina,Vespertina\",\"Matutina\",\"Matutina\",\"Matutina\",\"Matutina,Vespertina\",\"Matutina\",\"Matutina\",\"Matutina\",\"Matutina,Nocturno\",\"Matutina\",\"Matutina\",\"Matutina\",\"Matutina\",\"Matutina\",\"Matutina,Vespertina,Nocturno\",\"Matutina\",\"Matutina\",\"Matutina,Vespertina\",\"Matutina\",\"Matutina\",\"Matutina,Vespertina\",\"Nocturno\",\"Matutina\",\"Matutina\",\"Matutina\",\"Matutina,Vespertina,Nocturno\",\"Matutina\",\"Matutina\",\"Matutina\",\"Matutina\",\"Matutina\",\"Matutino,Nocturno\",\"Matutina\",\"Matutina\",\"Matutina\",\"Matutina\",\"Matutina\",\"Matutina\",\"Matutino,Nocturno\",\"Matutina\",\"Matutina,Vespertina,Nocturno\",\"Matutina\",\"Matutina\",\"Matutina\",\"Matutina\",\"Matutina,Nocturno\",\"Matutina\",\"Matutina\",\"Matutina\",\"Matutina\",\"Matutina,Vespertina,Nocturno\",\"Matutina\",\"Matutina\",\"Matutina,Nocturno\",\"Matutina\",\"Matutina\",\"Matutina\",\"Matutina,Vespertina\",\"Matutina\",\"Matutina,Vespertina\",\"Matutina\",\"Matutina\",\"Vespertina\",\"Matutina\",\"Matutina\",\"Matutina\",\"Matutina,Nocturno\",\"Matutina\",\"Matutina\",\"Matutina\",\"Matutina\",\"Matutina\",\"Matutina\",\"Matutina\",\"Matutina\",\"Matutina\",\"Matutina\",\"Matutina\"],\"Latitud\":{\"__ndarray__\":\"KuuSzEXjEcCBBwvJ9ygOwF3wKuoaSQ/Aep06eu90EcC+aUs0gAMQwNHufn/ELRHAlD1Jh3VrEMB9xipKrpkRwILDj1r2ThHA8NMCxdkOEMAW2nF3YdcQwHDFVrRfjQ/A77FF6QpSDsDpkRPht/EPwHDOyu6w6hDAWapwo3/4D8DinoYmixgQwC5c+O8xyA7Avi4KVUacEMDWLrfFRggQwAIC4h38Cg/ADe8tPX5FEcBHiiFp0kgQwG76sx8pAhLAc3EPmkEiD8DV9I90vJQRwFwxIbsSsBHAFrYdVXjEEcCKLCUNZkYRwNxYeZfFyw7ARw7ot3XkD8Csz8gs6pMQwKU/Gp/g4g/A584e+LCkEcBh4J2iQecPwBO9vJvP4g/AmmrfPNKnEMCwSZ3RbSUPwMMSsbaZ3g/AFn926D2dEMDKsq5xABIRwMkoGJPTEhDAjMKvCjS/EcA230TRXAkQwFhnqpdH4Q7AXYynPL8eEMAsuEW3Y3wRwBRVpjVZnxDAQwxLbtpzEcBf7tp4jLMPwB0Rvr2M7g/AoJ2rZAKRD8AKfCdhBM8OwEvnnexhSRDAcIZIcYH0D8DQCkm89fcPwL5nJEIj2A/AVQUNd9qoD8Cxzj2TGckPwFktvfFG2g/AH2lwW1vYD8CAOXNC+v8PwBlO8lO3/w/AyV4fOI8CEMBIwp2PWzUQwCQzVhyAAxDAXGUfxMtMD8CEEa92CncQwL7l4lbe3Q/A7cK2FWClEMA+bcm0euAQwOYhmhOQLxDA3Gt7mhdSEsBOHsja3HcRwGktjd738xDA4KgIfO3BDsBYybBSjXcQwC4Bp2BV1RDAwi6ArIQLEcDyzksMnIoRwLIQQ8np4Q/AFNBTAx4FEsAvHLTJdLsPwLUijbHjchHAPYgt1bYNEMD5+jmJMQ4QwH6an4o3EBDAJ1uPiEpVEcBELZMCh+sPwC9S5u6MsQ/APvsnPpIyEMCs81FBoxAQwOIkHmfSUhHAvHg/br/8DMBLBKp/EIkQwEfNo1cNzg7AGjaNl7WBEsCw9wsLKE8RwPwa+DpxCRDA1jkGZK+HEcDms96d7DAQwGi+sCDAsg3Auu1PnZ8uEsCo5zNZCYsRwKJz85daHhDAV+ehgRsPEMDf7fN4V74PwLwek18bAgzATdjmFTtTEMAVhP9okPYPwLW0NGb7/A/AyMIzSJGAEcAXJWev3ncPwGHgnaJB5w/Atv2LnXk2EMAFNTU2XzoQwK7B6cegmRDAWNSI4lPdEMAa4yNfkuELwJljlaxsLg/AYBwij1zWD8CfrXkRSswMwKK65Hg4Lw3ArfDq+fMJDcB3E4ZFaPcMwC4fwFex/gzA6u8c/0L9D8AMA4zqUU0RwBvi4wlAjhHAyL0XZG3tEMBMcT49Ar4QwNsjurikQhLAPkVNdXoGD8D0vAJuafcPwLVpWMse/g/ALX6Dkb/pDMAQS0dcp1MSwEue8rVVDxHA9Q1/X7noDcBN/rcqOgINwOAxvXbJcQzApBUSQp3cCsCsS/0kjdkMwNOWpWPvjQ/AexrcSGzGD8D0MorllvYPwM7RXAcE2w/AzZC97SiXD8A5gc1fP50PwGHgnaJB5w/AIG2VwOPQD8CM8hOh7QMQwHPgFNeq/Q/ARb5a1Hj8D8AEv3jMYQMQwIy1E7PL9A/A9Z176c/jEMBYFnV7g8wRwMQs7h4k/A/A2GNz7NhqEcCihKjhrGkQwFaPEPI1KBLA\",\"dtype\":\"float64\",\"shape\":[162]},\"Longitud\":{\"__ndarray__\":\"GxKULr/YU8CJ+ah1UdhTwALWaEFB5VPAyFjxNoTZU8ASXDhS7sxTwDaWC/C42VPANh86sQX9U8ARrfRepd1TwDMOP0mL8lPAvAM8aSHNU8AVJdcD3NdTwNyJaRHX21PAfG1P80LSU8ADmqXwYs1TwLeVoLff21PA7AHrH6HMU8BTDIj3ef5TwMVYhVF561PA5U4C/l3/U8ANdj9+Ic1TwBUVWJ3o1FPA+t0JMAvPU8CBaaTnzgVUwBQ/KQfx2VPArUlcbL/tU8AHmQG68fBTwIwrssZu71PAoavGdUDdU8Ax0qzoZuxTwItR+Ojk2lPAf37GItkIVMCDXcH0xdJTwCB1AVBB11PAK/1jpbLbU8Dm1c5q4MxTwGkpzaQV11PAFCq0g3wRVMAefPaWkdJTwNuexfcqz1PAi/XToCThU8BhfbBKcfRTwLLuBm4wAVTAV1w9o8TyU8Bd8PX3ygRUwJo9EifeylPA/cMz9BHNU8Dk13Lb/PtTwCeAatWRG1TA7V606FnLU8C+xWBRU/xTwB20kcoYzVPASUiDX9P/U8AqFmRw+fBTwMuN+eub01PA8mu5bf7MU8BfyumA3sxTwChHAaJgzlPAZt273X3NU8B4J8AsxMxTwCCLfn7pzFPAKC1cVmHOU8Dc6809Hs1TwMLRn0cWzVPA3U7wh37MU8AD8VdUhsxTwLEFc6rrzFPACjPIuP3hU8Air94TsQZUwEpBt5f0zVPAZPdwCw4AVMB9jhNPi9BTwI8t9FZXAlTAYbT5RWrbU8B4Ne0g/vNTwGWYySbvzVPAGUE6p9/VU8AjhEcbxwNUwDKx2KoNCFTAEtYpAwXOU8B9JQzalg9UwNsBEcE811PAgnbizfXcU8DqgrAJ3+xTwINlMj1d7lPASPxpJzPNU8AO6UNZ8PBTwJf89ER87lPARwjq74DjU8B37kXN+tZTwFzAcFMo/1PARPcwpJjpU8B5IbrzhgFUwHUQKidQ41PAmiUBamrPU8CvmBHeHttTwN0vVR8+21PAUG0VaYfdU8CHWg1oreNTwLLO3yHYzFPAZsHEH0UPVMATPI3NcfhTwBp57ncH0VPASLV4RpXaU8CAiMOI8/xTwMYKyKi8zVPA60iBR8zMU8DfY3Y3i/BTwN59pyy31VPAKSe5R1/lU8BLDvFyxcxTwMCqH0DrzFPATukFRG38U8DfOKWTV+lTwObVzmrgzFPATljqcm3pU8AC3tmJWOlTwAakeddLzVPANu+T/jnRU8DYMUuOfdpTwIYyfUTG91PA9kNLoofqU8AlDhPsg9JTwEMcTg1yzVPAOzRuYq/PU8BXA7WUQ89TwEghA1jozVPAkjFnS5DWU8CYvY1JluNTwPpirakFF1TA2Lpx3gHcU8BBUhsHpBdUwDJgAwE23VPA7i2b7xbpU8DUvQzO+cxTwFysyc9dzlPAPSEBxBnPU8Cmy6zvDdtTwA4zE5Cf7VPAkEaJhtrQU8DUo+NJVs9TwExwqOe21lPAR4qvE2rWU8BLxUr1cs1TwL0qo9NrzlPAC+sp5p7MU8Dzqs5qgcxTwGOwqKnhzFPAatqkJurNU8CuKrmSds9TwObVzmrgzFPAi/oDae/MU8DE/h0XtuxTwCWaWa7rzFPA/lP9jIPMU8BaWOSVc8xTwHishLTnzFPApuQHdIfhU8AKkT5zN+BTwH7Dp63PzFPA0ue8KRn+U8AsLFX1NP1TwOlFDo0+21PA\",\"dtype\":\"float64\",\"shape\":[162]},\"Modalidad\":[\"Presencial\",\"Presencial\",\"Presencial\",\"Presencial\",\"Presencial\",\"Presencial\",\"Presencial\",\"Presencial\",\"Presencial\",\"Presencial\",\"Presencial\",\"Presencial\",\"Presencial\",\"Presencial\",\"Presencial\",\"Presencial\",\"Presencial\",\"Presencial\",\"Presencial\",\"Presencial\",\"Presencial\",\"Presencial\",\"Presencial\",\"Presencial\",\"Presencial\",\"Presencial\",\"Presencial\",\"Presencial\",\"Presencial\",\"Presencial\",\"Presencial\",\"Presencial\",\"Presencial\",\"Presencial\",\"Presencial\",\"Presencial\",\"Presencial\",\"Presencial\",\"Presencial\",\"Presencial\",\"Presencial\",\"Presencial\",\"Presencial\",\"Presencial\",\"Presencial\",\"Presencial\",\"Presencial\",\"Presencial\",\"Presencial\",\"Presencial\",\"Presencial\",\"Presencial\",\"Presencial\",\"Presencial\",\"Presencial\",\"Presencial\",\"Presencial\",\"Presencial\",\"Presencial\",\"Presencial\",\"Distancia\",\"Semipresencial\",\"Distancia\",\"Distancia\",\"Presencial\",\"Semipresencial\",\"Presencial\",\"Presencial\",\"Presencial\",\"Presencial\",\"Presencial\",\"Presencial\",\"Presencial\",\"Presencial\",\"Presencial\",\"Presencial\",\"Presencial\",\"Presencial\",\"Presencial\",\"Presencial\",\"Presencial\",\"Presencial\",\"Presencial\",\"Presencial\",\"Presencial\",\"Presencial\",\"Presencial\",\"Presencial\",\"Distancia\",\"Presencial\",\"Presencial\",\"Presencial\",\"Presencial\",\"Presencial\",\"Presencial\",\"Presencial\",\"Presencial\",\"Presencial\",\"Presencial\",\"Presencial\",\"Presencial\",\"Presencial\",\"Presencial\",\"Presencial\",\"Presencial\",\"Presencial\",\"Presencial\",\"Presencial\",\"Presencial\",\"Presencial\",\"Presencial\",\"Presencial\",\"Presencial\",\"Semipresencial\",\"Presencial\",\"Presencial\",\"Presencial\",\"Presencial\",\"Presencial\",\"Presencial\",\"Presencial\",\"Presencial\",\"Presencial\",\"Presencial\",\"Presencial\",\"Distancia\",\"Presencial\",\"Presencial\",\"Presencial\",\"Presencial\",\"Presencial\",\"Presencial\",\"Presencial\",\"Presencial\",\"Presencial\",\"Presencial\",\"Presencial\",\"Presencial\",\"Presencial\",\"Presencial\",\"Presencial\",\"Presencial\",\"Presencial\",\"Presencial\",\"Presencial\",\"Presencial\",\"Semipresencial\",\"Presencial\",\"Presencial\",\"Distancia\",\"Presencial\",\"Presencial\",\"Presencial\",\"Presencial\",\"Presencial\",\"Presencial\",\"Presencial\",\"Presencial\",\"Presencial\",\"Presencial\",\"Presencial\",\"Presencial\"],\"Nombre\":[\"COLEGIO DE BACHILLERATO  2 DE AGOSTO\",\"COLEGIO DE BACHILLERATO  AGUSTIN CURIPOMA\",\"COLEGIO DE BACHILLERATO  LA TINGUE\",\"COLEGIO DE BACHILLERATO  LIC  MIGUEL ANTOLIANO SALINAS JARAMILLO\",\"COLEGIO DE BACHILLERATO  PIO JARAMILLO ALVARADO\",\"COLEGIO DE BACHILLERATO  QUILANGA\",\"COLEGIO DE BACHILLERATO 12 DE DICIEMBRE\",\"COLEGIO DE BACHILLERATO 14 DE OCTUBRE\",\"COLEGIO DE BACHILLERATO 18 DE NOVIEMBRE\",\"COLEGIO DE BACHILLERATO 27 DE FEBRERO\",\"COLEGIO DE BACHILLERATO 30 DE SEPTIEMBRE\",\"COLEGIO DE BACHILLERATO 8 DE DICIEMBRE\",\"COLEGIO DE BACHILLERATO ABDON CALDERON MU\\u00d1OZ\",\"COLEGIO DE BACHILLERATO ADOLFO VALAREZO\",\"COLEGIO DE BACHILLERATO BALBINA MORENO\",\"COLEGIO DE BACHILLERATO BEATRIZ CUEVA DE AYORA\",\"COLEGIO DE BACHILLERATO CARLOS GARBAY MONTESDEOCA\",\"COLEGIO DE BACHILLERATO CHAGUARPAMBA\",\"COLEGIO DE BACHILLERATO COMUNA DOMINGUILLO\",\"COLEGIO DE BACHILLERATO DOCTOR BENJAMIN CARRION\",\"COLEGIO DE BACHILLERATO DR  EDUARDO MORA MORENO\",\"COLEGIO DE BACHILLERATO DR BALTAZAR AGUIRRE\",\"COLEGIO DE BACHILLERATO DR CLOTARIO PAZ PALADINES\",\"COLEGIO DE BACHILLERATO DR HUGO GUILLERMO GONZALEZ\",\"COLEGIO DE BACHILLERATO DR JUAN FRANCISCO ONTANEDA\",\"COLEGIO DE BACHILLERATO DR MANUEL AGUSTIN AGUIRRE\",\"COLEGIO DE BACHILLERATO DR ZOILO RODRIGUEZ\",\"COLEGIO DE BACHILLERATO ECUADOR\",\"COLEGIO DE BACHILLERATO EDMUNDO CEVALLOS AGUIRRE\",\"COLEGIO DE BACHILLERATO EL CISNE\",\"COLEGIO DE BACHILLERATO EL LIMO\",\"COLEGIO DE BACHILLERATO EMILIANO ABENDA\\u00d1O GONZALEZ\",\"COLEGIO DE BACHILLERATO EMILIANO ORTEGA ESPINOZA\",\"COLEGIO DE BACHILLERATO FISCOMISIONAL  GABRIEL GARCIA MORENO\",\"COLEGIO DE BACHILLERATO FISCOMISIONAL DANIEL ALVAREZ BURNEO\",\"COLEGIO DE BACHILLERATO FISCOMISIONAL NUESTRA SE\\u00d1ORA DEL ROSARIO\",\"COLEGIO DE BACHILLERATO GALO ROLANDO VELEZ RIVERA\",\"COLEGIO DE BACHILLERATO GUILLERMO HERRERA SANCHEZ\",\"COLEGIO DE BACHILLERATO HERNAN GALLARDO MOSCOSO\",\"COLEGIO DE BACHILLERATO JOSE FELIX DE VALDIVIESO\",\"COLEGIO DE BACHILLERATO JOSE MARIA RIOFRIO Y VALDIVIEZO\",\"COLEGIO DE BACHILLERATO JULIO ISAAC ESPINOZA OCHOA\",\"COLEGIO DE BACHILLERATO LA VICTORIA\",\"COLEGIO DE BACHILLERATO LAUTARO VICENTE LOAYZA\",\"COLEGIO DE BACHILLERATO LIBERTADOR BOLIVAR\",\"COLEGIO DE BACHILLERATO LICEO DE LOJA PARTICULAR\",\"COLEGIO DE BACHILLERATO MACARA\",\"COLEGIO DE BACHILLERATO MANGAHURCO\",\"COLEGIO DE BACHILLERATO MANUEL BENJAMIN CARRION\",\"COLEGIO DE BACHILLERATO MANUEL CARRION PINZANO\",\"COLEGIO DE BACHILLERATO MANUEL ENRIQUE RENGEL\",\"COLEGIO DE BACHILLERATO MARCOS OCHOA MU\\u00d1OZ\",\"COLEGIO DE BACHILLERATO MATILDE HIDALGO DE PROCEL\",\"COLEGIO DE BACHILLERATO MONS LEONIDAS PROA\\u00d1O VILLALBA\",\"COLEGIO DE BACHILLERATO PARTICULAR  ANTONIO PE\\u00d1A CELI\",\"COLEGIO DE BACHILLERATO PARTICULAR CORDILLERA\",\"COLEGIO DE BACHILLERATO PARTICULAR DR JOSE MARIA VIVAR CASTRO\",\"COLEGIO DE BACHILLERATO PARTICULAR EUGENIO ESPEJO\",\"COLEGIO DE BACHILLERATO PARTICULAR IBEROAMERICANO SAN AGUST\\u00cdN\",\"COLEGIO DE BACHILLERATO PARTICULAR MIGUEL ANGEL SUAREZ\",\"COLEGIO DE BACHILLERATO PARTICULAR PARA PCEI DR JOSE MARIA VIVAR CASTRO\",\"COLEGIO DE BACHILLERATO PARTICULAR PCEI AMAZONAS\",\"COLEGIO DE BACHILLERATO PARTICULAR PCEI AMAZONAS\",\"COLEGIO DE BACHILLERATO PARTICULAR PCEI ISIDRO AYORA CUEVA\",\"COLEGIO DE BACHILLERATO PARTICULAR SAN GERARDO\",\"COLEGIO DE BACHILLERATO PCEI  PIO JARAMILLO ALVARADO\",\"COLEGIO DE BACHILLERATO PEDRO VICTOR FALCONI\",\"COLEGIO DE BACHILLERATO PINDAL\",\"COLEGIO DE BACHILLERATO PRESIDENTE ISIDRO AYORA\",\"COLEGIO DE BACHILLERATO PROCER JOSE PICOITA\",\"COLEGIO DE BACHILLERATO RAFAEL RODRIGUEZ PALACIOS\",\"COLEGIO DE BACHILLERATO RAMON RIOFRIO BUSTAMANTE\",\"COLEGIO DE BACHILLERATO ROSA HERLINDA GARCIA DE GARCIA\",\"COLEGIO DE BACHILLERATO RVDO JORGE SANCHEZ MORENO\",\"COLEGIO DE BACHILLERATO SAN PEDRO DE VILCABAMBA\",\"COLEGIO DE BACHILLERATO SAN VICENTE FERRER\",\"COLEGIO DE BACHILLERATO TNTE MAXIMILIANO RODRIGUEZ\",\"COLEGIO DE BACHILLERATO TRECE DE NOVIEMBRE\",\"COLEGIO DE BACHILLERATO VILCABAMBA\",\"COLEGIO DE BACHILLERATO ZAPOTILLO\",\"COLEGIO NACIONAL NOCTURNO CATAMAYO\",\"ESCUELA DE EDUCACION BASICA CABO CASTILLO\",\"COLEGIO DE BACHILLERATO FRONTERA SUR\",\"ESCUELA DE EDUCACION BASICA GENERAL MOISES OLIVA\",\"ESCUELA DE EDUCACI\\u00d3N B\\u00c1SICA LAURO DAMERVAL AYORA N 1\",\"COLEGIO DE BACHILLERATO MANUEL  JOSE  JARAMILLO\",\"COLEGIO DE BACHILLERATO MACANDAMINE\",\"INSTITUTO TECNOLOGICO SUPERIOR CARIAMANGA\",\"JOSE MARIA VELAZ SJ EXTENSION N2 CATAMAYO\",\"RAMON SAMANIEGO PALACIOS\",\"UNIDAD EDUCATIVA FISCOMISIONAL DOMINGO CELI\",\"TECNICO PUYANGO\",\"U. E. ELOY ALFARO\",\"UNIDAD EDUCATIVA PEDRO VICENTE MALDONADO\",\"UNIDAD EDUCATIUVA NAMBACOLA\",\"UNIDAD EDUCATIVA  CORAZON DE MARIA\",\"UNIDAD EDUCATIVA  FISCOMISIONAL JULIO ERNESTO CELI\",\"UNIDAD EDUCATIVA  MARIA AUXILIADORA\",\"UNIDAD EDUCATIVA BERNARDO VALDIVIESO\",\"UNIDAD EDUCATIVA BRASIL\",\"COLEGIO DE BACHILLERATO 29 DE MAYO\",\"UNIDAD EDUCATIVA COMUNITARIA INTERCULTURAL BILINGUE RUMI\\u00d1AHUI\",\"UNIDAD EDUCATIVA COTOPAXI\",\"UNIDAD EDUCATIVA DEL MILENIO  5 DE JUNIO\",\"UNIDAD EDUCATIVA DR MANUEL AGUSTIN CABRERA LOZANO\",\"UNIDAD EDUCATIVA EXPERIMENTAL PARA CIEGOS LUIS BRAILLE\",\"COLEGIO DE BACHILLERATO TCNEL LAURO GUERRERO\",\"ESCUELA DE EDUCACION BASICA LATACUNGA\",\"COLEGIO DE BACHILLERATO SEGUNDO CUEVA CELI\",\"UNIDAD EDUCATIVA FISCOMISIONAL LA DOLOROSA\",\"UNIDAD EDUCATIVA FISCOMISIONAL LA INMACULADA\",\"UNIDAD EDUCATIVA FISCOMISIONAL MARISTA\",\"UNIDAD EDUCATIVA FISCOMISIONAL MONS  ALBERTO ZAMBRANO PALACIOS\",\"UNIDAD EDUCATIVA FISCOMISIONAL PARA PCEI HNO ANGEL PASTRANA CORRAL\",\"UNIDAD EDUCATIVA FISCOMISIONAL MARISTA DE CATACOCHA\",\"UNIDAD EDUCATIVA PALTAS\",\"ESCUELA DE EDUCACION BASICA ELVIA B\\u00c9LGICA JIM\\u00c9NEZ DE GONZ\\u00c1LEZ\",\"UNIDAD EDUCATIVA MANUEL JOS\\u00c9  RODRIGUEZ\",\"COLEGIO DE BACHILLERATO MAN\\u00da\",\"COLEGIO DE BACHILLERATO ORIANGA\",\"COLEGIO DE BACHILLERATO  DR CARLOS MANUEL ESPINOZA\",\"UNIDAD EDUCATIVA COMUNITARIA INTERCULTURAL BILINGUE ABC\",\"UNIDAD EDUCATIVA COMUNITARIA INTERCULTURAL BILINGUE TUPAK YUPANKI\",\"UE COMUNITARIA INTERCULTURAL BILINGUE INKA SAMANA\",\"COLEGIO DE BACHILLERATO SARAGURO\",\"COLEGIO DE BACHILLERATO \\u00d1UKANCHIK KAWSAY PARA PCEI\",\"UNIDAD EDUCATIVA FISCOMISIONAL SAN JUAN BAUTISTA\",\"UNIDAD EDUCATIVA FISCOMISIONAL SANTA JUANA DE ARCO LA SALLE\",\"UNIDAD EDUCATIVA FRANCISCO DE ORELLANA\",\"UNIDAD EDUCATIVA GONZANAMA\",\"UNIDAD EDUCATIVA GREGORIO MARA\\u00d1ON\",\"UNIDAD EDUCATIVA JOS\\u00c9 MAR\\u00cdA RIOFR\\u00cdO\",\"UNIDAD EDUCATIVA LA DOLOROSA\",\"UNIDAD EDUCATIVA LA PORCIUNCULA\",\"UNIDAD EDUCATIVA MANUEL IGNACIO MONTERO VALDIVIESO\",\"UNIDAD EDUCATIVA FISCOMISIONAL SAN JOSE DE CALASANZ\",\"UNIDAD EDUCATIVA MONS LUIS ALFONSO CRESPO\",\"UNIDAD EDUCATIVA MONSE\\u00d1OR SANTIAGO FERNANDEZ GARC\\u00cdA\",\"UNIDAD EDUCATIVA MUSHUK RIMAK\",\"UNIDAD EDUCATIVA FISCOMISIONAL FRAY CRIST\\u00d3BAL ZAMBRANO\",\"COLEGIO DE BACHILLERATO VICENTE BASTIDAS REINOSO\",\"ESCUELA DE EDUCACI\\u00d3N B\\u00c1SICA ORILLAS DEL JUBONES\",\"COLEGIO PROFESOR VIRGILIO ABARCA MONTESINOS\",\"ESCUELA DE EDUCACION BASICA MARIETA DE VEINTIMILLA\",\"I.E. ESPECIAL DE LOJA NO. 2\",\"SERVICIO ECUATORIANO DE CAPACITACI\\u00d3N PROFESIONAL SECAP\",\"UNIDAD EDUC FISCOMISIONAL PARA PCEI JOSE MARIA VELAZ EXT 1 LOJA\",\"UNIDAD EDUCATIVA COMIL N 5 LAURO GUERRERO\",\"UNIDAD EDUCATIVA FERNANDO SUAREZ PALACIO\",\"UNIDAD EDUCATIVA FISCOMISIONAL  PARA PCI HERMANO ANGEL PASTRANA\",\"UNIDAD EDUCATIVA FISCOMISIONAL CALASANZ\",\"COLEGIO DE BACHILLERATO FRANCISCO VALDIVIESO ALVARADO\",\"UNIDAD EDUCATIVA PARTICULAR ATENEO\",\"UNIDAD EDUCATIVA PARTICULAR JOSE ANTONIO EGUIGUREN  LA SALLE\",\"UNIDAD EDUCATIVA PARTICULAR JUAN MONTALVO\",\"UNIDAD EDUCATIVA SAN FRANCISCO DE ASIS\",\"UNIDAD EDUCATIVA SAN VICENTE DE PA\\u00daL\",\"UNIDAD EDUCATIVA SANGUILLIN\",\"UNIDAD EDUCATIVA SANTA MARIANA DE JESUS\",\"UNIDAD EDUCATIVA SANTA MARIANA DE JESUS\",\"UNIDAD EDUCATIVA SANTA TERESITA\",\"UNIDAD EDUCATIVA TIOPAMBA\"],\"Parroquia\":[\"ELAIRO\",\"GUALEL\",\"LATINGUE\",\"SANANTONIODELASARADAS\",\"SANSEBASTIAN\",\"QUILANGA\",\"CELICA\",\"ELLUCERO\",\"SOZORANGA\",\"SANSEBASTIAN\",\"PURUNUMA(EGUIGUREN)\",\"SANPEDRODELABENDITA\",\"SANTIAGO\",\"SUCRE\",\"GONZANAMA\",\"ELSAGRARIO\",\"MERCADILLO\",\"CHAGUARPAMBA\",\"CELICA\",\"SUCRE\",\"CHANTACO\",\"QUINARA\",\"12DEDICIEMBRE\",\"SANTATERESITA\",\"BUENAVISTA\",\"TACAMOROS\",\"TACAMOROS\",\"27DEABRIL\",\"COLAISACA\",\"ELCISNE\",\"ELLIMO(MARIANADEJESUS)\",\"ELTAMBO\",\"CATAMAYO\",\"ELINGENIO\",\"VALLE\",\"CATAMAYO\",\"PALETILLAS\",\"TAQUIL(MIGUELRIOFRIO)\",\"SUCRE\",\"SACAPALCA\",\"NUEVAFATIMA\",\"ALAMOR\",\"LAVICTORIA\",\"ALAMOR\",\"JIMBILLA\",\"SANSEBASTIAN\",\"GENERALELOYALFARO(SANSEBASTIAN)\",\"CAZADEROS(CAB.ENMANGAURCO)\",\"YANGANA(ARSENIOCASTILLO)\",\"VICENTINO\",\"ELSAGRARIO\",\"CIANO\",\"SANTARUFINA\",\"ELTAMBO\",\"VALLE\",\"ELSAGRARIO\",\"SUCRE\",\"VALLE\",\"VALLE\",\"VALLE\",\"SUCRE\",\"ELSAGRARIO\",\"SUCRE\",\"SANSEBASTIAN\",\"SANSEBASTIAN\",\"SANSEBASTIAN\",\"ZAMBI\",\"PINDAL\",\"SUCRE\",\"CRUZPAMBA\",\"MALACATOS(VALLADOLID)\",\"CHAQUINAL\",\"AMALUZA\",\"SABIANGO(LACAPILLA)\",\"SANPEDRODEVILCABAMBA\",\"CHUQUIRIBAMBA\",\"POZUL(SANJUANDEPOZUL)\",\"SABANILLA\",\"VILCABAMBA(VICTORIA)\",\"ZAPOTILLO\",\"CATAMAYO\",\"BELLAVISTA\",\"CANGONAMA\",\"UTUANA\",\"SANSEBASTIAN\",\"CASANGA\",\"CASANGA\",\"CARIAMANGA\",\"CATAMAYO\",\"ELARENAL\",\"CATACOCHA\",\"ALAMOR\",\"SANVICENTE\",\"ELPARAISODECELEN\",\"NAMBACOLA\",\"ELCISNE\",\"JIMBURA\",\"CARIAMANGA\",\"SANSEBASTIAN\",\"ZAPOTILLO\",\"GUACHANAMA\",\"SANLUCAS\",\"SANTATERESITA\",\"MACARA(MANUELENRIQUERENGELSUQUILANDA)\",\"SANSEBASTIAN\",\"SANSEBASTIAN\",\"LAUROGUERRERO\",\"LLUZHAPA\",\"LOURDES\",\"ELSAGRARIO\",\"ELSAGRARIO\",\"MACARA(MANUELENRIQUERENGELSUQUILANDA)\",\"OLMEDO\",\"VALLE\",\"LOURDES\",\"LOURDES\",\"MALACATOS(VALLADOLID)\",\"MALACATOS(VALLADOLID)\",\"MANU\",\"ORIANGA\",\"SANANTONIO\",\"SANPABLODETENTA\",\"SARAGURO\",\"SARAGURO\",\"SARAGURO\",\"SARAGURO\",\"CATAMAYO\",\"CARIAMANGA\",\"LIMONES\",\"GONZANAMA\",\"BOLASPAMBA\",\"BELLAVISTA\",\"CHAGUARPAMBA\",\"ELSAGRARIO\",\"SUCRE\",\"SARAGURO\",\"AMALUZA\",\"COLAISACA\",\"SANLUCAS\",\"SARAGURO\",\"SELVAALEGRE\",\"SUMAYPAMBA\",\"URDANETA(PAQUISHAPA)\",\"VALLE\",\"VALLE\",\"VALLE\",\"VALLE\",\"VALLE\",\"VALLE\",\"VALLE\",\"VALLE\",\"YAMANA\",\"ELSAGRARIO\",\"ELSAGRARIO\",\"SANSEBASTIAN\",\"ELSAGRARIO\",\"CHANGAIMINA(LALIBERTAD)\",\"SANGUILLIN\",\"ELSAGRARIO\",\"MACARA(MANUELENRIQUERENGELSUQUILANDA)\",\"CELICA\",\"AMALUZA\"],\"Provincia\":[\"Loja_Province\",\"Loja_Province\",\"Loja_Province\",\"Loja_Province\",\"Loja_Province\",\"Loja_Province\",\"Loja_Province\",\"Loja_Province\",\"Loja_Province\",\"Loja_Province\",\"Loja_Province\",\"Loja_Province\",\"Loja_Province\",\"Loja_Province\",\"Loja_Province\",\"Loja_Province\",\"Loja_Province\",\"Loja_Province\",\"Loja_Province\",\"Loja_Province\",\"Loja_Province\",\"Loja_Province\",\"Loja_Province\",\"Loja_Province\",\"Loja_Province\",\"Loja_Province\",\"Loja_Province\",\"Loja_Province\",\"Loja_Province\",\"Loja_Province\",\"Loja_Province\",\"Loja_Province\",\"Loja_Province\",\"Loja_Province\",\"Loja_Province\",\"Loja_Province\",\"Loja_Province\",\"Loja_Province\",\"Loja_Province\",\"Loja_Province\",\"Loja_Province\",\"Loja_Province\",\"Loja_Province\",\"Loja_Province\",\"Loja_Province\",\"Loja_Province\",\"Loja_Province\",\"Loja_Province\",\"Loja_Province\",\"Loja_Province\",\"Loja_Province\",\"Loja_Province\",\"Loja_Province\",\"Loja_Province\",\"Loja_Province\",\"Loja_Province\",\"Loja_Province\",\"Loja_Province\",\"Loja_Province\",\"Loja_Province\",\"Loja_Province\",\"Loja_Province\",\"Loja_Province\",\"Loja_Province\",\"Loja_Province\",\"Loja_Province\",\"Loja_Province\",\"Loja_Province\",\"Loja_Province\",\"Loja_Province\",\"Loja_Province\",\"Loja_Province\",\"Loja_Province\",\"Loja_Province\",\"Loja_Province\",\"Loja_Province\",\"Loja_Province\",\"Loja_Province\",\"Loja_Province\",\"Loja_Province\",\"Loja_Province\",\"Loja_Province\",\"Loja_Province\",\"Loja_Province\",\"Loja_Province\",\"Loja_Province\",\"Loja_Province\",\"Loja_Province\",\"Loja_Province\",\"Loja_Province\",\"Loja_Province\",\"Loja_Province\",\"Loja_Province\",\"Loja_Province\",\"Loja_Province\",\"Loja_Province\",\"Loja_Province\",\"Loja_Province\",\"Loja_Province\",\"Loja_Province\",\"Loja_Province\",\"Loja_Province\",\"Loja_Province\",\"Loja_Province\",\"Loja_Province\",\"Loja_Province\",\"Loja_Province\",\"Loja_Province\",\"Loja_Province\",\"Loja_Province\",\"Loja_Province\",\"Loja_Province\",\"Loja_Province\",\"Loja_Province\",\"Loja_Province\",\"Loja_Province\",\"Loja_Province\",\"Loja_Province\",\"Loja_Province\",\"Loja_Province\",\"Loja_Province\",\"Loja_Province\",\"Loja_Province\",\"Loja_Province\",\"Loja_Province\",\"Loja_Province\",\"Loja_Province\",\"Loja_Province\",\"Loja_Province\",\"Loja_Province\",\"Loja_Province\",\"Loja_Province\",\"Loja_Province\",\"Loja_Province\",\"Loja_Province\",\"Loja_Province\",\"Loja_Province\",\"Loja_Province\",\"Loja_Province\",\"Loja_Province\",\"Loja_Province\",\"Loja_Province\",\"Loja_Province\",\"Loja_Province\",\"Loja_Province\",\"Loja_Province\",\"Loja_Province\",\"Loja_Province\",\"Loja_Province\",\"Loja_Province\",\"Loja_Province\",\"Loja_Province\",\"Loja_Province\",\"Loja_Province\",\"Loja_Province\",\"Loja_Province\",\"Loja_Province\",\"Loja_Province\",\"Loja_Province\",\"Loja_Province\",\"Loja_Province\",\"Loja_Province\"],\"RegimenEscolar\":[\"Costa\",\"Sierra\",\"Costa\",\"Costa\",\"Sierra\",\"Costa\",\"Costa\",\"Costa\",\"Costa\",\"Sierra\",\"Costa\",\"Sierra\",\"Sierra\",\"Sierra\",\"Costa\",\"Sierra\",\"Costa\",\"Costa\",\"Costa\",\"Sierra\",\"Sierra\",\"Sierra\",\"Costa\",\"Costa\",\"Costa\",\"Costa\",\"Costa\",\"Costa\",\"Costa\",\"Sierra\",\"Costa\",\"Costa\",\"Sierra\",\"Costa\",\"Sierra\",\"Sierra\",\"Costa\",\"Sierra\",\"Sierra\",\"Costa\",\"Costa\",\"Costa\",\"Costa\",\"Costa\",\"Sierra\",\"Sierra\",\"Costa\",\"Costa\",\"Sierra\",\"Costa\",\"Sierra\",\"Costa\",\"Costa\",\"Costa\",\"Sierra\",\"Sierra\",\"Sierra\",\"Sierra\",\"Sierra\",\"Sierra\",\"Sierra\",\"Costa\",\"Sierra\",\"Sierra\",\"Sierra\",\"Sierra\",\"Costa\",\"Costa\",\"Sierra\",\"Costa\",\"Sierra\",\"Costa\",\"Costa\",\"Costa\",\"Sierra\",\"Sierra\",\"Costa\",\"Costa\",\"Sierra\",\"Costa\",\"Sierra\",\"Costa\",\"Costa\",\"Costa\",\"Sierra\",\"Costa\",\"Costa\",\"Costa\",\"Sierra\",\"Costa\",\"Costa\",\"Costa\",\"Costa\",\"Sierra\",\"Costa\",\"Sierra\",\"Costa\",\"Costa\",\"Sierra\",\"Costa\",\"Costa\",\"Sierra\",\"Costa\",\"Costa\",\"Sierra\",\"Sierra\",\"Costa\",\"Costa\",\"Costa\",\"Sierra\",\"Sierra\",\"Costa\",\"Costa\",\"Sierra\",\"Costa\",\"Costa\",\"Sierra\",\"Sierra\",\"Costa\",\"Costa\",\"Costa\",\"Sierra\",\"Sierra\",\"Sierra\",\"Sierra\",\"Sierra\",\"Sierra\",\"Costa\",\"Costa\",\"Costa\",\"Costa\",\"Costa\",\"Costa\",\"Sierra\",\"Sierra\",\"Sierra\",\"Costa\",\"Costa\",\"Sierra\",\"Sierra\",\"Costa\",\"Costa\",\"Sierra\",\"Sierra\",\"Sierra\",\"Sierra\",\"Sierra\",\"Sierra\",\"Sierra\",\"Costa\",\"Sierra\",\"Costa\",\"Sierra\",\"Sierra\",\"Sierra\",\"Sierra\",\"Costa\",\"Costa\",\"Sierra\",\"Costa\",\"Costa\",\"Costa\"],\"Tipo\":[\"FiscalHighSchool\",\"FiscalHighSchool\",\"FiscalHighSchool\",\"FiscalHighSchool\",\"FiscalHighSchool\",\"FiscalHighSchool\",\"FiscalHighSchool\",\"FiscalHighSchool\",\"FiscalHighSchool\",\"FiscalHighSchool\",\"FiscalHighSchool\",\"FiscalHighSchool\",\"FiscalHighSchool\",\"FiscalHighSchool\",\"FiscomitionalHighSchool\",\"FiscalHighSchool\",\"FiscalHighSchool\",\"FiscalHighSchool\",\"FiscalHighSchool\",\"FiscalHighSchool\",\"FiscalHighSchool\",\"FiscalHighSchool\",\"FiscalHighSchool\",\"FiscalHighSchool\",\"FiscalHighSchool\",\"FiscalHighSchool\",\"FiscalHighSchool\",\"FiscalHighSchool\",\"FiscalHighSchool\",\"FiscalHighSchool\",\"FiscalHighSchool\",\"FiscalHighSchool\",\"FiscalHighSchool\",\"FiscomitionalHighSchool\",\"FiscomitionalHighSchool\",\"FiscomitionalHighSchool\",\"FiscalHighSchool\",\"FiscalHighSchool\",\"FiscalHighSchool\",\"FiscalHighSchool\",\"FiscalHighSchool\",\"FiscalHighSchool\",\"FiscalHighSchool\",\"FiscalHighSchool\",\"FiscalHighSchool\",\"LaicHighSchool\",\"FiscalHighSchool\",\"FiscalHighSchool\",\"FiscalHighSchool\",\"FiscalHighSchool\",\"FiscalHighSchool\",\"FiscalHighSchool\",\"FiscalHighSchool\",\"FiscalHighSchool\",\"ReligiousHighSchool\",\"LaicHighSchool\",\"LaicHighSchool\",\"LaicHighSchool\",\"LaicHighSchool\",\"ReligiousHighSchool\",\"LaicHighSchool\",\"LaicHighSchool\",\"LaicHighSchool\",\"LaicHighSchool\",\"LaicHighSchool\",\"FiscalHighSchool\",\"FiscalHighSchool\",\"FiscalHighSchool\",\"FiscalHighSchool\",\"FiscalHighSchool\",\"FiscalHighSchool\",\"FiscalHighSchool\",\"FiscalHighSchool\",\"FiscalHighSchool\",\"FiscalHighSchool\",\"FiscomitionalHighSchool\",\"FiscalHighSchool\",\"FiscalHighSchool\",\"FiscalHighSchool\",\"FiscalHighSchool\",\"FiscalHighSchool\",\"FiscalHighSchool\",\"FiscalHighSchool\",\"FiscalHighSchool\",\"FiscalHighSchool\",\"FiscalHighSchool\",\"FiscalHighSchool\",\"FiscalHighSchool\",\"LaicHighSchool\",\"FiscalHighSchool\",\"FiscomitionalHighSchool\",\"FiscalHighSchool\",\"FiscalHighSchool\",\"FiscalHighSchool\",\"FiscalHighSchool\",\"FiscomitionalHighSchool\",\"FiscomitionalHighSchool\",\"FiscomitionalHighSchool\",\"FiscalHighSchool\",\"FiscalHighSchool\",\"FiscalHighSchool\",\"FiscalHighSchool\",\"FiscalHighSchool\",\"FiscalHighSchool\",\"FiscalHighSchool\",\"FiscalHighSchool\",\"FiscalHighSchool\",\"FiscalHighSchool\",\"FiscalHighSchool\",\"ReligiousHighSchool\",\"FiscomitionalHighSchool\",\"FiscomitionalHighSchool\",\"FiscomitionalHighSchool\",\"FiscomitionalHighSchool\",\"FiscomitionalHighSchool\",\"FiscalHighSchool\",\"FiscalHighSchool\",\"FiscomitionalHighSchool\",\"FiscalHighSchool\",\"FiscalHighSchool\",\"FiscalHighSchool\",\"FiscalHighSchool\",\"FiscalHighSchool\",\"FiscalHighSchool\",\"FiscalHighSchool\",\"FiscalHighSchool\",\"FiscomitionalHighSchool\",\"FiscomitionalHighSchool\",\"FiscalHighSchool\",\"FiscalHighSchool\",\"FiscalHighSchool\",\"FiscalHighSchool\",\"FiscomitionalHighSchool\",\"ReligiousHighSchool\",\"FiscalHighSchool\",\"FiscomitionalHighSchool\",\"FiscomitionalHighSchool\",\"FiscomitionalHighSchool\",\"FiscalHighSchool\",\"FiscomitionalHighSchool\",\"FiscalHighSchool\",\"FiscalHighSchool\",\"FiscalHighSchool\",\"FiscalHighSchool\",\"FiscomitionalHighSchool\",\"FiscalHighSchool\",\"FiscomitionalHighSchool\",\"FiscalHighSchool\",\"FiscalHighSchool\",\"FiscomitionalHighSchool\",\"FiscomitionalHighSchool\",\"FiscalHighSchool\",\"LaicHighSchool\",\"ReligiousHighSchool\",\"LaicHighSchool\",\"FiscomitionalHighSchool\",\"FiscomitionalHighSchool\",\"FiscalHighSchool\",\"ReligiousHighSchool\",\"FiscomitionalHighSchool\",\"FiscomitionalHighSchool\",\"FiscalHighSchool\"],\"TotalAdministrativos\":[2,2,2,4,5,5,6,5,5,9,2,2,2,8,2,10,3,6,0,4,2,2,2,2,4,2,5,4,6,3,4,3,8,3,31,4,2,2,3,3,2,4,3,3,2,27,8,3,3,3,3,2,3,4,12,8,3,27,5,6,3,9,10,3,24,1,1,4,1,3,3,2,2,6,4,4,5,4,5,4,2,0,2,4,2,4,3,9,5,3,3,6,13,0,6,2,5,3,31,4,4,1,0,2,4,5,5,0,3,12,15,12,3,3,10,8,3,1,5,2,2,2,0,2,9,0,3,4,0,9,0,1,0,12,3,13,4,15,2,1,3,0,3,4,1,16,2,20,2,1,24,3,6,19,8,8,6,4,22,3,4,3],\"TotalDocentes\":[10,8,8,10,67,22,21,10,24,77,10,21,9,76,14,120,11,16,8,12,9,9,9,9,10,8,12,11,8,8,12,8,53,15,160,59,12,7,11,7,8,27,10,8,8,40,56,9,14,11,13,7,8,15,21,31,5,50,18,16,7,9,10,12,79,12,9,36,7,11,16,9,14,10,13,23,19,11,34,18,26,14,9,17,56,9,8,50,12,10,42,31,75,20,21,18,18,34,166,15,9,17,16,22,42,10,10,14,6,107,73,62,38,45,50,49,18,34,13,11,8,24,18,14,54,4,25,46,12,41,8,13,29,47,26,72,48,123,25,23,12,13,22,52,14,2,9,62,21,65,88,8,25,45,18,62,26,16,56,37,47,16],\"Total_Alumnos\":[144,77,89,95,1175,343,224,182,218,1148,82,363,123,1787,192,2363,162,289,50,208,178,189,120,57,142,92,124,219,60,92,152,116,1452,217,3033,999,210,80,202,136,98,506,102,76,87,513,871,55,223,138,176,135,110,228,304,246,47,767,184,237,130,76,281,320,912,88,81,855,120,198,250,145,297,33,182,224,294,158,613,262,496,212,66,196,1197,107,70,400,81,128,852,358,955,345,259,189,287,654,3496,227,58,203,177,396,876,33,115,202,49,1979,1424,106,638,736,940,790,262,751,229,169,89,456,238,97,919,100,488,765,145,421,101,164,378,988,410,1133,673,2085,366,360,194,180,374,111,57,13,184,1339,357,1098,2289,73,307,924,167,1407,434,212,1287,847,738,142],\"URI_Name\":[\"COLEGIODEBACHILLERATO2DEAGOSTO\",\"COLEGIODEBACHILLERATOAGUSTINCURIPOMA\",\"COLEGIODEBACHILLERATOLATINGUE\",\"COLEGIODEBACHILLERATOLICMIGUELANTOLIANOSALINASJARAMILLO\",\"COLEGIODEBACHILLERATOPIOJARAMILLOALVARADO\",\"COLEGIODEBACHILLERATOQUILANGA\",\"COLEGIODEBACHILLERATO12DEDICIEMBRE\",\"COLEGIODEBACHILLERATO14DEOCTUBRE\",\"COLEGIODEBACHILLERATO18DENOVIEMBRE\",\"COLEGIODEBACHILLERATO27DEFEBRERO\",\"COLEGIODEBACHILLERATO30DESEPTIEMBRE\",\"COLEGIODEBACHILLERATO8DEDICIEMBRE\",\"COLEGIODEBACHILLERATOABDONCALDERONMUnOZ\",\"COLEGIODEBACHILLERATOADOLFOVALAREZO\",\"COLEGIODEBACHILLERATOBALBINAMORENO\",\"COLEGIODEBACHILLERATOBEATRIZCUEVADEAYORA\",\"COLEGIODEBACHILLERATOCARLOSGARBAYMONTESDEOCA\",\"COLEGIODEBACHILLERATOCHAGUARPAMBA\",\"COLEGIODEBACHILLERATOCOMUNADOMINGUILLO\",\"COLEGIODEBACHILLERATODOCTORBENJAMINCARRION\",\"COLEGIODEBACHILLERATODREDUARDOMORAMORENO\",\"COLEGIODEBACHILLERATODRBALTAZARAGUIRRE\",\"COLEGIODEBACHILLERATODRCLOTARIOPAZPALADINES\",\"COLEGIODEBACHILLERATODRHUGOGUILLERMOGONZALEZ\",\"COLEGIODEBACHILLERATODRJUANFRANCISCOONTANEDA\",\"COLEGIODEBACHILLERATODRMANUELAGUSTINAGUIRRE\",\"COLEGIODEBACHILLERATODRZOILORODRIGUEZ\",\"COLEGIODEBACHILLERATOECUADOR\",\"COLEGIODEBACHILLERATOEDMUNDOCEVALLOSAGUIRRE\",\"COLEGIODEBACHILLERATOELCISNE\",\"COLEGIODEBACHILLERATOELLIMO\",\"COLEGIODEBACHILLERATOEMILIANOABENDAnOGONZALEZ\",\"COLEGIODEBACHILLERATOEMILIANOORTEGAESPINOZA\",\"COLEGIODEBACHILLERATOFISCOMISIONALGABRIELGARCIAMORENO\",\"COLEGIODEBACHILLERATOFISCOMISIONALDANIELALVAREZBURNEO\",\"COLEGIODEBACHILLERATOFISCOMISIONALNUESTRASEnORADELROSARIO\",\"COLEGIODEBACHILLERATOGALOROLANDOVELEZRIVERA\",\"COLEGIODEBACHILLERATOGUILLERMOHERRERASANCHEZ\",\"COLEGIODEBACHILLERATOHERNANGALLARDOMOSCOSO\",\"COLEGIODEBACHILLERATOJOSEFELIXDEVALDIVIESO\",\"COLEGIODEBACHILLERATOJOSEMARIARIOFRIOYVALDIVIEZO\",\"COLEGIODEBACHILLERATOJULIOISAACESPINOZAOCHOA\",\"COLEGIODEBACHILLERATOLAVICTORIA\",\"COLEGIODEBACHILLERATOLAUTAROVICENTELOAYZA\",\"COLEGIODEBACHILLERATOLIBERTADORBOLIVAR\",\"COLEGIODEBACHILLERATOLICEODELOJAPARTICULAR\",\"COLEGIODEBACHILLERATOMACARA\",\"COLEGIODEBACHILLERATOMANGAHURCO\",\"COLEGIODEBACHILLERATOMANUELBENJAMINCARRION\",\"COLEGIODEBACHILLERATOMANUELCARRIONPINZANO\",\"COLEGIODEBACHILLERATOMANUELENRIQUERENGEL\",\"COLEGIODEBACHILLERATOMARCOSOCHOAMUnOZ\",\"COLEGIODEBACHILLERATOMATILDEHIDALGODEPROCEL\",\"COLEGIODEBACHILLERATOMONSLEONIDASPROAnOVILLALBA\",\"COLEGIODEBACHILLERATOPARTICULARANTONIOPEnACELI\",\"COLEGIODEBACHILLERATOPARTICULARCORDILLERA\",\"COLEGIODEBACHILLERATOPARTICULARDRJOSEMARIAVIVARCASTRO\",\"COLEGIODEBACHILLERATOPARTICULAREUGENIOESPEJO\",\"COLEGIODEBACHILLERATOPARTICULARIBEROAMERICANOSANAGUST\\u00cdN\",\"COLEGIODEBACHILLERATOPARTICULARMIGUELANGELSUAREZ\",\"COLEGIODEBACHILLERATOPARTICULARPARAPCEIDRJOSEMARIAVIVARCASTRO\",\"COLEGIODEBACHILLERATOPARTICULARPCEIAMAZONAS\",\"COLEGIODEBACHILLERATOPARTICULARPCEIAMAZONAS\",\"COLEGIODEBACHILLERATOPARTICULARPCEIISIDROAYORACUEVA\",\"COLEGIODEBACHILLERATOPARTICULARSANGERARDO\",\"COLEGIODEBACHILLERATOPCEIPIOJARAMILLOALVARADO\",\"COLEGIODEBACHILLERATOPEDROVICTORFALCONI\",\"COLEGIODEBACHILLERATOPINDAL\",\"COLEGIODEBACHILLERATOPRESIDENTEISIDROAYORA\",\"COLEGIODEBACHILLERATOPROCERJOSEPICOITA\",\"COLEGIODEBACHILLERATORAFAELRODRIGUEZPALACIOS\",\"COLEGIODEBACHILLERATORAMONRIOFRIOBUSTAMANTE\",\"COLEGIODEBACHILLERATOROSAHERLINDAGARCIADEGARCIA\",\"COLEGIODEBACHILLERATORVDOJORGESANCHEZMORENO\",\"COLEGIODEBACHILLERATOSANPEDRODEVILCABAMBA\",\"COLEGIODEBACHILLERATOSANVICENTEFERRER\",\"COLEGIODEBACHILLERATOTNTEMAXIMILIANORODRIGUEZ\",\"COLEGIODEBACHILLERATOTRECEDENOVIEMBRE\",\"COLEGIODEBACHILLERATOVILCABAMBA\",\"COLEGIODEBACHILLERATOZAPOTILLO\",\"COLEGIONACIONALNOCTURNOCATAMAYO\",\"ESCUELADEEDUCACIONBASICACABOCASTILLO\",\"COLEGIODEBACHILLERATOFRONTERASUR\",\"ESCUELADEEDUCACIONBASICAGENERALMOISESOLIVA\",\"ESCUELADEEDUCACI\\u00d3NB\\u00c1SICALAURODAMERVALAYORAN1\",\"COLEGIODEBACHILLERATOMANUELJOSEJARAMILLO\",\"COLEGIODEBACHILLERATOMACANDAMINE\",\"INSTITUTOTECNOLOGICOSUPERIORCARIAMANGA\",\"JOSEMARIAVELAZSJEXTENSIONN2CATAMAYO\",\"RAMONSAMANIEGOPALACIOS\",\"UNIDADEDUCATIVAFISCOMISIONALDOMINGOCELI\",\"TECNICOPUYANGO\",\"U.E.ELOYALFARO\",\"UNIDADEDUCATIVAPEDROVICENTEMALDONADO\",\"UNIDADEDUCATIUVANAMBACOLA\",\"UNIDADEDUCATIVACORAZONDEMARIA\",\"UNIDADEDUCATIVAFISCOMISIONALJULIOERNESTOCELI\",\"UNIDADEDUCATIVAMARIAAUXILIADORA\",\"UNIDADEDUCATIVABERNARDOVALDIVIESO\",\"UNIDADEDUCATIVABRASIL\",\"COLEGIODEBACHILLERATO29DEMAYO\",\"UNIDADEDUCATIVACOMUNITARIAINTERCULTURALBILINGUERUMInAHUI\",\"UNIDADEDUCATIVACOTOPAXI\",\"UNIDADEDUCATIVADELMILENIO5DEJUNIO\",\"UNIDADEDUCATIVADRMANUELAGUSTINCABRERALOZANO\",\"UNIDADEDUCATIVAEXPERIMENTALPARACIEGOSLUISBRAILLE\",\"COLEGIODEBACHILLERATOTCNELLAUROGUERRERO\",\"ESCUELADEEDUCACIONBASICALATACUNGA\",\"COLEGIODEBACHILLERATOSEGUNDOCUEVACELI\",\"UNIDADEDUCATIVAFISCOMISIONALLADOLOROSA\",\"UNIDADEDUCATIVAFISCOMISIONALLAINMACULADA\",\"UNIDADEDUCATIVAFISCOMISIONALMARISTA\",\"UNIDADEDUCATIVAFISCOMISIONALMONSALBERTOZAMBRANOPALACIOS\",\"UNIDADEDUCATIVAFISCOMISIONALPARAPCEIHNOANGELPASTRANACORRAL\",\"UNIDADEDUCATIVAFISCOMISIONALMARISTADECATACOCHA\",\"UNIDADEDUCATIVAPALTAS\",\"ESCUELADEEDUCACIONBASICAELVIAB\\u00c9LGICAJIM\\u00c9NEZDEGONZ\\u00c1LEZ\",\"UNIDADEDUCATIVAMANUELJOS\\u00c9RODRIGUEZ\",\"COLEGIODEBACHILLERATOMAN\\u00da\",\"COLEGIODEBACHILLERATOORIANGA\",\"COLEGIODEBACHILLERATODRCARLOSMANUELESPINOZA\",\"UNIDADEDUCATIVACOMUNITARIAINTERCULTURALBILINGUEABC\",\"UNIDADEDUCATIVACOMUNITARIAINTERCULTURALBILINGUETUPAKYUPANKI\",\"UECOMUNITARIAINTERCULTURALBILINGUEINKASAMANA\",\"COLEGIODEBACHILLERATOSARAGURO\",\"COLEGIODEBACHILLERATOnUKANCHIKKAWSAYPARAPCEI\",\"UNIDADEDUCATIVAFISCOMISIONALSANJUANBAUTISTA\",\"UNIDADEDUCATIVAFISCOMISIONALSANTAJUANADEARCOLASALLE\",\"UNIDADEDUCATIVAFRANCISCODEORELLANA\",\"UNIDADEDUCATIVAGONZANAMA\",\"UNIDADEDUCATIVAGREGORIOMARAnON\",\"UNIDADEDUCATIVAJOS\\u00c9MAR\\u00cdARIOFR\\u00cdO\",\"UNIDADEDUCATIVALADOLOROSA\",\"UNIDADEDUCATIVALAPORCIUNCULA\",\"UNIDADEDUCATIVAMANUELIGNACIOMONTEROVALDIVIESO\",\"UNIDADEDUCATIVAFISCOMISIONALSANJOSEDECALASANZ\",\"UNIDADEDUCATIVAMONSLUISALFONSOCRESPO\",\"UNIDADEDUCATIVAMONSEnORSANTIAGOFERNANDEZGARC\\u00cdA\",\"UNIDADEDUCATIVAMUSHUKRIMAK\",\"UNIDADEDUCATIVAFISCOMISIONALFRAYCRIST\\u00d3BALZAMBRANO\",\"COLEGIODEBACHILLERATOVICENTEBASTIDASREINOSO\",\"ESCUELADEEDUCACI\\u00d3NB\\u00c1SICAORILLASDELJUBONES\",\"COLEGIOPROFESORVIRGILIOABARCAMONTESINOS\",\"ESCUELADEEDUCACIONBASICAMARIETADEVEINTIMILLA\",\"I.E.ESPECIALDELOJANO.2\",\"SERVICIOECUATORIANODECAPACITACI\\u00d3NPROFESIONALSECAP\",\"UNIDADEDUCFISCOMISIONALPARAPCEIJOSEMARIAVELAZEXT1LOJA\",\"UNIDADEDUCATIVACOMILN5LAUROGUERRERO\",\"UNIDADEDUCATIVAFERNANDOSUAREZPALACIO\",\"UNIDADEDUCATIVAFISCOMISIONALPARAPCIHERMANOANGELPASTRANA\",\"UNIDADEDUCATIVAFISCOMISIONALCALASANZ\",\"COLEGIODEBACHILLERATOFRANCISCOVALDIVIESOALVARADO\",\"UNIDADEDUCATIVAPARTICULARATENEO\",\"UNIDADEDUCATIVAPARTICULARJOSEANTONIOEGUIGURENLASALLE\",\"UNIDADEDUCATIVAPARTICULARJUANMONTALVO\",\"UNIDADEDUCATIVASANFRANCISCODEASIS\",\"UNIDADEDUCATIVASANVICENTEDEPA\\u00daL\",\"UNIDADEDUCATIVASANGUILLIN\",\"UNIDADEDUCATIVASANTAMARIANADEJESUS\",\"UNIDADEDUCATIVASANTAMARIANADEJESUS\",\"UNIDADEDUCATIVASANTATERESITA\",\"UNIDADEDUCATIVATIOPAMBA\"],\"index\":[0,1,2,3,4,5,6,7,8,9,10,11,12,13,14,15,16,17,18,19,20,21,22,23,24,25,26,27,28,29,30,31,32,33,34,35,36,37,38,39,40,41,42,43,44,45,46,47,48,49,50,51,52,53,54,55,56,57,58,59,60,61,62,63,64,65,66,67,68,69,70,71,72,73,74,75,76,77,78,79,80,81,82,83,84,85,86,87,88,89,90,91,92,93,94,95,96,97,98,99,100,101,102,103,104,105,106,107,108,109,110,111,112,113,114,115,116,117,118,119,120,121,122,123,124,125,126,127,128,129,130,131,132,133,134,135,136,137,138,139,140,141,142,143,144,145,146,147,148,149,150,151,152,153,154,155,156,157,158,159,160,161],\"x\":{\"__ndarray__\":\"7+ePcRTbYMF1jKJBt9pgwYbxNvez5WDB6FWUyLvbYMG1V6ttC9FgwaQ+rI/o22DBpGbReuP5YMHv4W6gPd9gwWmqtE/98GDBaSSu0TbRYMG1kbmCU9pgwZXuIP603WDBxGqQaJLVYMFDFgt5btFgwRyDqVa83WDBNTWK3cnQYME4VRinH/tgwS6Q8Br86mDB5KSOUOH7YMFq6IbjNtFgwWDz6PLR12DBXs5VydbSYME/zJe8WQFhwWrb3zIY3GDBXuCvfOrsYMGfaul4oe9gwSX2ztVY7mDBhTRO7OfeYMH6TBDkxetgwZGN7VPn3GDBhX5CsO4DYcGMQO2rAdZgwa30LB/Q2WDB6e07D5bdYMGyzqie/9BgwbKErAir2WDB+dIl0EQLYcEQC2Iy1dVgwa8gBMfx0mDBEwER+DXiYMFosHoTmvJgwZ0Q03Vt/WDB2JcgBS7xYMEz+AX5fABhwQNNzNpKz2DBX7b4sCnRYMGouCSOAvlgwXKk1iDVE2HBaekE9rPPYMFHJH/8S/lgweUIj38v0WDB/jecAUX8YMGP4cEFqO9gwTmziWS31mDBwT7DGxnRYMEHeJf+/dBgwWYHKO9F0mDBxh9YV4XRYMFyXyui59BgwdO9KlQH0WDByvxUiEbSYMFSToggNNFgwaxlgV0t0WDBbWQnfKzQYMFNfLMbs9BgwU/3ViwJ0WDBat69WO7iYMFCREbTGQJhwRdz9izq0WDBkkkK1nb8YMGlUFAFHdRgwTdZY+1n/mDBhALll1jdYME53JtEOPJgwU+98o3l0WDBgfBCwqPYYMFILpdFoP9gwe8g9+FBA2HBVbnzHvjRYMHzeu5WqAlhwaL+F0DM2WDBK/GRhKjeYMGExZvqK+xgwRpKIYVw7WDBCNNa40XRYME+KlRNoO9gwb+bxN+K7WDBVzhyNTfkYMEyzK48lNlgwYz3Yryz+2DBuUu13WPpYMHeVpLxtv1gwfc5v8YN5GDBsJ+MqSfTYMH1nxSNGN1gwXl+jhgz3WDBfItoLiTfYMGFhf/5XORgwb+IWZX40GDB3y+i7WIJYcEeK5oxAPZgwVeBM3iG1GDBvxqrsaPcYMFgbuAO1PlgwZwe46u60WDBCU5ChO7QYMFGcRxpSu9gwXIhU2GB2GDBPAs0d83lYMGvHDS36NBgwSGPCdII0WDB2uEYBmL5YMEybUybLOlgwbLOqJ7/0GDBaKTCLj/pYMGzrGZsLelgwbcV/Npa0WDBDrOZYbHUYMEh3ZCMj9xgwatsOYJu9WDBqfCv1y7qYMG5pcaWydVgwckqsk570WDBtk8oPWLTYMGd/WauBtNgwVQCz8Xf0WDBF1LFxznZYMGHXmpXSeRgwcxJyWX4D2HB3XnwV9ndYMEEkqLlfhBhwbQQ7grf3mDB3ioLtfXoYMGur3cuFdFgwZvtxolD0mDBhhzlKuPSYMEv6+ArCt1gwfoZjW3P7GDBHlSqTGDUYMH7L9uRFtNgwTm3eJJa2WDBxt50UhnZYMGY+bgTfNFgwQJY8HBP0mDBa7yl+cfQYMEt2qzvrtBgwaCrda0A0WDBs864TuHRYMEesS79MdNgwbLOqJ7/0GDB9UdzWgzRYMGWqsEjCexgwW4Ppy8J0WDBF0iMv7DQYMHV7F8wo9BgwUcvNc8F0WDBZvev5oniYMHChpqIbOFgwaAmR2fx0GDBG/fob836YMFQB3GfC/pgwU+QvnUz3WDB\",\"dtype\":\"float64\",\"shape\":[162]},\"y\":{\"__ndarray__\":\"oQLQzUNqHsFCc/9GKKIZwQBoaVRslxrBaysLlUmuHcFQ9cVzFjkbwbJpB0AONR3BmcF1RR3qG8HOCvvY4uwdwfIEo6qZbR3BtSUE9GlMG8HLj9zv6aEcwWtbqU+K0RrBjwFrPx7FGcHJb5G59yYbwRIfjrzNwhzB8rX2fr0sG8H8ylg461wbwbyftDmwKRrBD8VklT89HMEYxFQxOEEbwVLEB82KYhrBxNZ5UXhdHcF0+PgoIa8bwZPO0Hvknh7BZviiJ1p2GsGEtftZduQdwW1nNOcIEx7BDsdC68g1HsG5yCYyA18dwXduC6a7LBrBsFFQD64bG8Fb2d3CAi8cwQ+RNC1VGhvBU9yc2KT/HcFZCkCQDx4bwV9UObFGGhvB4j4bvelQHMHGlOKQDXkawZsngQSxFhvBN8EoOeU+HMHe6eK4wgUdwVHfzg0vUxvBrIfp0c8sHsEh4nqjEUMbwRi5+n8KPxrBiJLUa3tnG8GV58tb/LodwYN02LF7QhzBiTVdn3GsHcG1HWofCvIawZbkPiZFJBvBnQBrn6LUGsGBpUjVfi8awdP5kowVsBvBiDXIOlcpG8EYMegWSCwbwU6F2nwwERvByt3KKu/oGsHyIRcPYwQbwarfO8MCExvB5A9nP2ARG8H6nyaNGzMbwXMQR5HiMhvBU+gkHXw3G8HpCEP6+40bwU2Y+koWORvB1FaAqpCaGsEdID+A1v0bwSqOxX4RFhvB/tp3V79MHMFD3SQdabEcwRTx7NIdhBvBI+oShhcnH8Hsq7otRrMdwQ2889ea0hzBwP6rfFokGsHwao9atf4bwW/oqE9tnhzBRzjNm7f6HMF9AIXtNdMdweiZ8weDGRvBtgQrHu6jHsG3wLZ/xfgawcSA6kvNqh3BwhhvjXpKG8HuSiR9S0sbwZ1er4m9ThvBlMpBlWF4HcFQ0Q5ssiEbwZ7VtqFW8BrBCn7oTD2JG8FsvGDzdE8bwQ724cQsdB3BDf8kCaaiGMFoD45CiBwcwQWwtIysLhrBNYxGdTx4H8FL+G1P7m0dwbLwoWU0QxvB6GTIhjrOHcEc+plVb4YbwQQ59XOKPRnBhpMxNqfqHsHjjnkh8NMdwQ0WawvQZhvBEwBw49lMG8HZDu9eOvsawX6Tr/pdzRfBxthn29rAG8H7cJzfFysbweORtqqOMBvBdpgRbhrCHcEws8DTO78awVkKQJAPHhvBWUt6FuOPG8E9v8HbhZYbwW60xKq9OBzBHUfW7AqsHMGlHCz9rrEXwVDXKum1gBrBKLu7YK0PG8G7GBYxaXkYwUhw4wKazRjB6OYv5eKtGMH8nz+VGp4YwTBGiMJNpBjBvwZyn8swG8HK7WZ4zWodwbWg5qhp2R3BAak1yXbHHMEVXcx1s3YcwaQ4/E7EDB/B4QaRv7ReGsEwWSqj0CsbwZCts8CGMRvB6SYp53qSGMGbBzO6wCkfwYvQAM83AR3BzNVRS3prGcG3mKDET6cYwcMQWaplLBjBwbziD6jTFsFKw3JXsoQYwScU56EE0hrBW93EoxsCG8EweFhlHSsbwTNenr2jExvBepxTDt/ZGsE+Yt3LDd8awVkKQJAPHhvB0OZpzAQLG8F+JrXG0DkbwXQQUQgkMRvBR0rcgB8wG8FMmtOt4jgbwbr1HnOWKRvBn1itTxa3HMGQEN8lfUMewTp5fWLXLxvBGEGQIBqdHcEwKsidE+cbwejoqeK53x7B\",\"dtype\":\"float64\",\"shape\":[162]}},\"selected\":{\"id\":\"1068\",\"type\":\"Selection\"},\"selection_policy\":{\"id\":\"1067\",\"type\":\"UnionRenderers\"}},\"id\":\"1006\",\"type\":\"ColumnDataSource\"},{\"attributes\":{\"dimension\":\"lat\"},\"id\":\"1026\",\"type\":\"MercatorTicker\"},{\"attributes\":{\"below\":[{\"id\":\"1016\",\"type\":\"MercatorAxis\"}],\"left\":[{\"id\":\"1025\",\"type\":\"MercatorAxis\"}],\"plot_width\":900,\"renderers\":[{\"id\":\"1016\",\"type\":\"MercatorAxis\"},{\"id\":\"1024\",\"type\":\"Grid\"},{\"id\":\"1025\",\"type\":\"MercatorAxis\"},{\"id\":\"1033\",\"type\":\"Grid\"},{\"id\":\"1039\",\"type\":\"BoxAnnotation\"},{\"id\":\"1045\",\"type\":\"TileRenderer\"},{\"id\":\"1050\",\"type\":\"GlyphRenderer\"},{\"id\":\"1005\",\"type\":\"ColorBar\"}],\"right\":[{\"id\":\"1005\",\"type\":\"ColorBar\"}],\"sizing_mode\":\"scale_width\",\"title\":{\"id\":\"1043\",\"type\":\"Title\"},\"toolbar\":{\"id\":\"1037\",\"type\":\"Toolbar\"},\"x_range\":{\"id\":\"1008\",\"type\":\"Range1d\"},\"x_scale\":{\"id\":\"1012\",\"type\":\"LinearScale\"},\"y_range\":{\"id\":\"1010\",\"type\":\"Range1d\"},\"y_scale\":{\"id\":\"1014\",\"type\":\"LinearScale\"}},\"id\":\"1007\",\"subtype\":\"Figure\",\"type\":\"Plot\"},{\"attributes\":{},\"id\":\"1034\",\"type\":\"PanTool\"},{\"attributes\":{\"tile_source\":{\"id\":\"1002\",\"type\":\"WMTSTileSource\"}},\"id\":\"1045\",\"type\":\"TileRenderer\"},{\"attributes\":{},\"id\":\"1067\",\"type\":\"UnionRenderers\"},{\"attributes\":{\"fill_alpha\":{\"value\":0.8},\"fill_color\":{\"field\":\"Total_Alumnos\",\"transform\":{\"id\":\"1004\",\"type\":\"LinearColorMapper\"}},\"line_color\":{\"value\":\"#1f77b4\"},\"size\":{\"units\":\"screen\",\"value\":15},\"x\":{\"field\":\"x\"},\"y\":{\"field\":\"y\"}},\"id\":\"1048\",\"type\":\"Circle\"},{\"attributes\":{\"callback\":null,\"end\":-8780000,\"start\":-8970000},\"id\":\"1008\",\"type\":\"Range1d\"},{\"attributes\":{\"attribution\":\"&copy; <a href=\\\"https://www.openstreetmap.org/copyright\\\">OpenStreetMap</a> contributors,&copy; <a href=\\\"https://cartodb.com/attributions\\\">CartoDB</a>\",\"url\":\"https://tiles.basemaps.cartocdn.com/light_all/{z}/{x}/{y}.png\"},\"id\":\"1002\",\"type\":\"WMTSTileSource\"},{\"attributes\":{\"fill_alpha\":{\"value\":0.1},\"fill_color\":{\"value\":\"#1f77b4\"},\"line_alpha\":{\"value\":0.1},\"line_color\":{\"value\":\"#1f77b4\"},\"size\":{\"units\":\"screen\",\"value\":15},\"x\":{\"field\":\"x\"},\"y\":{\"field\":\"y\"}},\"id\":\"1049\",\"type\":\"Circle\"},{\"attributes\":{\"callback\":null,\"end\":-360000,\"start\":-520000},\"id\":\"1010\",\"type\":\"Range1d\"},{\"attributes\":{\"high\":3496,\"low\":13,\"palette\":[\"#E9FF70\",\"#FFD670\",\"#FF9770\",\"#F25F5C\",\"#50514F\",\"#202020\"]},\"id\":\"1004\",\"type\":\"LinearColorMapper\"},{\"attributes\":{},\"id\":\"1012\",\"type\":\"LinearScale\"},{\"attributes\":{\"callback\":null,\"tooltips\":[[\"Nombre\",\"@Nombre\"],[\"# Alumnos\",\"@Total_Alumnos\"],[\"Localizacion\",\"@Latitud | @Longitud\"],[\"Cant\\u00f3n\",\"@Canton\"],[\"Parroquia\",\"@Parroquia\"]]},\"id\":\"1054\",\"type\":\"HoverTool\"},{\"attributes\":{\"plot\":null,\"text\":\"Instituciones educativas de nivel secundario en Loja\"},\"id\":\"1043\",\"type\":\"Title\"},{\"attributes\":{\"data_source\":{\"id\":\"1006\",\"type\":\"ColumnDataSource\"},\"glyph\":{\"id\":\"1048\",\"type\":\"Circle\"},\"hover_glyph\":null,\"muted_glyph\":null,\"nonselection_glyph\":{\"id\":\"1049\",\"type\":\"Circle\"},\"selection_glyph\":null,\"view\":{\"id\":\"1051\",\"type\":\"CDSView\"}},\"id\":\"1050\",\"type\":\"GlyphRenderer\"},{\"attributes\":{},\"id\":\"1014\",\"type\":\"LinearScale\"},{\"attributes\":{},\"id\":\"1065\",\"type\":\"BasicTicker\"},{\"attributes\":{\"source\":{\"id\":\"1006\",\"type\":\"ColumnDataSource\"}},\"id\":\"1051\",\"type\":\"CDSView\"},{\"attributes\":{\"formatter\":{\"id\":\"1019\",\"type\":\"MercatorTickFormatter\"},\"plot\":{\"id\":\"1007\",\"subtype\":\"Figure\",\"type\":\"Plot\"},\"ticker\":{\"id\":\"1017\",\"type\":\"MercatorTicker\"}},\"id\":\"1016\",\"type\":\"MercatorAxis\"},{\"attributes\":{\"dimension\":\"lon\"},\"id\":\"1017\",\"type\":\"MercatorTicker\"},{\"attributes\":{\"dimension\":\"lon\"},\"id\":\"1019\",\"type\":\"MercatorTickFormatter\"},{\"attributes\":{\"plot\":{\"id\":\"1007\",\"subtype\":\"Figure\",\"type\":\"Plot\"},\"ticker\":{\"id\":\"1017\",\"type\":\"MercatorTicker\"}},\"id\":\"1024\",\"type\":\"Grid\"},{\"attributes\":{\"formatter\":{\"id\":\"1028\",\"type\":\"MercatorTickFormatter\"},\"plot\":{\"id\":\"1007\",\"subtype\":\"Figure\",\"type\":\"Plot\"},\"ticker\":{\"id\":\"1026\",\"type\":\"MercatorTicker\"}},\"id\":\"1025\",\"type\":\"MercatorAxis\"},{\"attributes\":{},\"id\":\"1064\",\"type\":\"BasicTickFormatter\"},{\"attributes\":{\"dimension\":\"lat\"},\"id\":\"1028\",\"type\":\"MercatorTickFormatter\"},{\"attributes\":{\"children\":[{\"id\":\"1007\",\"subtype\":\"Figure\",\"type\":\"Plot\"}],\"sizing_mode\":\"scale_width\"},\"id\":\"1056\",\"type\":\"Row\"},{\"attributes\":{\"dimension\":1,\"plot\":{\"id\":\"1007\",\"subtype\":\"Figure\",\"type\":\"Plot\"},\"ticker\":{\"id\":\"1026\",\"type\":\"MercatorTicker\"}},\"id\":\"1033\",\"type\":\"Grid\"},{\"attributes\":{},\"id\":\"1035\",\"type\":\"WheelZoomTool\"},{\"attributes\":{\"overlay\":{\"id\":\"1039\",\"type\":\"BoxAnnotation\"}},\"id\":\"1036\",\"type\":\"BoxZoomTool\"}],\"root_ids\":[\"1057\"]},\"title\":\"Bokeh Application\",\"version\":\"1.0.4\"}};\n",
       "  var render_items = [{\"docid\":\"481c52b5-d0f7-4ad9-8faf-bae12798c49f\",\"roots\":{\"1057\":\"1e228614-27b6-4fb3-8303-948654ec9e51\"}}];\n",
       "  root.Bokeh.embed.embed_items_notebook(docs_json, render_items);\n",
       "\n",
       "  }\n",
       "  if (root.Bokeh !== undefined) {\n",
       "    embed_document(root);\n",
       "  } else {\n",
       "    var attempts = 0;\n",
       "    var timer = setInterval(function(root) {\n",
       "      if (root.Bokeh !== undefined) {\n",
       "        embed_document(root);\n",
       "        clearInterval(timer);\n",
       "      }\n",
       "      attempts++;\n",
       "      if (attempts > 100) {\n",
       "        console.log(\"Bokeh: ERROR: Unable to run BokehJS code because BokehJS library is missing\");\n",
       "        clearInterval(timer);\n",
       "      }\n",
       "    }, 10, root)\n",
       "  }\n",
       "})(window);"
      ],
      "application/vnd.bokehjs_exec.v0+json": ""
     },
     "metadata": {
      "application/vnd.bokehjs_exec.v0+json": {
       "id": "1057"
      }
     },
     "output_type": "display_data"
    }
   ],
   "source": [
    "show(lienzo)"
   ]
  }
 ],
 "metadata": {
  "kernelspec": {
   "display_name": "Python 3",
   "language": "python",
   "name": "python3"
  },
  "language_info": {
   "codemirror_mode": {
    "name": "ipython",
    "version": 3
   },
   "file_extension": ".py",
   "mimetype": "text/x-python",
   "name": "python",
   "nbconvert_exporter": "python",
   "pygments_lexer": "ipython3",
   "version": "3.6.3"
  }
 },
 "nbformat": 4,
 "nbformat_minor": 2
}
