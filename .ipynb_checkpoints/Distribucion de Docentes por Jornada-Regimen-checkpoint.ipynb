{
 "cells": [
  {
   "cell_type": "markdown",
   "metadata": {},
   "source": [
    "# Distribución de docentes por Jornada y Regimen\n",
    "Mediante graficos tipo *pie* se intenta representar una comparativa del numero de docentes de diferentes sexos en los Regimenes Costa y Sierra"
   ]
  },
  {
   "cell_type": "markdown",
   "metadata": {},
   "source": [
    "## Importacion de librerias\n",
    "Un ejemplo de las librerias que podemos importar para trabajar con **Bokeh** y **Pandas**."
   ]
  },
  {
   "cell_type": "code",
   "execution_count": 1,
   "metadata": {},
   "outputs": [],
   "source": [
    "#!/usr/bin/python\n",
    "# -*- coding: utf-8 -*-\n",
    "# Victoria\n",
    "\n",
    "import pandas as pd\n",
    "import numpy as np\n",
    "\n",
    "from bokeh.layouts import layout\n",
    "from bokeh.plotting import figure, show, output_notebook\n",
    "from bokeh.models import ColumnDataSource, ColorBar, FactorRange\n",
    "from bokeh.models.tools import HoverTool\n",
    "from bokeh.transform import linear_cmap, factor_cmap, cumsum\n",
    "from bokeh.palettes import plasma, Spectral9, cividis\n",
    "\n",
    "from lib.colores import *"
   ]
  },
  {
   "cell_type": "markdown",
   "metadata": {},
   "source": [
    "## Asignar la salida de los graficos al propio notebook"
   ]
  },
  {
   "cell_type": "code",
   "execution_count": 2,
   "metadata": {},
   "outputs": [
    {
     "data": {
      "text/html": [
       "\n",
       "    <div class=\"bk-root\">\n",
       "        <a href=\"https://bokeh.pydata.org\" target=\"_blank\" class=\"bk-logo bk-logo-small bk-logo-notebook\"></a>\n",
       "        <span id=\"1001\">Loading BokehJS ...</span>\n",
       "    </div>"
      ]
     },
     "metadata": {},
     "output_type": "display_data"
    },
    {
     "data": {
      "application/javascript": [
       "\n",
       "(function(root) {\n",
       "  function now() {\n",
       "    return new Date();\n",
       "  }\n",
       "\n",
       "  var force = true;\n",
       "\n",
       "  if (typeof (root._bokeh_onload_callbacks) === \"undefined\" || force === true) {\n",
       "    root._bokeh_onload_callbacks = [];\n",
       "    root._bokeh_is_loading = undefined;\n",
       "  }\n",
       "\n",
       "  var JS_MIME_TYPE = 'application/javascript';\n",
       "  var HTML_MIME_TYPE = 'text/html';\n",
       "  var EXEC_MIME_TYPE = 'application/vnd.bokehjs_exec.v0+json';\n",
       "  var CLASS_NAME = 'output_bokeh rendered_html';\n",
       "\n",
       "  /**\n",
       "   * Render data to the DOM node\n",
       "   */\n",
       "  function render(props, node) {\n",
       "    var script = document.createElement(\"script\");\n",
       "    node.appendChild(script);\n",
       "  }\n",
       "\n",
       "  /**\n",
       "   * Handle when an output is cleared or removed\n",
       "   */\n",
       "  function handleClearOutput(event, handle) {\n",
       "    var cell = handle.cell;\n",
       "\n",
       "    var id = cell.output_area._bokeh_element_id;\n",
       "    var server_id = cell.output_area._bokeh_server_id;\n",
       "    // Clean up Bokeh references\n",
       "    if (id != null && id in Bokeh.index) {\n",
       "      Bokeh.index[id].model.document.clear();\n",
       "      delete Bokeh.index[id];\n",
       "    }\n",
       "\n",
       "    if (server_id !== undefined) {\n",
       "      // Clean up Bokeh references\n",
       "      var cmd = \"from bokeh.io.state import curstate; print(curstate().uuid_to_server['\" + server_id + \"'].get_sessions()[0].document.roots[0]._id)\";\n",
       "      cell.notebook.kernel.execute(cmd, {\n",
       "        iopub: {\n",
       "          output: function(msg) {\n",
       "            var id = msg.content.text.trim();\n",
       "            if (id in Bokeh.index) {\n",
       "              Bokeh.index[id].model.document.clear();\n",
       "              delete Bokeh.index[id];\n",
       "            }\n",
       "          }\n",
       "        }\n",
       "      });\n",
       "      // Destroy server and session\n",
       "      var cmd = \"import bokeh.io.notebook as ion; ion.destroy_server('\" + server_id + \"')\";\n",
       "      cell.notebook.kernel.execute(cmd);\n",
       "    }\n",
       "  }\n",
       "\n",
       "  /**\n",
       "   * Handle when a new output is added\n",
       "   */\n",
       "  function handleAddOutput(event, handle) {\n",
       "    var output_area = handle.output_area;\n",
       "    var output = handle.output;\n",
       "\n",
       "    // limit handleAddOutput to display_data with EXEC_MIME_TYPE content only\n",
       "    if ((output.output_type != \"display_data\") || (!output.data.hasOwnProperty(EXEC_MIME_TYPE))) {\n",
       "      return\n",
       "    }\n",
       "\n",
       "    var toinsert = output_area.element.find(\".\" + CLASS_NAME.split(' ')[0]);\n",
       "\n",
       "    if (output.metadata[EXEC_MIME_TYPE][\"id\"] !== undefined) {\n",
       "      toinsert[toinsert.length - 1].firstChild.textContent = output.data[JS_MIME_TYPE];\n",
       "      // store reference to embed id on output_area\n",
       "      output_area._bokeh_element_id = output.metadata[EXEC_MIME_TYPE][\"id\"];\n",
       "    }\n",
       "    if (output.metadata[EXEC_MIME_TYPE][\"server_id\"] !== undefined) {\n",
       "      var bk_div = document.createElement(\"div\");\n",
       "      bk_div.innerHTML = output.data[HTML_MIME_TYPE];\n",
       "      var script_attrs = bk_div.children[0].attributes;\n",
       "      for (var i = 0; i < script_attrs.length; i++) {\n",
       "        toinsert[toinsert.length - 1].firstChild.setAttribute(script_attrs[i].name, script_attrs[i].value);\n",
       "      }\n",
       "      // store reference to server id on output_area\n",
       "      output_area._bokeh_server_id = output.metadata[EXEC_MIME_TYPE][\"server_id\"];\n",
       "    }\n",
       "  }\n",
       "\n",
       "  function register_renderer(events, OutputArea) {\n",
       "\n",
       "    function append_mime(data, metadata, element) {\n",
       "      // create a DOM node to render to\n",
       "      var toinsert = this.create_output_subarea(\n",
       "        metadata,\n",
       "        CLASS_NAME,\n",
       "        EXEC_MIME_TYPE\n",
       "      );\n",
       "      this.keyboard_manager.register_events(toinsert);\n",
       "      // Render to node\n",
       "      var props = {data: data, metadata: metadata[EXEC_MIME_TYPE]};\n",
       "      render(props, toinsert[toinsert.length - 1]);\n",
       "      element.append(toinsert);\n",
       "      return toinsert\n",
       "    }\n",
       "\n",
       "    /* Handle when an output is cleared or removed */\n",
       "    events.on('clear_output.CodeCell', handleClearOutput);\n",
       "    events.on('delete.Cell', handleClearOutput);\n",
       "\n",
       "    /* Handle when a new output is added */\n",
       "    events.on('output_added.OutputArea', handleAddOutput);\n",
       "\n",
       "    /**\n",
       "     * Register the mime type and append_mime function with output_area\n",
       "     */\n",
       "    OutputArea.prototype.register_mime_type(EXEC_MIME_TYPE, append_mime, {\n",
       "      /* Is output safe? */\n",
       "      safe: true,\n",
       "      /* Index of renderer in `output_area.display_order` */\n",
       "      index: 0\n",
       "    });\n",
       "  }\n",
       "\n",
       "  // register the mime type if in Jupyter Notebook environment and previously unregistered\n",
       "  if (root.Jupyter !== undefined) {\n",
       "    var events = require('base/js/events');\n",
       "    var OutputArea = require('notebook/js/outputarea').OutputArea;\n",
       "\n",
       "    if (OutputArea.prototype.mime_types().indexOf(EXEC_MIME_TYPE) == -1) {\n",
       "      register_renderer(events, OutputArea);\n",
       "    }\n",
       "  }\n",
       "\n",
       "  \n",
       "  if (typeof (root._bokeh_timeout) === \"undefined\" || force === true) {\n",
       "    root._bokeh_timeout = Date.now() + 5000;\n",
       "    root._bokeh_failed_load = false;\n",
       "  }\n",
       "\n",
       "  var NB_LOAD_WARNING = {'data': {'text/html':\n",
       "     \"<div style='background-color: #fdd'>\\n\"+\n",
       "     \"<p>\\n\"+\n",
       "     \"BokehJS does not appear to have successfully loaded. If loading BokehJS from CDN, this \\n\"+\n",
       "     \"may be due to a slow or bad network connection. Possible fixes:\\n\"+\n",
       "     \"</p>\\n\"+\n",
       "     \"<ul>\\n\"+\n",
       "     \"<li>re-rerun `output_notebook()` to attempt to load from CDN again, or</li>\\n\"+\n",
       "     \"<li>use INLINE resources instead, as so:</li>\\n\"+\n",
       "     \"</ul>\\n\"+\n",
       "     \"<code>\\n\"+\n",
       "     \"from bokeh.resources import INLINE\\n\"+\n",
       "     \"output_notebook(resources=INLINE)\\n\"+\n",
       "     \"</code>\\n\"+\n",
       "     \"</div>\"}};\n",
       "\n",
       "  function display_loaded() {\n",
       "    var el = document.getElementById(\"1001\");\n",
       "    if (el != null) {\n",
       "      el.textContent = \"BokehJS is loading...\";\n",
       "    }\n",
       "    if (root.Bokeh !== undefined) {\n",
       "      if (el != null) {\n",
       "        el.textContent = \"BokehJS \" + root.Bokeh.version + \" successfully loaded.\";\n",
       "      }\n",
       "    } else if (Date.now() < root._bokeh_timeout) {\n",
       "      setTimeout(display_loaded, 100)\n",
       "    }\n",
       "  }\n",
       "\n",
       "\n",
       "  function run_callbacks() {\n",
       "    try {\n",
       "      root._bokeh_onload_callbacks.forEach(function(callback) { callback() });\n",
       "    }\n",
       "    finally {\n",
       "      delete root._bokeh_onload_callbacks\n",
       "    }\n",
       "    console.info(\"Bokeh: all callbacks have finished\");\n",
       "  }\n",
       "\n",
       "  function load_libs(js_urls, callback) {\n",
       "    root._bokeh_onload_callbacks.push(callback);\n",
       "    if (root._bokeh_is_loading > 0) {\n",
       "      console.log(\"Bokeh: BokehJS is being loaded, scheduling callback at\", now());\n",
       "      return null;\n",
       "    }\n",
       "    if (js_urls == null || js_urls.length === 0) {\n",
       "      run_callbacks();\n",
       "      return null;\n",
       "    }\n",
       "    console.log(\"Bokeh: BokehJS not loaded, scheduling load and callback at\", now());\n",
       "    root._bokeh_is_loading = js_urls.length;\n",
       "    for (var i = 0; i < js_urls.length; i++) {\n",
       "      var url = js_urls[i];\n",
       "      var s = document.createElement('script');\n",
       "      s.src = url;\n",
       "      s.async = false;\n",
       "      s.onreadystatechange = s.onload = function() {\n",
       "        root._bokeh_is_loading--;\n",
       "        if (root._bokeh_is_loading === 0) {\n",
       "          console.log(\"Bokeh: all BokehJS libraries loaded\");\n",
       "          run_callbacks()\n",
       "        }\n",
       "      };\n",
       "      s.onerror = function() {\n",
       "        console.warn(\"failed to load library \" + url);\n",
       "      };\n",
       "      console.log(\"Bokeh: injecting script tag for BokehJS library: \", url);\n",
       "      document.getElementsByTagName(\"head\")[0].appendChild(s);\n",
       "    }\n",
       "  };var element = document.getElementById(\"1001\");\n",
       "  if (element == null) {\n",
       "    console.log(\"Bokeh: ERROR: autoload.js configured with elementid '1001' but no matching script tag was found. \")\n",
       "    return false;\n",
       "  }\n",
       "\n",
       "  var js_urls = [\"https://cdn.pydata.org/bokeh/release/bokeh-1.0.4.min.js\", \"https://cdn.pydata.org/bokeh/release/bokeh-widgets-1.0.4.min.js\", \"https://cdn.pydata.org/bokeh/release/bokeh-tables-1.0.4.min.js\", \"https://cdn.pydata.org/bokeh/release/bokeh-gl-1.0.4.min.js\"];\n",
       "\n",
       "  var inline_js = [\n",
       "    function(Bokeh) {\n",
       "      Bokeh.set_log_level(\"info\");\n",
       "    },\n",
       "    \n",
       "    function(Bokeh) {\n",
       "      \n",
       "    },\n",
       "    function(Bokeh) {\n",
       "      console.log(\"Bokeh: injecting CSS: https://cdn.pydata.org/bokeh/release/bokeh-1.0.4.min.css\");\n",
       "      Bokeh.embed.inject_css(\"https://cdn.pydata.org/bokeh/release/bokeh-1.0.4.min.css\");\n",
       "      console.log(\"Bokeh: injecting CSS: https://cdn.pydata.org/bokeh/release/bokeh-widgets-1.0.4.min.css\");\n",
       "      Bokeh.embed.inject_css(\"https://cdn.pydata.org/bokeh/release/bokeh-widgets-1.0.4.min.css\");\n",
       "      console.log(\"Bokeh: injecting CSS: https://cdn.pydata.org/bokeh/release/bokeh-tables-1.0.4.min.css\");\n",
       "      Bokeh.embed.inject_css(\"https://cdn.pydata.org/bokeh/release/bokeh-tables-1.0.4.min.css\");\n",
       "    }\n",
       "  ];\n",
       "\n",
       "  function run_inline_js() {\n",
       "    \n",
       "    if ((root.Bokeh !== undefined) || (force === true)) {\n",
       "      for (var i = 0; i < inline_js.length; i++) {\n",
       "        inline_js[i].call(root, root.Bokeh);\n",
       "      }if (force === true) {\n",
       "        display_loaded();\n",
       "      }} else if (Date.now() < root._bokeh_timeout) {\n",
       "      setTimeout(run_inline_js, 100);\n",
       "    } else if (!root._bokeh_failed_load) {\n",
       "      console.log(\"Bokeh: BokehJS failed to load within specified timeout.\");\n",
       "      root._bokeh_failed_load = true;\n",
       "    } else if (force !== true) {\n",
       "      var cell = $(document.getElementById(\"1001\")).parents('.cell').data().cell;\n",
       "      cell.output_area.append_execute_result(NB_LOAD_WARNING)\n",
       "    }\n",
       "\n",
       "  }\n",
       "\n",
       "  if (root._bokeh_is_loading === 0) {\n",
       "    console.log(\"Bokeh: BokehJS loaded, going straight to plotting\");\n",
       "    run_inline_js();\n",
       "  } else {\n",
       "    load_libs(js_urls, function() {\n",
       "      console.log(\"Bokeh: BokehJS plotting callback run at\", now());\n",
       "      run_inline_js();\n",
       "    });\n",
       "  }\n",
       "}(window));"
      ],
      "application/vnd.bokehjs_load.v0+json": "\n(function(root) {\n  function now() {\n    return new Date();\n  }\n\n  var force = true;\n\n  if (typeof (root._bokeh_onload_callbacks) === \"undefined\" || force === true) {\n    root._bokeh_onload_callbacks = [];\n    root._bokeh_is_loading = undefined;\n  }\n\n  \n\n  \n  if (typeof (root._bokeh_timeout) === \"undefined\" || force === true) {\n    root._bokeh_timeout = Date.now() + 5000;\n    root._bokeh_failed_load = false;\n  }\n\n  var NB_LOAD_WARNING = {'data': {'text/html':\n     \"<div style='background-color: #fdd'>\\n\"+\n     \"<p>\\n\"+\n     \"BokehJS does not appear to have successfully loaded. If loading BokehJS from CDN, this \\n\"+\n     \"may be due to a slow or bad network connection. Possible fixes:\\n\"+\n     \"</p>\\n\"+\n     \"<ul>\\n\"+\n     \"<li>re-rerun `output_notebook()` to attempt to load from CDN again, or</li>\\n\"+\n     \"<li>use INLINE resources instead, as so:</li>\\n\"+\n     \"</ul>\\n\"+\n     \"<code>\\n\"+\n     \"from bokeh.resources import INLINE\\n\"+\n     \"output_notebook(resources=INLINE)\\n\"+\n     \"</code>\\n\"+\n     \"</div>\"}};\n\n  function display_loaded() {\n    var el = document.getElementById(\"1001\");\n    if (el != null) {\n      el.textContent = \"BokehJS is loading...\";\n    }\n    if (root.Bokeh !== undefined) {\n      if (el != null) {\n        el.textContent = \"BokehJS \" + root.Bokeh.version + \" successfully loaded.\";\n      }\n    } else if (Date.now() < root._bokeh_timeout) {\n      setTimeout(display_loaded, 100)\n    }\n  }\n\n\n  function run_callbacks() {\n    try {\n      root._bokeh_onload_callbacks.forEach(function(callback) { callback() });\n    }\n    finally {\n      delete root._bokeh_onload_callbacks\n    }\n    console.info(\"Bokeh: all callbacks have finished\");\n  }\n\n  function load_libs(js_urls, callback) {\n    root._bokeh_onload_callbacks.push(callback);\n    if (root._bokeh_is_loading > 0) {\n      console.log(\"Bokeh: BokehJS is being loaded, scheduling callback at\", now());\n      return null;\n    }\n    if (js_urls == null || js_urls.length === 0) {\n      run_callbacks();\n      return null;\n    }\n    console.log(\"Bokeh: BokehJS not loaded, scheduling load and callback at\", now());\n    root._bokeh_is_loading = js_urls.length;\n    for (var i = 0; i < js_urls.length; i++) {\n      var url = js_urls[i];\n      var s = document.createElement('script');\n      s.src = url;\n      s.async = false;\n      s.onreadystatechange = s.onload = function() {\n        root._bokeh_is_loading--;\n        if (root._bokeh_is_loading === 0) {\n          console.log(\"Bokeh: all BokehJS libraries loaded\");\n          run_callbacks()\n        }\n      };\n      s.onerror = function() {\n        console.warn(\"failed to load library \" + url);\n      };\n      console.log(\"Bokeh: injecting script tag for BokehJS library: \", url);\n      document.getElementsByTagName(\"head\")[0].appendChild(s);\n    }\n  };var element = document.getElementById(\"1001\");\n  if (element == null) {\n    console.log(\"Bokeh: ERROR: autoload.js configured with elementid '1001' but no matching script tag was found. \")\n    return false;\n  }\n\n  var js_urls = [\"https://cdn.pydata.org/bokeh/release/bokeh-1.0.4.min.js\", \"https://cdn.pydata.org/bokeh/release/bokeh-widgets-1.0.4.min.js\", \"https://cdn.pydata.org/bokeh/release/bokeh-tables-1.0.4.min.js\", \"https://cdn.pydata.org/bokeh/release/bokeh-gl-1.0.4.min.js\"];\n\n  var inline_js = [\n    function(Bokeh) {\n      Bokeh.set_log_level(\"info\");\n    },\n    \n    function(Bokeh) {\n      \n    },\n    function(Bokeh) {\n      console.log(\"Bokeh: injecting CSS: https://cdn.pydata.org/bokeh/release/bokeh-1.0.4.min.css\");\n      Bokeh.embed.inject_css(\"https://cdn.pydata.org/bokeh/release/bokeh-1.0.4.min.css\");\n      console.log(\"Bokeh: injecting CSS: https://cdn.pydata.org/bokeh/release/bokeh-widgets-1.0.4.min.css\");\n      Bokeh.embed.inject_css(\"https://cdn.pydata.org/bokeh/release/bokeh-widgets-1.0.4.min.css\");\n      console.log(\"Bokeh: injecting CSS: https://cdn.pydata.org/bokeh/release/bokeh-tables-1.0.4.min.css\");\n      Bokeh.embed.inject_css(\"https://cdn.pydata.org/bokeh/release/bokeh-tables-1.0.4.min.css\");\n    }\n  ];\n\n  function run_inline_js() {\n    \n    if ((root.Bokeh !== undefined) || (force === true)) {\n      for (var i = 0; i < inline_js.length; i++) {\n        inline_js[i].call(root, root.Bokeh);\n      }if (force === true) {\n        display_loaded();\n      }} else if (Date.now() < root._bokeh_timeout) {\n      setTimeout(run_inline_js, 100);\n    } else if (!root._bokeh_failed_load) {\n      console.log(\"Bokeh: BokehJS failed to load within specified timeout.\");\n      root._bokeh_failed_load = true;\n    } else if (force !== true) {\n      var cell = $(document.getElementById(\"1001\")).parents('.cell').data().cell;\n      cell.output_area.append_execute_result(NB_LOAD_WARNING)\n    }\n\n  }\n\n  if (root._bokeh_is_loading === 0) {\n    console.log(\"Bokeh: BokehJS loaded, going straight to plotting\");\n    run_inline_js();\n  } else {\n    load_libs(js_urls, function() {\n      console.log(\"Bokeh: BokehJS plotting callback run at\", now());\n      run_inline_js();\n    });\n  }\n}(window));"
     },
     "metadata": {},
     "output_type": "display_data"
    }
   ],
   "source": [
    "output_notebook()"
   ]
  },
  {
   "cell_type": "markdown",
   "metadata": {},
   "source": [
    "## Lectura del Arvhivo CSV"
   ]
  },
  {
   "cell_type": "code",
   "execution_count": 3,
   "metadata": {},
   "outputs": [],
   "source": [
    "df = pd.read_csv('data/fuente2.csv', sep=';', encoding='windows-1252')"
   ]
  },
  {
   "cell_type": "markdown",
   "metadata": {},
   "source": [
    "## Agrupación mediante el metodo groupby\n",
    "Se realiza una agrupacion por la columna `RegimenEscolar`, a partir de este grupo se extraen dos subgrupos `grupoCosta` y `grupoSierra`.\n",
    "\n",
    "A cada uno se lo reagrupa por `JornadaLaboral` y se obtien una suma total de cada columna."
   ]
  },
  {
   "cell_type": "code",
   "execution_count": 4,
   "metadata": {},
   "outputs": [
    {
     "data": {
      "text/html": [
       "<div>\n",
       "<style scoped>\n",
       "    .dataframe tbody tr th:only-of-type {\n",
       "        vertical-align: middle;\n",
       "    }\n",
       "\n",
       "    .dataframe tbody tr th {\n",
       "        vertical-align: top;\n",
       "    }\n",
       "\n",
       "    .dataframe thead th {\n",
       "        text-align: right;\n",
       "    }\n",
       "</style>\n",
       "<table border=\"1\" class=\"dataframe\">\n",
       "  <thead>\n",
       "    <tr style=\"text-align: right;\">\n",
       "      <th></th>\n",
       "      <th>DocentesFemenino</th>\n",
       "      <th>DocentesMasculino</th>\n",
       "      <th>TotalDocentes</th>\n",
       "      <th>TotalAdministrativos</th>\n",
       "      <th>EstudiantesFemenino</th>\n",
       "      <th>EstudiantesMasculino</th>\n",
       "      <th>Total_Alumnos</th>\n",
       "    </tr>\n",
       "    <tr>\n",
       "      <th>JornadaLaboral</th>\n",
       "      <th></th>\n",
       "      <th></th>\n",
       "      <th></th>\n",
       "      <th></th>\n",
       "      <th></th>\n",
       "      <th></th>\n",
       "      <th></th>\n",
       "    </tr>\n",
       "  </thead>\n",
       "  <tbody>\n",
       "    <tr>\n",
       "      <th>Matutina</th>\n",
       "      <td>762</td>\n",
       "      <td>611</td>\n",
       "      <td>1373</td>\n",
       "      <td>261</td>\n",
       "      <td>10099.0</td>\n",
       "      <td>10341</td>\n",
       "      <td>19486</td>\n",
       "    </tr>\n",
       "    <tr>\n",
       "      <th>Matutina,Nocturno</th>\n",
       "      <td>209</td>\n",
       "      <td>158</td>\n",
       "      <td>367</td>\n",
       "      <td>60</td>\n",
       "      <td>2409.0</td>\n",
       "      <td>2871</td>\n",
       "      <td>5280</td>\n",
       "    </tr>\n",
       "    <tr>\n",
       "      <th>Matutina,Vespertina</th>\n",
       "      <td>16</td>\n",
       "      <td>6</td>\n",
       "      <td>22</td>\n",
       "      <td>9</td>\n",
       "      <td>117.0</td>\n",
       "      <td>139</td>\n",
       "      <td>256</td>\n",
       "    </tr>\n",
       "    <tr>\n",
       "      <th>Matutino,Nocturno</th>\n",
       "      <td>32</td>\n",
       "      <td>17</td>\n",
       "      <td>49</td>\n",
       "      <td>8</td>\n",
       "      <td>377.0</td>\n",
       "      <td>413</td>\n",
       "      <td>790</td>\n",
       "    </tr>\n",
       "  </tbody>\n",
       "</table>\n",
       "</div>"
      ],
      "text/plain": [
       "                     DocentesFemenino  DocentesMasculino  TotalDocentes  \\\n",
       "JornadaLaboral                                                            \n",
       "Matutina                          762                611           1373   \n",
       "Matutina,Nocturno                 209                158            367   \n",
       "Matutina,Vespertina                16                  6             22   \n",
       "Matutino,Nocturno                  32                 17             49   \n",
       "\n",
       "                     TotalAdministrativos  EstudiantesFemenino  \\\n",
       "JornadaLaboral                                                   \n",
       "Matutina                              261              10099.0   \n",
       "Matutina,Nocturno                      60               2409.0   \n",
       "Matutina,Vespertina                     9                117.0   \n",
       "Matutino,Nocturno                       8                377.0   \n",
       "\n",
       "                     EstudiantesMasculino  Total_Alumnos  \n",
       "JornadaLaboral                                            \n",
       "Matutina                            10341          19486  \n",
       "Matutina,Nocturno                    2871           5280  \n",
       "Matutina,Vespertina                   139            256  \n",
       "Matutino,Nocturno                     413            790  "
      ]
     },
     "execution_count": 4,
     "metadata": {},
     "output_type": "execute_result"
    }
   ],
   "source": [
    "grupo = df.groupby(['RegimenEscolar'])\n",
    "# grupo = df.groupby(['RegimenEscolar']).sum()\n",
    "grupoCosta = grupo.get_group('Costa')\n",
    "grupoCosta = grupoCosta.groupby(['JornadaLaboral']).sum()\n",
    "\n",
    "grupoSierra = grupo.get_group('Sierra')\n",
    "grupoSierra = grupoSierra.groupby(['JornadaLaboral']).sum()\n",
    "\n",
    "# Resultados del groupby\n",
    "grupoCosta"
   ]
  },
  {
   "cell_type": "markdown",
   "metadata": {},
   "source": [
    "## Obtenos listas con los factores de RegimenEscolar\n",
    "Convertimos las columnas de `JornadaLaboral` que contienen los indices a listas de factores unicos."
   ]
  },
  {
   "cell_type": "code",
   "execution_count": 5,
   "metadata": {},
   "outputs": [
    {
     "data": {
      "text/plain": [
       "['Matutina',\n",
       " 'Matutina,Nocturno',\n",
       " 'Matutina,Vespertina',\n",
       " 'Matutina,Vespertina,Nocturno',\n",
       " 'Matutino,Nocturno',\n",
       " 'Nocturno',\n",
       " 'Vespertina',\n",
       " 'Vespertina,Nocturno']"
      ]
     },
     "execution_count": 5,
     "metadata": {},
     "output_type": "execute_result"
    }
   ],
   "source": [
    "jornadaLabC = grupoCosta.index.tolist()\n",
    "jornadaLabS = grupoSierra.index.tolist()\n",
    "jornadaLabS"
   ]
  },
  {
   "cell_type": "markdown",
   "metadata": {},
   "source": [
    "## Calculo de las porciones del Pie\n",
    "\n",
    "Se crean las columnas `angleM`, `porcentajeM`, `angleH`, `porcentajeH` y `color` para cada grupo.\n",
    "\n",
    "- En las columnas `angleM` y `angleH` se calculan las porcines del *Pie* mediante una formula que **Bokeh** sugiere en su documentacion.\n",
    "\n",
    "- En las columnas `porcentajeM` y `porcentajeM` se calculan los porcentajes equivalentes a cada suma.\n",
    "\n",
    "- En la columna `color` se asigna un numero de colores que depende del largo de los factores obtenido anteriormente."
   ]
  },
  {
   "cell_type": "code",
   "execution_count": 6,
   "metadata": {},
   "outputs": [],
   "source": [
    "grupoCosta['angleM'] = grupoCosta['DocentesFemenino']/grupoCosta['DocentesFemenino'].sum()*2*np.pi\n",
    "grupoCosta['porcentajeM'] = (grupoCosta['DocentesFemenino']*100)/grupoCosta['DocentesFemenino'].sum()\n",
    "grupoCosta['angleH'] = grupoCosta['DocentesMasculino']/grupoCosta['DocentesMasculino'].sum()*2*np.pi\n",
    "grupoCosta['porcentajeH'] = (grupoCosta['DocentesMasculino']*100)/grupoCosta['DocentesMasculino'].sum()\n",
    "grupoCosta['color'] = legend16(len(jornadaLabC))\n",
    "\n",
    "grupoSierra['angleM'] = grupoSierra['DocentesFemenino']/grupoSierra['DocentesFemenino'].sum()*2*np.pi\n",
    "grupoSierra['porcentajeM'] = (grupoSierra['DocentesFemenino']*100)/grupoSierra['DocentesFemenino'].sum()\n",
    "grupoSierra['angleH'] = grupoSierra['DocentesMasculino']/grupoSierra['DocentesMasculino'].sum()*2*np.pi\n",
    "grupoSierra['porcentajeH'] = (grupoSierra['DocentesMasculino']*100)/grupoSierra['DocentesMasculino'].sum()\n",
    "grupoSierra['color'] = androidPalette30(len(jornadaLabS))"
   ]
  },
  {
   "cell_type": "markdown",
   "metadata": {},
   "source": [
    "## Se convierten los DataFrames a datos de Bokeh\n",
    "Mediante el objeto `ColumnDataSource` se convierte los datos de un `DataFrame` a datos de columnas, que es el formato en que trabaja **Bokeh**"
   ]
  },
  {
   "cell_type": "code",
   "execution_count": 7,
   "metadata": {},
   "outputs": [
    {
     "data": {
      "text/plain": [
       "['JornadaLaboral',\n",
       " 'DocentesFemenino',\n",
       " 'DocentesMasculino',\n",
       " 'TotalDocentes',\n",
       " 'TotalAdministrativos',\n",
       " 'EstudiantesFemenino',\n",
       " 'EstudiantesMasculino',\n",
       " 'Total_Alumnos',\n",
       " 'angleM',\n",
       " 'porcentajeM',\n",
       " 'angleH',\n",
       " 'porcentajeH',\n",
       " 'color']"
      ]
     },
     "execution_count": 7,
     "metadata": {},
     "output_type": "execute_result"
    }
   ],
   "source": [
    "sourceCosta = ColumnDataSource(grupoCosta)\n",
    "# sourceCosta.column_names\n",
    "sourceSierra = ColumnDataSource(grupoSierra)\n",
    "\n",
    "# Se muestran los nombres de los datos\n",
    "sourceCosta.column_names"
   ]
  },
  {
   "cell_type": "markdown",
   "metadata": {},
   "source": [
    "## Definimos una función que genere Pie's\n",
    "Esta funcion recibe 7 parametros.\n",
    "- **titulo** -> `str` Define el titulo del *Pie*.\n",
    "- **datos** -> `ColumnDataSource` Conjunto de datos a graficar.\n",
    "- **ancho** -> `int` Ancho de la grafica.\n",
    "- **alto** -> `int` Alto de la grafica.\n",
    "- **herramientas** -> `str` Una cadena de texto con las herramientas requeridas para la grafica.\n",
    "- **color_linea** -> `str` Color de la linea externa de las porciones, un color en texto *white* o un color hexadecimal *#FFFFFF*.\n",
    "- **genero** -> `str` *M* o *H* que define de que columnas seran obtenidos los datos."
   ]
  },
  {
   "cell_type": "code",
   "execution_count": 8,
   "metadata": {},
   "outputs": [],
   "source": [
    "def graficoPie(titulo='', datos=None, ancho=400, alto=400, herramientas='', color_linea='white', genero=''):\n",
    "    # Creamos un objeto figure con una configuracion inicial\n",
    "    p = figure(title=titulo, width=ancho, height=alto, tools=herramientas)\n",
    "    \n",
    "    # Se comprueba de que columna de angulos se obtienen los mismos\n",
    "    if genero == 'M':\n",
    "        angulo = 'angleM'\n",
    "    elif genero == 'H':\n",
    "        angulo = 'angleH'\n",
    "    else:\n",
    "        angulo=''\n",
    "    \n",
    "    # Se crean las porciones del Pie\n",
    "    p.wedge(x=0, y=0, radius=0.9, start_angle=cumsum(angulo, include_zero=True), end_angle=cumsum(angulo), legend='JornadaLaboral', line_color=color_linea, fill_color='color', alpha=0.7, source=datos)\n",
    "    \n",
    "    # Se configuran las etiquetas de los ejes y la rejilla para que no se vean\n",
    "    p.axis.axis_label = None\n",
    "    p.axis.visible = False\n",
    "    p.grid.grid_line_color = None\n",
    "    \n",
    "    # Se configura el toolbar para que se oculte cuando el mouse no esta encima de la grafica\n",
    "    p.toolbar.autohide = True\n",
    "    \n",
    "    # Depende del genero se muestra una etiqueta distinta\n",
    "    if genero == 'M':\n",
    "        # Se configura la etiqueta para los datos de Mujeres\n",
    "        etiqueta = HoverTool(\n",
    "            tooltips = [('Jornada', \"@JornadaLaboral\"),\n",
    "                        ('Mujeres', \"@DocentesFemenino\"),\n",
    "                        ('Porcentaje', \"@porcentajeM{0.2f}%\"), # Se configura el formato 0.00 % para los porcentajes\n",
    "                        ('Total H/M', \"@TotalDocentes\")],\n",
    "            mode = 'mouse')\n",
    "        p.add_tools(etiqueta)\n",
    "    elif genero == 'H':\n",
    "        # Se configura la etiqueta para los datos de Hombres\n",
    "        etiqueta = HoverTool(\n",
    "            tooltips = [('Jornada', \"@JornadaLaboral\"),\n",
    "                        ('Hombres', \"@DocentesMasculino\"),\n",
    "                        ('Porcentaje', \"@porcentajeH{0.2f}%\"), # Se configura el formato 0.00 % para los porcentajes\n",
    "                        ('Total H/M', \"@TotalDocentes\")],\n",
    "            mode = 'mouse')\n",
    "        p.add_tools(etiqueta)\n",
    "    else:\n",
    "        print('Sin herramienta')\n",
    "\n",
    "    # Se retorna el objeto figure\n",
    "    return p"
   ]
  },
  {
   "cell_type": "markdown",
   "metadata": {},
   "source": [
    "## Se crean 4 graficas usando la función creada anteriormente"
   ]
  },
  {
   "cell_type": "code",
   "execution_count": 9,
   "metadata": {},
   "outputs": [],
   "source": [
    "pie1 = graficoPie('Nro de Mujeres por Jornada | Costa', sourceCosta, color_linea=paleta2[3], genero='M')\n",
    "pie2 = graficoPie('Nro de Mujeres por Jornada | Sierra', sourceSierra, color_linea=paleta2[3], genero='M')\n",
    "pie3 = graficoPie('Nro de Hombres por Jornada | Costa', sourceCosta, color_linea=paleta2[3], genero='H')\n",
    "pie4 = graficoPie('Nro de Hombres por Jornada | Sierra', sourceSierra, color_linea=paleta2[3], genero='H')"
   ]
  },
  {
   "cell_type": "markdown",
   "metadata": {},
   "source": [
    "## Configuracion de la vista\n",
    "\n",
    "Se configura las pocisiones en las que las graficas se pocisionaran, la configuracion reprenseta una tabla de 2x2.\n",
    "\n",
    "Se pasa la configuracion `scale_width` para que la vizualizacion de adapte al ancho del contendor y de la pantalla."
   ]
  },
  {
   "cell_type": "code",
   "execution_count": 10,
   "metadata": {},
   "outputs": [],
   "source": [
    "lienzo = layout([\n",
    "    [pie1, pie3],\n",
    "    [pie2, pie4]\n",
    "], sizing_mode='scale_width')"
   ]
  },
  {
   "cell_type": "markdown",
   "metadata": {},
   "source": [
    "## Mostramos los resultados"
   ]
  },
  {
   "cell_type": "code",
   "execution_count": 11,
   "metadata": {
    "scrolled": false
   },
   "outputs": [
    {
     "data": {
      "text/html": [
       "\n",
       "\n",
       "\n",
       "\n",
       "\n",
       "\n",
       "  <div class=\"bk-root\" id=\"6b369e9d-2b73-411d-9d14-c9defcf67ca2\" data-root-id=\"1162\"></div>\n"
      ]
     },
     "metadata": {},
     "output_type": "display_data"
    },
    {
     "data": {
      "application/javascript": [
       "(function(root) {\n",
       "  function embed_document(root) {\n",
       "    \n",
       "  var docs_json = {\"94427d59-68f1-4938-8c03-d26143782864\":{\"roots\":{\"references\":[{\"attributes\":{\"children\":[{\"id\":\"1160\",\"type\":\"Row\"},{\"id\":\"1161\",\"type\":\"Row\"}],\"sizing_mode\":\"scale_width\"},\"id\":\"1162\",\"type\":\"Column\"},{\"attributes\":{},\"id\":\"1013\",\"type\":\"LinearScale\"},{\"attributes\":{\"callback\":null},\"id\":\"1007\",\"type\":\"DataRange1d\"},{\"attributes\":{\"axis_label\":null,\"formatter\":{\"id\":\"1037\",\"type\":\"BasicTickFormatter\"},\"plot\":{\"id\":\"1005\",\"subtype\":\"Figure\",\"type\":\"Plot\"},\"ticker\":{\"id\":\"1016\",\"type\":\"BasicTicker\"},\"visible\":false},\"id\":\"1015\",\"type\":\"LinearAxis\"},{\"attributes\":{},\"id\":\"1021\",\"type\":\"BasicTicker\"},{\"attributes\":{},\"id\":\"1186\",\"type\":\"UnionRenderers\"},{\"attributes\":{\"callback\":null},\"id\":\"1009\",\"type\":\"DataRange1d\"},{\"attributes\":{\"field\":\"angleM\"},\"id\":\"1027\",\"type\":\"CumSum\"},{\"attributes\":{\"axis_label\":null,\"formatter\":{\"id\":\"1035\",\"type\":\"BasicTickFormatter\"},\"plot\":{\"id\":\"1005\",\"subtype\":\"Figure\",\"type\":\"Plot\"},\"ticker\":{\"id\":\"1021\",\"type\":\"BasicTicker\"},\"visible\":false},\"id\":\"1020\",\"type\":\"LinearAxis\"},{\"attributes\":{\"active_drag\":\"auto\",\"active_inspect\":\"auto\",\"active_multi\":null,\"active_scroll\":\"auto\",\"active_tap\":\"auto\",\"autohide\":true,\"tools\":[{\"id\":\"1041\",\"type\":\"HoverTool\"}]},\"id\":\"1025\",\"type\":\"Toolbar\"},{\"attributes\":{},\"id\":\"1016\",\"type\":\"BasicTicker\"},{\"attributes\":{\"grid_line_color\":{\"value\":null},\"plot\":{\"id\":\"1005\",\"subtype\":\"Figure\",\"type\":\"Plot\"},\"ticker\":{\"id\":\"1016\",\"type\":\"BasicTicker\"}},\"id\":\"1019\",\"type\":\"Grid\"},{\"attributes\":{\"label\":{\"field\":\"JornadaLaboral\"},\"renderers\":[{\"id\":\"1031\",\"type\":\"GlyphRenderer\"}]},\"id\":\"1039\",\"type\":\"LegendItem\"},{\"attributes\":{\"children\":[{\"id\":\"1044\",\"subtype\":\"Figure\",\"type\":\"Plot\"},{\"id\":\"1122\",\"subtype\":\"Figure\",\"type\":\"Plot\"}],\"sizing_mode\":\"scale_width\"},\"id\":\"1161\",\"type\":\"Row\"},{\"attributes\":{\"dimension\":1,\"grid_line_color\":{\"value\":null},\"plot\":{\"id\":\"1005\",\"subtype\":\"Figure\",\"type\":\"Plot\"},\"ticker\":{\"id\":\"1021\",\"type\":\"BasicTicker\"}},\"id\":\"1024\",\"type\":\"Grid\"},{\"attributes\":{},\"id\":\"1183\",\"type\":\"Selection\"},{\"attributes\":{\"callback\":null,\"data\":{\"DocentesFemenino\":[948,83,312,230,12,32,6,12],\"DocentesMasculino\":[511,39,153,200,6,36,3,4],\"EstudiantesFemenino\":{\"__ndarray__\":\"rkfhehR7wkAlBoGVQ6FzQAAAAAAANKhASgwCKwfdnUAAAAAAAIBbQAAAAAAAcHtAAAAAAAAAV0AAAAAAAABYQA==\",\"dtype\":\"float64\",\"shape\":[8]},\"EstudiantesMasculino\":[11379,421,4148,5093,128,594,92,154],\"JornadaLaboral\":[\"Matutina\",\"Matutina,Nocturno\",\"Matutina,Vespertina\",\"Matutina,Vespertina,Nocturno\",\"Matutino,Nocturno\",\"Nocturno\",\"Vespertina\",\"Vespertina,Nocturno\"],\"TotalAdministrativos\":[353,29,47,70,0,15,2,3],\"TotalDocentes\":[1459,122,465,430,18,68,9,16],\"Total_Alumnos\":[24997,2902,7948,8260,238,1033,184,250],\"angleH\":{\"__ndarray__\":\"DtbukhH7CkADJDNTO3nQP7SKmZEhKPA/3EFVFbUe9T+1U2ZmcEakP459mZmoac4/tVNmZnBGlD/xxN3dlQibPw==\",\"dtype\":\"float64\",\"shape\":[8]},\"angleM\":{\"__ndarray__\":\"PDUeyA4lDUAd0qR342nUPytNhXMTL/M/xfHUXrBI7D/5XpC1ZpynP6F+wJwze78/+V6QtWaclz/5XpC1ZpynPw==\",\"dtype\":\"float64\",\"shape\":[8]},\"color\":[\"#7f0000\",\"#cc0000\",\"#ff4444\",\"#ff7f7f\",\"#ffb2b2\",\"#995100\",\"#cc6c00\",\"#ff8800\"],\"porcentajeH\":{\"__ndarray__\":\"l5aWlpbWSkA+9WI+9WIQQCVJkiRJEjBAuSYCuSYCNUB0Bit0BivkP66JQK6JQA5AdAYrdAYr1D+bCOSaCOTaPw==\",\"dtype\":\"float64\",\"shape\":[8]},\"porcentajeM\":{\"__ndarray__\":\"2k+WwKb9TEDlRBiXSU4UQFIxtzojFTNAJ8K4THIiLEDId+EgenznPwr1gdaiUP8/yHfhIHp81z/Id+EgenznPw==\",\"dtype\":\"float64\",\"shape\":[8]}},\"selected\":{\"id\":\"1185\",\"type\":\"Selection\"},\"selection_policy\":{\"id\":\"1186\",\"type\":\"UnionRenderers\"}},\"id\":\"1003\",\"type\":\"ColumnDataSource\"},{\"attributes\":{},\"id\":\"1185\",\"type\":\"Selection\"},{\"attributes\":{\"callback\":null,\"data\":{\"DocentesFemenino\":[762,209,16,32],\"DocentesMasculino\":[611,158,6,17],\"EstudiantesFemenino\":{\"__ndarray__\":\"AAAAAIC5w0AAAAAAANKiQAAAAAAAQF1AAAAAAACQd0A=\",\"dtype\":\"float64\",\"shape\":[4]},\"EstudiantesMasculino\":[10341,2871,139,413],\"JornadaLaboral\":[\"Matutina\",\"Matutina,Nocturno\",\"Matutina,Vespertina\",\"Matutino,Nocturno\"],\"TotalAdministrativos\":[261,60,9,8],\"TotalDocentes\":[1373,367,22,49],\"Total_Alumnos\":[19486,5280,256,790],\"angleH\":{\"__ndarray__\":\"NKDT5pZjE0DLtGz9Lw70P9mncDoDX6g/OswP9ExDwT8=\",\"dtype\":\"float64\",\"shape\":[4]},\"angleM\":{\"__ndarray__\":\"D2e8n0fLEkCILDZVhJ70P+U92kSNQbk/5T3aRI1ByT8=\",\"dtype\":\"float64\",\"shape\":[4]},\"color\":[\"#198100\",\"#4dc32c\",\"#bef43d\",\"#387e73\"],\"porcentajeH\":{\"__ndarray__\":\"f6VArV9JU0BIzNsZEvMzQD744IMPPug/168UqPUrAUA=\",\"dtype\":\"float64\",\"shape\":[4]},\"porcentajeM\":{\"__ndarray__\":\"QGbrVd6xUkDxJh9Mo4I0QKtVEUFnH/k/q1URQWcfCUA=\",\"dtype\":\"float64\",\"shape\":[4]}},\"selected\":{\"id\":\"1183\",\"type\":\"Selection\"},\"selection_policy\":{\"id\":\"1184\",\"type\":\"UnionRenderers\"}},\"id\":\"1002\",\"type\":\"ColumnDataSource\"},{\"attributes\":{\"below\":[{\"id\":\"1054\",\"type\":\"LinearAxis\"}],\"left\":[{\"id\":\"1059\",\"type\":\"LinearAxis\"}],\"plot_height\":400,\"plot_width\":400,\"renderers\":[{\"id\":\"1054\",\"type\":\"LinearAxis\"},{\"id\":\"1058\",\"type\":\"Grid\"},{\"id\":\"1059\",\"type\":\"LinearAxis\"},{\"id\":\"1063\",\"type\":\"Grid\"},{\"id\":\"1077\",\"type\":\"Legend\"},{\"id\":\"1070\",\"type\":\"GlyphRenderer\"}],\"sizing_mode\":\"scale_width\",\"title\":{\"id\":\"1043\",\"type\":\"Title\"},\"toolbar\":{\"id\":\"1064\",\"type\":\"Toolbar\"},\"x_range\":{\"id\":\"1046\",\"type\":\"DataRange1d\"},\"x_scale\":{\"id\":\"1050\",\"type\":\"LinearScale\"},\"y_range\":{\"id\":\"1048\",\"type\":\"DataRange1d\"},\"y_scale\":{\"id\":\"1052\",\"type\":\"LinearScale\"}},\"id\":\"1044\",\"subtype\":\"Figure\",\"type\":\"Plot\"},{\"attributes\":{\"children\":[{\"id\":\"1005\",\"subtype\":\"Figure\",\"type\":\"Plot\"},{\"id\":\"1083\",\"subtype\":\"Figure\",\"type\":\"Plot\"}],\"sizing_mode\":\"scale_width\"},\"id\":\"1160\",\"type\":\"Row\"},{\"attributes\":{},\"id\":\"1184\",\"type\":\"UnionRenderers\"},{\"attributes\":{\"below\":[{\"id\":\"1015\",\"type\":\"LinearAxis\"}],\"left\":[{\"id\":\"1020\",\"type\":\"LinearAxis\"}],\"plot_height\":400,\"plot_width\":400,\"renderers\":[{\"id\":\"1015\",\"type\":\"LinearAxis\"},{\"id\":\"1019\",\"type\":\"Grid\"},{\"id\":\"1020\",\"type\":\"LinearAxis\"},{\"id\":\"1024\",\"type\":\"Grid\"},{\"id\":\"1038\",\"type\":\"Legend\"},{\"id\":\"1031\",\"type\":\"GlyphRenderer\"}],\"sizing_mode\":\"scale_width\",\"title\":{\"id\":\"1004\",\"type\":\"Title\"},\"toolbar\":{\"id\":\"1025\",\"type\":\"Toolbar\"},\"x_range\":{\"id\":\"1007\",\"type\":\"DataRange1d\"},\"x_scale\":{\"id\":\"1011\",\"type\":\"LinearScale\"},\"y_range\":{\"id\":\"1009\",\"type\":\"DataRange1d\"},\"y_scale\":{\"id\":\"1013\",\"type\":\"LinearScale\"}},\"id\":\"1005\",\"subtype\":\"Figure\",\"type\":\"Plot\"},{\"attributes\":{\"field\":\"angleM\",\"include_zero\":true},\"id\":\"1026\",\"type\":\"CumSum\"},{\"attributes\":{\"plot\":null,\"text\":\"Nro de Mujeres por Jornada | Costa\"},\"id\":\"1004\",\"type\":\"Title\"},{\"attributes\":{},\"id\":\"1011\",\"type\":\"LinearScale\"},{\"attributes\":{\"end_angle\":{\"expr\":{\"id\":\"1144\",\"type\":\"CumSum\"},\"units\":\"rad\"},\"fill_alpha\":{\"value\":0.1},\"fill_color\":{\"value\":\"#1f77b4\"},\"line_alpha\":{\"value\":0.1},\"line_color\":{\"value\":\"#1f77b4\"},\"radius\":{\"units\":\"data\",\"value\":0.9},\"start_angle\":{\"expr\":{\"id\":\"1143\",\"type\":\"CumSum\"},\"units\":\"rad\"},\"x\":{\"value\":0},\"y\":{\"value\":0}},\"id\":\"1147\",\"type\":\"Wedge\"},{\"attributes\":{},\"id\":\"1089\",\"type\":\"LinearScale\"},{\"attributes\":{\"source\":{\"id\":\"1003\",\"type\":\"ColumnDataSource\"}},\"id\":\"1071\",\"type\":\"CDSView\"},{\"attributes\":{\"data_source\":{\"id\":\"1003\",\"type\":\"ColumnDataSource\"},\"glyph\":{\"id\":\"1146\",\"type\":\"Wedge\"},\"hover_glyph\":null,\"muted_glyph\":null,\"nonselection_glyph\":{\"id\":\"1147\",\"type\":\"Wedge\"},\"selection_glyph\":null,\"view\":{\"id\":\"1149\",\"type\":\"CDSView\"}},\"id\":\"1148\",\"type\":\"GlyphRenderer\"},{\"attributes\":{\"data_source\":{\"id\":\"1002\",\"type\":\"ColumnDataSource\"},\"glyph\":{\"id\":\"1029\",\"type\":\"Wedge\"},\"hover_glyph\":null,\"muted_glyph\":null,\"nonselection_glyph\":{\"id\":\"1030\",\"type\":\"Wedge\"},\"selection_glyph\":null,\"view\":{\"id\":\"1032\",\"type\":\"CDSView\"}},\"id\":\"1031\",\"type\":\"GlyphRenderer\"},{\"attributes\":{},\"id\":\"1091\",\"type\":\"LinearScale\"},{\"attributes\":{\"source\":{\"id\":\"1003\",\"type\":\"ColumnDataSource\"}},\"id\":\"1149\",\"type\":\"CDSView\"},{\"attributes\":{\"axis_label\":null,\"formatter\":{\"id\":\"1115\",\"type\":\"BasicTickFormatter\"},\"plot\":{\"id\":\"1083\",\"subtype\":\"Figure\",\"type\":\"Plot\"},\"ticker\":{\"id\":\"1094\",\"type\":\"BasicTicker\"},\"visible\":false},\"id\":\"1093\",\"type\":\"LinearAxis\"},{\"attributes\":{\"source\":{\"id\":\"1002\",\"type\":\"ColumnDataSource\"}},\"id\":\"1032\",\"type\":\"CDSView\"},{\"attributes\":{},\"id\":\"1152\",\"type\":\"BasicTickFormatter\"},{\"attributes\":{},\"id\":\"1094\",\"type\":\"BasicTicker\"},{\"attributes\":{},\"id\":\"1035\",\"type\":\"BasicTickFormatter\"},{\"attributes\":{},\"id\":\"1154\",\"type\":\"BasicTickFormatter\"},{\"attributes\":{\"grid_line_color\":{\"value\":null},\"plot\":{\"id\":\"1083\",\"subtype\":\"Figure\",\"type\":\"Plot\"},\"ticker\":{\"id\":\"1094\",\"type\":\"BasicTicker\"}},\"id\":\"1097\",\"type\":\"Grid\"},{\"attributes\":{\"items\":[{\"id\":\"1156\",\"type\":\"LegendItem\"}],\"plot\":{\"id\":\"1122\",\"subtype\":\"Figure\",\"type\":\"Plot\"}},\"id\":\"1155\",\"type\":\"Legend\"},{\"attributes\":{},\"id\":\"1037\",\"type\":\"BasicTickFormatter\"},{\"attributes\":{\"axis_label\":null,\"formatter\":{\"id\":\"1113\",\"type\":\"BasicTickFormatter\"},\"plot\":{\"id\":\"1083\",\"subtype\":\"Figure\",\"type\":\"Plot\"},\"ticker\":{\"id\":\"1099\",\"type\":\"BasicTicker\"},\"visible\":false},\"id\":\"1098\",\"type\":\"LinearAxis\"},{\"attributes\":{\"items\":[{\"id\":\"1039\",\"type\":\"LegendItem\"}],\"plot\":{\"id\":\"1005\",\"subtype\":\"Figure\",\"type\":\"Plot\"}},\"id\":\"1038\",\"type\":\"Legend\"},{\"attributes\":{},\"id\":\"1099\",\"type\":\"BasicTicker\"},{\"attributes\":{\"label\":{\"field\":\"JornadaLaboral\"},\"renderers\":[{\"id\":\"1148\",\"type\":\"GlyphRenderer\"}]},\"id\":\"1156\",\"type\":\"LegendItem\"},{\"attributes\":{\"callback\":null,\"tooltips\":[[\"Jornada\",\"@JornadaLaboral\"],[\"Hombres\",\"@DocentesMasculino\"],[\"Porcentaje\",\"@porcentajeH{0.2f}%\"],[\"Total H/M\",\"@TotalDocentes\"]]},\"id\":\"1158\",\"type\":\"HoverTool\"},{\"attributes\":{\"dimension\":1,\"grid_line_color\":{\"value\":null},\"plot\":{\"id\":\"1083\",\"subtype\":\"Figure\",\"type\":\"Plot\"},\"ticker\":{\"id\":\"1099\",\"type\":\"BasicTicker\"}},\"id\":\"1102\",\"type\":\"Grid\"},{\"attributes\":{\"callback\":null,\"tooltips\":[[\"Jornada\",\"@JornadaLaboral\"],[\"Mujeres\",\"@DocentesFemenino\"],[\"Porcentaje\",\"@porcentajeM{0.2f}%\"],[\"Total H/M\",\"@TotalDocentes\"]]},\"id\":\"1041\",\"type\":\"HoverTool\"},{\"attributes\":{\"active_drag\":\"auto\",\"active_inspect\":\"auto\",\"active_multi\":null,\"active_scroll\":\"auto\",\"active_tap\":\"auto\",\"autohide\":true,\"tools\":[{\"id\":\"1119\",\"type\":\"HoverTool\"}]},\"id\":\"1103\",\"type\":\"Toolbar\"},{\"attributes\":{\"below\":[{\"id\":\"1093\",\"type\":\"LinearAxis\"}],\"left\":[{\"id\":\"1098\",\"type\":\"LinearAxis\"}],\"plot_height\":400,\"plot_width\":400,\"renderers\":[{\"id\":\"1093\",\"type\":\"LinearAxis\"},{\"id\":\"1097\",\"type\":\"Grid\"},{\"id\":\"1098\",\"type\":\"LinearAxis\"},{\"id\":\"1102\",\"type\":\"Grid\"},{\"id\":\"1116\",\"type\":\"Legend\"},{\"id\":\"1109\",\"type\":\"GlyphRenderer\"}],\"sizing_mode\":\"scale_width\",\"title\":{\"id\":\"1082\",\"type\":\"Title\"},\"toolbar\":{\"id\":\"1103\",\"type\":\"Toolbar\"},\"x_range\":{\"id\":\"1085\",\"type\":\"DataRange1d\"},\"x_scale\":{\"id\":\"1089\",\"type\":\"LinearScale\"},\"y_range\":{\"id\":\"1087\",\"type\":\"DataRange1d\"},\"y_scale\":{\"id\":\"1091\",\"type\":\"LinearScale\"}},\"id\":\"1083\",\"subtype\":\"Figure\",\"type\":\"Plot\"},{\"attributes\":{\"field\":\"angleM\",\"include_zero\":true},\"id\":\"1065\",\"type\":\"CumSum\"},{\"attributes\":{\"plot\":null,\"text\":\"Nro de Mujeres por Jornada | Sierra\"},\"id\":\"1043\",\"type\":\"Title\"},{\"attributes\":{\"field\":\"angleH\"},\"id\":\"1105\",\"type\":\"CumSum\"},{\"attributes\":{\"callback\":null},\"id\":\"1046\",\"type\":\"DataRange1d\"},{\"attributes\":{\"field\":\"angleH\"},\"id\":\"1144\",\"type\":\"CumSum\"},{\"attributes\":{\"end_angle\":{\"expr\":{\"id\":\"1105\",\"type\":\"CumSum\"},\"units\":\"rad\"},\"fill_alpha\":{\"value\":0.7},\"fill_color\":{\"field\":\"color\"},\"line_alpha\":{\"value\":0.7},\"line_color\":{\"value\":\"#E6E6E6\"},\"radius\":{\"units\":\"data\",\"value\":0.9},\"start_angle\":{\"expr\":{\"id\":\"1104\",\"type\":\"CumSum\"},\"units\":\"rad\"},\"x\":{\"value\":0},\"y\":{\"value\":0}},\"id\":\"1107\",\"type\":\"Wedge\"},{\"attributes\":{\"callback\":null},\"id\":\"1048\",\"type\":\"DataRange1d\"},{\"attributes\":{\"end_angle\":{\"expr\":{\"id\":\"1105\",\"type\":\"CumSum\"},\"units\":\"rad\"},\"fill_alpha\":{\"value\":0.1},\"fill_color\":{\"value\":\"#1f77b4\"},\"line_alpha\":{\"value\":0.1},\"line_color\":{\"value\":\"#1f77b4\"},\"radius\":{\"units\":\"data\",\"value\":0.9},\"start_angle\":{\"expr\":{\"id\":\"1104\",\"type\":\"CumSum\"},\"units\":\"rad\"},\"x\":{\"value\":0},\"y\":{\"value\":0}},\"id\":\"1108\",\"type\":\"Wedge\"},{\"attributes\":{},\"id\":\"1052\",\"type\":\"LinearScale\"},{\"attributes\":{\"data_source\":{\"id\":\"1002\",\"type\":\"ColumnDataSource\"},\"glyph\":{\"id\":\"1107\",\"type\":\"Wedge\"},\"hover_glyph\":null,\"muted_glyph\":null,\"nonselection_glyph\":{\"id\":\"1108\",\"type\":\"Wedge\"},\"selection_glyph\":null,\"view\":{\"id\":\"1110\",\"type\":\"CDSView\"}},\"id\":\"1109\",\"type\":\"GlyphRenderer\"},{\"attributes\":{\"axis_label\":null,\"formatter\":{\"id\":\"1076\",\"type\":\"BasicTickFormatter\"},\"plot\":{\"id\":\"1044\",\"subtype\":\"Figure\",\"type\":\"Plot\"},\"ticker\":{\"id\":\"1055\",\"type\":\"BasicTicker\"},\"visible\":false},\"id\":\"1054\",\"type\":\"LinearAxis\"},{\"attributes\":{\"source\":{\"id\":\"1002\",\"type\":\"ColumnDataSource\"}},\"id\":\"1110\",\"type\":\"CDSView\"},{\"attributes\":{},\"id\":\"1055\",\"type\":\"BasicTicker\"},{\"attributes\":{},\"id\":\"1113\",\"type\":\"BasicTickFormatter\"},{\"attributes\":{\"grid_line_color\":{\"value\":null},\"plot\":{\"id\":\"1044\",\"subtype\":\"Figure\",\"type\":\"Plot\"},\"ticker\":{\"id\":\"1055\",\"type\":\"BasicTicker\"}},\"id\":\"1058\",\"type\":\"Grid\"},{\"attributes\":{},\"id\":\"1115\",\"type\":\"BasicTickFormatter\"},{\"attributes\":{\"axis_label\":null,\"formatter\":{\"id\":\"1074\",\"type\":\"BasicTickFormatter\"},\"plot\":{\"id\":\"1044\",\"subtype\":\"Figure\",\"type\":\"Plot\"},\"ticker\":{\"id\":\"1060\",\"type\":\"BasicTicker\"},\"visible\":false},\"id\":\"1059\",\"type\":\"LinearAxis\"},{\"attributes\":{\"items\":[{\"id\":\"1117\",\"type\":\"LegendItem\"}],\"plot\":{\"id\":\"1083\",\"subtype\":\"Figure\",\"type\":\"Plot\"}},\"id\":\"1116\",\"type\":\"Legend\"},{\"attributes\":{},\"id\":\"1060\",\"type\":\"BasicTicker\"},{\"attributes\":{\"dimension\":1,\"grid_line_color\":{\"value\":null},\"plot\":{\"id\":\"1044\",\"subtype\":\"Figure\",\"type\":\"Plot\"},\"ticker\":{\"id\":\"1060\",\"type\":\"BasicTicker\"}},\"id\":\"1063\",\"type\":\"Grid\"},{\"attributes\":{\"label\":{\"field\":\"JornadaLaboral\"},\"renderers\":[{\"id\":\"1109\",\"type\":\"GlyphRenderer\"}]},\"id\":\"1117\",\"type\":\"LegendItem\"},{\"attributes\":{\"callback\":null,\"tooltips\":[[\"Jornada\",\"@JornadaLaboral\"],[\"Hombres\",\"@DocentesMasculino\"],[\"Porcentaje\",\"@porcentajeH{0.2f}%\"],[\"Total H/M\",\"@TotalDocentes\"]]},\"id\":\"1119\",\"type\":\"HoverTool\"},{\"attributes\":{\"active_drag\":\"auto\",\"active_inspect\":\"auto\",\"active_multi\":null,\"active_scroll\":\"auto\",\"active_tap\":\"auto\",\"autohide\":true,\"tools\":[{\"id\":\"1080\",\"type\":\"HoverTool\"}]},\"id\":\"1064\",\"type\":\"Toolbar\"},{\"attributes\":{\"end_angle\":{\"expr\":{\"id\":\"1027\",\"type\":\"CumSum\"},\"units\":\"rad\"},\"fill_alpha\":{\"value\":0.7},\"fill_color\":{\"field\":\"color\"},\"line_alpha\":{\"value\":0.7},\"line_color\":{\"value\":\"#E6E6E6\"},\"radius\":{\"units\":\"data\",\"value\":0.9},\"start_angle\":{\"expr\":{\"id\":\"1026\",\"type\":\"CumSum\"},\"units\":\"rad\"},\"x\":{\"value\":0},\"y\":{\"value\":0}},\"id\":\"1029\",\"type\":\"Wedge\"},{\"attributes\":{\"field\":\"angleH\",\"include_zero\":true},\"id\":\"1143\",\"type\":\"CumSum\"},{\"attributes\":{\"plot\":null,\"text\":\"Nro de Hombres por Jornada | Sierra\"},\"id\":\"1121\",\"type\":\"Title\"},{\"attributes\":{\"field\":\"angleM\"},\"id\":\"1066\",\"type\":\"CumSum\"},{\"attributes\":{\"active_drag\":\"auto\",\"active_inspect\":\"auto\",\"active_multi\":null,\"active_scroll\":\"auto\",\"active_tap\":\"auto\",\"autohide\":true,\"tools\":[{\"id\":\"1158\",\"type\":\"HoverTool\"}]},\"id\":\"1142\",\"type\":\"Toolbar\"},{\"attributes\":{\"callback\":null},\"id\":\"1124\",\"type\":\"DataRange1d\"},{\"attributes\":{\"end_angle\":{\"expr\":{\"id\":\"1027\",\"type\":\"CumSum\"},\"units\":\"rad\"},\"fill_alpha\":{\"value\":0.1},\"fill_color\":{\"value\":\"#1f77b4\"},\"line_alpha\":{\"value\":0.1},\"line_color\":{\"value\":\"#1f77b4\"},\"radius\":{\"units\":\"data\",\"value\":0.9},\"start_angle\":{\"expr\":{\"id\":\"1026\",\"type\":\"CumSum\"},\"units\":\"rad\"},\"x\":{\"value\":0},\"y\":{\"value\":0}},\"id\":\"1030\",\"type\":\"Wedge\"},{\"attributes\":{},\"id\":\"1050\",\"type\":\"LinearScale\"},{\"attributes\":{\"end_angle\":{\"expr\":{\"id\":\"1066\",\"type\":\"CumSum\"},\"units\":\"rad\"},\"fill_alpha\":{\"value\":0.7},\"fill_color\":{\"field\":\"color\"},\"line_alpha\":{\"value\":0.7},\"line_color\":{\"value\":\"#E6E6E6\"},\"radius\":{\"units\":\"data\",\"value\":0.9},\"start_angle\":{\"expr\":{\"id\":\"1065\",\"type\":\"CumSum\"},\"units\":\"rad\"},\"x\":{\"value\":0},\"y\":{\"value\":0}},\"id\":\"1068\",\"type\":\"Wedge\"},{\"attributes\":{\"callback\":null},\"id\":\"1126\",\"type\":\"DataRange1d\"},{\"attributes\":{\"end_angle\":{\"expr\":{\"id\":\"1066\",\"type\":\"CumSum\"},\"units\":\"rad\"},\"fill_alpha\":{\"value\":0.1},\"fill_color\":{\"value\":\"#1f77b4\"},\"line_alpha\":{\"value\":0.1},\"line_color\":{\"value\":\"#1f77b4\"},\"radius\":{\"units\":\"data\",\"value\":0.9},\"start_angle\":{\"expr\":{\"id\":\"1065\",\"type\":\"CumSum\"},\"units\":\"rad\"},\"x\":{\"value\":0},\"y\":{\"value\":0}},\"id\":\"1069\",\"type\":\"Wedge\"},{\"attributes\":{},\"id\":\"1128\",\"type\":\"LinearScale\"},{\"attributes\":{\"data_source\":{\"id\":\"1003\",\"type\":\"ColumnDataSource\"},\"glyph\":{\"id\":\"1068\",\"type\":\"Wedge\"},\"hover_glyph\":null,\"muted_glyph\":null,\"nonselection_glyph\":{\"id\":\"1069\",\"type\":\"Wedge\"},\"selection_glyph\":null,\"view\":{\"id\":\"1071\",\"type\":\"CDSView\"}},\"id\":\"1070\",\"type\":\"GlyphRenderer\"},{\"attributes\":{},\"id\":\"1130\",\"type\":\"LinearScale\"},{\"attributes\":{},\"id\":\"1074\",\"type\":\"BasicTickFormatter\"},{\"attributes\":{\"axis_label\":null,\"formatter\":{\"id\":\"1154\",\"type\":\"BasicTickFormatter\"},\"plot\":{\"id\":\"1122\",\"subtype\":\"Figure\",\"type\":\"Plot\"},\"ticker\":{\"id\":\"1133\",\"type\":\"BasicTicker\"},\"visible\":false},\"id\":\"1132\",\"type\":\"LinearAxis\"},{\"attributes\":{},\"id\":\"1076\",\"type\":\"BasicTickFormatter\"},{\"attributes\":{},\"id\":\"1133\",\"type\":\"BasicTicker\"},{\"attributes\":{\"items\":[{\"id\":\"1078\",\"type\":\"LegendItem\"}],\"plot\":{\"id\":\"1044\",\"subtype\":\"Figure\",\"type\":\"Plot\"}},\"id\":\"1077\",\"type\":\"Legend\"},{\"attributes\":{\"grid_line_color\":{\"value\":null},\"plot\":{\"id\":\"1122\",\"subtype\":\"Figure\",\"type\":\"Plot\"},\"ticker\":{\"id\":\"1133\",\"type\":\"BasicTicker\"}},\"id\":\"1136\",\"type\":\"Grid\"},{\"attributes\":{\"axis_label\":null,\"formatter\":{\"id\":\"1152\",\"type\":\"BasicTickFormatter\"},\"plot\":{\"id\":\"1122\",\"subtype\":\"Figure\",\"type\":\"Plot\"},\"ticker\":{\"id\":\"1138\",\"type\":\"BasicTicker\"},\"visible\":false},\"id\":\"1137\",\"type\":\"LinearAxis\"},{\"attributes\":{\"label\":{\"field\":\"JornadaLaboral\"},\"renderers\":[{\"id\":\"1070\",\"type\":\"GlyphRenderer\"}]},\"id\":\"1078\",\"type\":\"LegendItem\"},{\"attributes\":{\"callback\":null,\"tooltips\":[[\"Jornada\",\"@JornadaLaboral\"],[\"Mujeres\",\"@DocentesFemenino\"],[\"Porcentaje\",\"@porcentajeM{0.2f}%\"],[\"Total H/M\",\"@TotalDocentes\"]]},\"id\":\"1080\",\"type\":\"HoverTool\"},{\"attributes\":{},\"id\":\"1138\",\"type\":\"BasicTicker\"},{\"attributes\":{\"below\":[{\"id\":\"1132\",\"type\":\"LinearAxis\"}],\"left\":[{\"id\":\"1137\",\"type\":\"LinearAxis\"}],\"plot_height\":400,\"plot_width\":400,\"renderers\":[{\"id\":\"1132\",\"type\":\"LinearAxis\"},{\"id\":\"1136\",\"type\":\"Grid\"},{\"id\":\"1137\",\"type\":\"LinearAxis\"},{\"id\":\"1141\",\"type\":\"Grid\"},{\"id\":\"1155\",\"type\":\"Legend\"},{\"id\":\"1148\",\"type\":\"GlyphRenderer\"}],\"sizing_mode\":\"scale_width\",\"title\":{\"id\":\"1121\",\"type\":\"Title\"},\"toolbar\":{\"id\":\"1142\",\"type\":\"Toolbar\"},\"x_range\":{\"id\":\"1124\",\"type\":\"DataRange1d\"},\"x_scale\":{\"id\":\"1128\",\"type\":\"LinearScale\"},\"y_range\":{\"id\":\"1126\",\"type\":\"DataRange1d\"},\"y_scale\":{\"id\":\"1130\",\"type\":\"LinearScale\"}},\"id\":\"1122\",\"subtype\":\"Figure\",\"type\":\"Plot\"},{\"attributes\":{\"dimension\":1,\"grid_line_color\":{\"value\":null},\"plot\":{\"id\":\"1122\",\"subtype\":\"Figure\",\"type\":\"Plot\"},\"ticker\":{\"id\":\"1138\",\"type\":\"BasicTicker\"}},\"id\":\"1141\",\"type\":\"Grid\"},{\"attributes\":{\"field\":\"angleH\",\"include_zero\":true},\"id\":\"1104\",\"type\":\"CumSum\"},{\"attributes\":{\"plot\":null,\"text\":\"Nro de Hombres por Jornada | Costa\"},\"id\":\"1082\",\"type\":\"Title\"},{\"attributes\":{\"callback\":null},\"id\":\"1085\",\"type\":\"DataRange1d\"},{\"attributes\":{\"end_angle\":{\"expr\":{\"id\":\"1144\",\"type\":\"CumSum\"},\"units\":\"rad\"},\"fill_alpha\":{\"value\":0.7},\"fill_color\":{\"field\":\"color\"},\"line_alpha\":{\"value\":0.7},\"line_color\":{\"value\":\"#E6E6E6\"},\"radius\":{\"units\":\"data\",\"value\":0.9},\"start_angle\":{\"expr\":{\"id\":\"1143\",\"type\":\"CumSum\"},\"units\":\"rad\"},\"x\":{\"value\":0},\"y\":{\"value\":0}},\"id\":\"1146\",\"type\":\"Wedge\"},{\"attributes\":{\"callback\":null},\"id\":\"1087\",\"type\":\"DataRange1d\"}],\"root_ids\":[\"1162\"]},\"title\":\"Bokeh Application\",\"version\":\"1.0.4\"}};\n",
       "  var render_items = [{\"docid\":\"94427d59-68f1-4938-8c03-d26143782864\",\"roots\":{\"1162\":\"6b369e9d-2b73-411d-9d14-c9defcf67ca2\"}}];\n",
       "  root.Bokeh.embed.embed_items_notebook(docs_json, render_items);\n",
       "\n",
       "  }\n",
       "  if (root.Bokeh !== undefined) {\n",
       "    embed_document(root);\n",
       "  } else {\n",
       "    var attempts = 0;\n",
       "    var timer = setInterval(function(root) {\n",
       "      if (root.Bokeh !== undefined) {\n",
       "        embed_document(root);\n",
       "        clearInterval(timer);\n",
       "      }\n",
       "      attempts++;\n",
       "      if (attempts > 100) {\n",
       "        console.log(\"Bokeh: ERROR: Unable to run BokehJS code because BokehJS library is missing\");\n",
       "        clearInterval(timer);\n",
       "      }\n",
       "    }, 10, root)\n",
       "  }\n",
       "})(window);"
      ],
      "application/vnd.bokehjs_exec.v0+json": ""
     },
     "metadata": {
      "application/vnd.bokehjs_exec.v0+json": {
       "id": "1162"
      }
     },
     "output_type": "display_data"
    }
   ],
   "source": [
    "show(lienzo)"
   ]
  }
 ],
 "metadata": {
  "kernelspec": {
   "display_name": "Python 3",
   "language": "python",
   "name": "python3"
  },
  "language_info": {
   "codemirror_mode": {
    "name": "ipython",
    "version": 3
   },
   "file_extension": ".py",
   "mimetype": "text/x-python",
   "name": "python",
   "nbconvert_exporter": "python",
   "pygments_lexer": "ipython3",
   "version": "3.6.3"
  }
 },
 "nbformat": 4,
 "nbformat_minor": 2
}
